{
 "cells": [
  {
   "cell_type": "code",
   "execution_count": 5,
   "id": "bf1c2fba-9e47-432f-8e2f-13433d129e45",
   "metadata": {
    "execution": {
     "iopub.execute_input": "2022-06-30T23:02:07.388856Z",
     "iopub.status.busy": "2022-06-30T23:02:07.388628Z",
     "iopub.status.idle": "2022-06-30T23:02:11.676048Z",
     "shell.execute_reply": "2022-06-30T23:02:11.675328Z",
     "shell.execute_reply.started": "2022-06-30T23:02:07.388834Z"
    },
    "tags": []
   },
   "outputs": [
    {
     "data": {
      "text/plain": [
       "ClientContext(dashboard_url='127.0.0.1:8265', python_version='3.7.10', ray_version='1.13.0', ray_commit='e4ce38d001dbbe09cd21c497fedd03d692b2be3e', protocol_version='2022-03-16', _num_clients=3, _context_to_restore=<ray.util.client._ClientContext object at 0x7fac51dfffd0>)"
      ]
     },
     "execution_count": 5,
     "metadata": {},
     "output_type": "execute_result"
    }
   ],
   "source": [
    "import ray\n",
    "ray.shutdown()\n",
    "ray.init(address=\"ray://localhost:10001\")"
   ]
  },
  {
   "cell_type": "code",
   "execution_count": 6,
   "id": "d3873ec3-ff53-4d5e-ab4a-4957f4c6907d",
   "metadata": {
    "execution": {
     "iopub.execute_input": "2022-06-30T23:02:17.164386Z",
     "iopub.status.busy": "2022-06-30T23:02:17.164171Z",
     "iopub.status.idle": "2022-06-30T23:02:17.173355Z",
     "shell.execute_reply": "2022-06-30T23:02:17.172787Z",
     "shell.execute_reply.started": "2022-06-30T23:02:17.164363Z"
    },
    "tags": []
   },
   "outputs": [
    {
     "data": {
      "text/plain": [
       "{'memory': 27319277570.0,\n",
       " 'node:172.31.26.25': 1.0,\n",
       " 'object_store_memory': 12200569650.0,\n",
       " 'CPU': 12.0,\n",
       " 'node:172.31.25.104': 1.0,\n",
       " 'node:172.31.31.134': 1.0}"
      ]
     },
     "execution_count": 6,
     "metadata": {},
     "output_type": "execute_result"
    }
   ],
   "source": [
    "# Before cluster resize\n",
    "ray.cluster_resources()"
   ]
  },
  {
   "cell_type": "code",
   "execution_count": 7,
   "id": "a8c25e95-93c3-4331-8003-758a7fddff73",
   "metadata": {
    "execution": {
     "iopub.execute_input": "2022-06-30T23:43:11.339267Z",
     "iopub.status.busy": "2022-06-30T23:43:11.339041Z",
     "iopub.status.idle": "2022-06-30T23:43:14.540007Z",
     "shell.execute_reply": "2022-06-30T23:43:14.538801Z",
     "shell.execute_reply.started": "2022-06-30T23:43:11.339244Z"
    },
    "tags": []
   },
   "outputs": [
    {
     "name": "stdout",
     "output_type": "stream",
     "text": [
      "Resizing ig-339GIILJH877U on j-THYVRP8QUWDE\n"
     ]
    },
    {
     "name": "stderr",
     "output_type": "stream",
     "text": [
      "\n",
      "An error occurred (AccessDeniedException) when calling the ModifyInstanceGroups operation: User: arn:aws:sts::079002598131:assumed-role/EMR_EC2_DefaultRole/i-04d536328369140a0 is not authorized to perform: elasticmapreduce:ModifyInstanceGroups on resource: * because no identity-based policy allows the elasticmapreduce:ModifyInstanceGroups action\n"
     ]
    },
    {
     "ename": "CalledProcessError",
     "evalue": "Command 'b'\\n# I was hoping to do a manual resize here, but ala\\nREGION=$(curl --silent http://169.254.169.254/latest/dynamic/instance-identity/document | jq -r .region)\\nINSTANCE=`wget -q -O - http://169.254.169.254/latest/meta-data/instance-id`\\nCLUSTER_ID=$(aws --region ${REGION} ec2 describe-instances --instance-ids $INSTANCE --query \\'Reservations[0].Instances[0].Tags[?Key==`aws:elasticmapreduce:job-flow-id`].Value\\' | jq -r \\'.[0]\\')\\nCORE_INSTANCE_GROUP=$(aws --region ${REGION} emr list-instances --cluster-id ${CLUSTER_ID} --instance-group-types \"CORE\" | jq -r \\'.Instances[0].InstanceGroupId\\')\\n\\necho \"Resizing ${CORE_INSTANCE_GROUP} on ${CLUSTER_ID}\"\\n\\naws --region ${REGION} emr modify-instance-groups --instance-groups InstanceGroupId=${CORE_INSTANCE_GROUP},InstanceCount=2\\n'' returned non-zero exit status 255.",
     "output_type": "error",
     "traceback": [
      "\u001b[0;31m---------------------------------------------------------------------------\u001b[0m",
      "\u001b[0;31mCalledProcessError\u001b[0m                        Traceback (most recent call last)",
      "\u001b[0;32m<ipython-input-7-8fc3ea4b656d>\u001b[0m in \u001b[0;36m<module>\u001b[0;34m\u001b[0m\n\u001b[0;32m----> 1\u001b[0;31m \u001b[0mget_ipython\u001b[0m\u001b[0;34m(\u001b[0m\u001b[0;34m)\u001b[0m\u001b[0;34m.\u001b[0m\u001b[0mrun_cell_magic\u001b[0m\u001b[0;34m(\u001b[0m\u001b[0;34m'sh'\u001b[0m\u001b[0;34m,\u001b[0m \u001b[0;34m''\u001b[0m\u001b[0;34m,\u001b[0m \u001b[0;34m'\\n# I was hoping to do a manual resize here, but ala\\nREGION=$(curl --silent http://169.254.169.254/latest/dynamic/instance-identity/document | jq -r .region)\\nINSTANCE=`wget -q -O - http://169.254.169.254/latest/meta-data/instance-id`\\nCLUSTER_ID=$(aws --region ${REGION} ec2 describe-instances --instance-ids $INSTANCE --query \\'Reservations[0].Instances[0].Tags[?Key==`aws:elasticmapreduce:job-flow-id`].Value\\' | jq -r \\'.[0]\\')\\nCORE_INSTANCE_GROUP=$(aws --region ${REGION} emr list-instances --cluster-id ${CLUSTER_ID} --instance-group-types \"CORE\" | jq -r \\'.Instances[0].InstanceGroupId\\')\\n\\necho \"Resizing ${CORE_INSTANCE_GROUP} on ${CLUSTER_ID}\"\\n\\naws --region ${REGION} emr modify-instance-groups --instance-groups InstanceGroupId=${CORE_INSTANCE_GROUP},InstanceCount=2\\n'\u001b[0m\u001b[0;34m)\u001b[0m\u001b[0;34m\u001b[0m\u001b[0;34m\u001b[0m\u001b[0m\n\u001b[0m",
      "\u001b[0;32m/emr/notebook-env/lib/python3.7/site-packages/IPython/core/interactiveshell.py\u001b[0m in \u001b[0;36mrun_cell_magic\u001b[0;34m(self, magic_name, line, cell)\u001b[0m\n\u001b[1;32m   2417\u001b[0m             \u001b[0;32mwith\u001b[0m \u001b[0mself\u001b[0m\u001b[0;34m.\u001b[0m\u001b[0mbuiltin_trap\u001b[0m\u001b[0;34m:\u001b[0m\u001b[0;34m\u001b[0m\u001b[0;34m\u001b[0m\u001b[0m\n\u001b[1;32m   2418\u001b[0m                 \u001b[0margs\u001b[0m \u001b[0;34m=\u001b[0m \u001b[0;34m(\u001b[0m\u001b[0mmagic_arg_s\u001b[0m\u001b[0;34m,\u001b[0m \u001b[0mcell\u001b[0m\u001b[0;34m)\u001b[0m\u001b[0;34m\u001b[0m\u001b[0;34m\u001b[0m\u001b[0m\n\u001b[0;32m-> 2419\u001b[0;31m                 \u001b[0mresult\u001b[0m \u001b[0;34m=\u001b[0m \u001b[0mfn\u001b[0m\u001b[0;34m(\u001b[0m\u001b[0;34m*\u001b[0m\u001b[0margs\u001b[0m\u001b[0;34m,\u001b[0m \u001b[0;34m**\u001b[0m\u001b[0mkwargs\u001b[0m\u001b[0;34m)\u001b[0m\u001b[0;34m\u001b[0m\u001b[0;34m\u001b[0m\u001b[0m\n\u001b[0m\u001b[1;32m   2420\u001b[0m             \u001b[0;32mreturn\u001b[0m \u001b[0mresult\u001b[0m\u001b[0;34m\u001b[0m\u001b[0;34m\u001b[0m\u001b[0m\n\u001b[1;32m   2421\u001b[0m \u001b[0;34m\u001b[0m\u001b[0m\n",
      "\u001b[0;32m/emr/notebook-env/lib/python3.7/site-packages/IPython/core/magics/script.py\u001b[0m in \u001b[0;36mnamed_script_magic\u001b[0;34m(line, cell)\u001b[0m\n\u001b[1;32m    140\u001b[0m             \u001b[0;32melse\u001b[0m\u001b[0;34m:\u001b[0m\u001b[0;34m\u001b[0m\u001b[0;34m\u001b[0m\u001b[0m\n\u001b[1;32m    141\u001b[0m                 \u001b[0mline\u001b[0m \u001b[0;34m=\u001b[0m \u001b[0mscript\u001b[0m\u001b[0;34m\u001b[0m\u001b[0;34m\u001b[0m\u001b[0m\n\u001b[0;32m--> 142\u001b[0;31m             \u001b[0;32mreturn\u001b[0m \u001b[0mself\u001b[0m\u001b[0;34m.\u001b[0m\u001b[0mshebang\u001b[0m\u001b[0;34m(\u001b[0m\u001b[0mline\u001b[0m\u001b[0;34m,\u001b[0m \u001b[0mcell\u001b[0m\u001b[0;34m)\u001b[0m\u001b[0;34m\u001b[0m\u001b[0;34m\u001b[0m\u001b[0m\n\u001b[0m\u001b[1;32m    143\u001b[0m \u001b[0;34m\u001b[0m\u001b[0m\n\u001b[1;32m    144\u001b[0m         \u001b[0;31m# write a basic docstring:\u001b[0m\u001b[0;34m\u001b[0m\u001b[0;34m\u001b[0m\u001b[0;34m\u001b[0m\u001b[0m\n",
      "\u001b[0;32m/emr/notebook-env/lib/python3.7/site-packages/decorator.py\u001b[0m in \u001b[0;36mfun\u001b[0;34m(*args, **kw)\u001b[0m\n\u001b[1;32m    230\u001b[0m             \u001b[0;32mif\u001b[0m \u001b[0;32mnot\u001b[0m \u001b[0mkwsyntax\u001b[0m\u001b[0;34m:\u001b[0m\u001b[0;34m\u001b[0m\u001b[0;34m\u001b[0m\u001b[0m\n\u001b[1;32m    231\u001b[0m                 \u001b[0margs\u001b[0m\u001b[0;34m,\u001b[0m \u001b[0mkw\u001b[0m \u001b[0;34m=\u001b[0m \u001b[0mfix\u001b[0m\u001b[0;34m(\u001b[0m\u001b[0margs\u001b[0m\u001b[0;34m,\u001b[0m \u001b[0mkw\u001b[0m\u001b[0;34m,\u001b[0m \u001b[0msig\u001b[0m\u001b[0;34m)\u001b[0m\u001b[0;34m\u001b[0m\u001b[0;34m\u001b[0m\u001b[0m\n\u001b[0;32m--> 232\u001b[0;31m             \u001b[0;32mreturn\u001b[0m \u001b[0mcaller\u001b[0m\u001b[0;34m(\u001b[0m\u001b[0mfunc\u001b[0m\u001b[0;34m,\u001b[0m \u001b[0;34m*\u001b[0m\u001b[0;34m(\u001b[0m\u001b[0mextras\u001b[0m \u001b[0;34m+\u001b[0m \u001b[0margs\u001b[0m\u001b[0;34m)\u001b[0m\u001b[0;34m,\u001b[0m \u001b[0;34m**\u001b[0m\u001b[0mkw\u001b[0m\u001b[0;34m)\u001b[0m\u001b[0;34m\u001b[0m\u001b[0;34m\u001b[0m\u001b[0m\n\u001b[0m\u001b[1;32m    233\u001b[0m     \u001b[0mfun\u001b[0m\u001b[0;34m.\u001b[0m\u001b[0m__name__\u001b[0m \u001b[0;34m=\u001b[0m \u001b[0mfunc\u001b[0m\u001b[0;34m.\u001b[0m\u001b[0m__name__\u001b[0m\u001b[0;34m\u001b[0m\u001b[0;34m\u001b[0m\u001b[0m\n\u001b[1;32m    234\u001b[0m     \u001b[0mfun\u001b[0m\u001b[0;34m.\u001b[0m\u001b[0m__doc__\u001b[0m \u001b[0;34m=\u001b[0m \u001b[0mfunc\u001b[0m\u001b[0;34m.\u001b[0m\u001b[0m__doc__\u001b[0m\u001b[0;34m\u001b[0m\u001b[0;34m\u001b[0m\u001b[0m\n",
      "\u001b[0;32m/emr/notebook-env/lib/python3.7/site-packages/IPython/core/magic.py\u001b[0m in \u001b[0;36m<lambda>\u001b[0;34m(f, *a, **k)\u001b[0m\n\u001b[1;32m    185\u001b[0m     \u001b[0;31m# but it's overkill for just that one bit of state.\u001b[0m\u001b[0;34m\u001b[0m\u001b[0;34m\u001b[0m\u001b[0;34m\u001b[0m\u001b[0m\n\u001b[1;32m    186\u001b[0m     \u001b[0;32mdef\u001b[0m \u001b[0mmagic_deco\u001b[0m\u001b[0;34m(\u001b[0m\u001b[0marg\u001b[0m\u001b[0;34m)\u001b[0m\u001b[0;34m:\u001b[0m\u001b[0;34m\u001b[0m\u001b[0;34m\u001b[0m\u001b[0m\n\u001b[0;32m--> 187\u001b[0;31m         \u001b[0mcall\u001b[0m \u001b[0;34m=\u001b[0m \u001b[0;32mlambda\u001b[0m \u001b[0mf\u001b[0m\u001b[0;34m,\u001b[0m \u001b[0;34m*\u001b[0m\u001b[0ma\u001b[0m\u001b[0;34m,\u001b[0m \u001b[0;34m**\u001b[0m\u001b[0mk\u001b[0m\u001b[0;34m:\u001b[0m \u001b[0mf\u001b[0m\u001b[0;34m(\u001b[0m\u001b[0;34m*\u001b[0m\u001b[0ma\u001b[0m\u001b[0;34m,\u001b[0m \u001b[0;34m**\u001b[0m\u001b[0mk\u001b[0m\u001b[0;34m)\u001b[0m\u001b[0;34m\u001b[0m\u001b[0;34m\u001b[0m\u001b[0m\n\u001b[0m\u001b[1;32m    188\u001b[0m \u001b[0;34m\u001b[0m\u001b[0m\n\u001b[1;32m    189\u001b[0m         \u001b[0;32mif\u001b[0m \u001b[0mcallable\u001b[0m\u001b[0;34m(\u001b[0m\u001b[0marg\u001b[0m\u001b[0;34m)\u001b[0m\u001b[0;34m:\u001b[0m\u001b[0;34m\u001b[0m\u001b[0;34m\u001b[0m\u001b[0m\n",
      "\u001b[0;32m/emr/notebook-env/lib/python3.7/site-packages/IPython/core/magics/script.py\u001b[0m in \u001b[0;36mshebang\u001b[0;34m(self, line, cell)\u001b[0m\n\u001b[1;32m    243\u001b[0m             \u001b[0msys\u001b[0m\u001b[0;34m.\u001b[0m\u001b[0mstderr\u001b[0m\u001b[0;34m.\u001b[0m\u001b[0mflush\u001b[0m\u001b[0;34m(\u001b[0m\u001b[0;34m)\u001b[0m\u001b[0;34m\u001b[0m\u001b[0;34m\u001b[0m\u001b[0m\n\u001b[1;32m    244\u001b[0m         \u001b[0;32mif\u001b[0m \u001b[0margs\u001b[0m\u001b[0;34m.\u001b[0m\u001b[0mraise_error\u001b[0m \u001b[0;32mand\u001b[0m \u001b[0mp\u001b[0m\u001b[0;34m.\u001b[0m\u001b[0mreturncode\u001b[0m\u001b[0;34m!=\u001b[0m\u001b[0;36m0\u001b[0m\u001b[0;34m:\u001b[0m\u001b[0;34m\u001b[0m\u001b[0;34m\u001b[0m\u001b[0m\n\u001b[0;32m--> 245\u001b[0;31m             \u001b[0;32mraise\u001b[0m \u001b[0mCalledProcessError\u001b[0m\u001b[0;34m(\u001b[0m\u001b[0mp\u001b[0m\u001b[0;34m.\u001b[0m\u001b[0mreturncode\u001b[0m\u001b[0;34m,\u001b[0m \u001b[0mcell\u001b[0m\u001b[0;34m,\u001b[0m \u001b[0moutput\u001b[0m\u001b[0;34m=\u001b[0m\u001b[0mout\u001b[0m\u001b[0;34m,\u001b[0m \u001b[0mstderr\u001b[0m\u001b[0;34m=\u001b[0m\u001b[0merr\u001b[0m\u001b[0;34m)\u001b[0m\u001b[0;34m\u001b[0m\u001b[0;34m\u001b[0m\u001b[0m\n\u001b[0m\u001b[1;32m    246\u001b[0m \u001b[0;34m\u001b[0m\u001b[0m\n\u001b[1;32m    247\u001b[0m     \u001b[0;32mdef\u001b[0m \u001b[0m_run_script\u001b[0m\u001b[0;34m(\u001b[0m\u001b[0mself\u001b[0m\u001b[0;34m,\u001b[0m \u001b[0mp\u001b[0m\u001b[0;34m,\u001b[0m \u001b[0mcell\u001b[0m\u001b[0;34m,\u001b[0m \u001b[0mto_close\u001b[0m\u001b[0;34m)\u001b[0m\u001b[0;34m:\u001b[0m\u001b[0;34m\u001b[0m\u001b[0;34m\u001b[0m\u001b[0m\n",
      "\u001b[0;31mCalledProcessError\u001b[0m: Command 'b'\\n# I was hoping to do a manual resize here, but ala\\nREGION=$(curl --silent http://169.254.169.254/latest/dynamic/instance-identity/document | jq -r .region)\\nINSTANCE=`wget -q -O - http://169.254.169.254/latest/meta-data/instance-id`\\nCLUSTER_ID=$(aws --region ${REGION} ec2 describe-instances --instance-ids $INSTANCE --query \\'Reservations[0].Instances[0].Tags[?Key==`aws:elasticmapreduce:job-flow-id`].Value\\' | jq -r \\'.[0]\\')\\nCORE_INSTANCE_GROUP=$(aws --region ${REGION} emr list-instances --cluster-id ${CLUSTER_ID} --instance-group-types \"CORE\" | jq -r \\'.Instances[0].InstanceGroupId\\')\\n\\necho \"Resizing ${CORE_INSTANCE_GROUP} on ${CLUSTER_ID}\"\\n\\naws --region ${REGION} emr modify-instance-groups --instance-groups InstanceGroupId=${CORE_INSTANCE_GROUP},InstanceCount=2\\n'' returned non-zero exit status 255."
     ]
    }
   ],
   "source": [
    "%%sh\n",
    "\n",
    "# I was hoping to do a manual resize here, but ala\n",
    "REGION=$(curl --silent http://169.254.169.254/latest/dynamic/instance-identity/document | jq -r .region)\n",
    "INSTANCE=`wget -q -O - http://169.254.169.254/latest/meta-data/instance-id`\n",
    "CLUSTER_ID=$(aws --region ${REGION} ec2 describe-instances --instance-ids $INSTANCE --query 'Reservations[0].Instances[0].Tags[?Key==`aws:elasticmapreduce:job-flow-id`].Value' | jq -r '.[0]')\n",
    "CORE_INSTANCE_GROUP=$(aws --region ${REGION} emr list-instances --cluster-id ${CLUSTER_ID} --instance-group-types \"CORE\" | jq -r '.Instances[0].InstanceGroupId')\n",
    "\n",
    "#echo \"Resizing ${CORE_INSTANCE_GROUP} on ${CLUSTER_ID}\"\n",
    "#aws --region ${REGION} emr modify-instance-groups --instance-groups InstanceGroupId=${CORE_INSTANCE_GROUP},InstanceCount=2\n"
   ]
  },
  {
   "cell_type": "code",
   "execution_count": null,
   "id": "6574dffe-d398-423f-bb97-0ff7770f16a9",
   "metadata": {
    "execution": {
     "iopub.status.busy": "2022-06-30T04:28:45.005717Z",
     "iopub.status.idle": "2022-06-30T04:28:45.005962Z",
     "shell.execute_reply": "2022-06-30T04:28:45.005840Z"
    },
    "tags": []
   },
   "outputs": [],
   "source": [
    "# After cluster resize\n",
    "ray.cluster_resources()"
   ]
  },
  {
   "cell_type": "code",
   "execution_count": null,
   "id": "63d322a3-e578-4eda-9601-197f1bee2d7e",
   "metadata": {
    "execution": {
     "iopub.status.busy": "2022-06-30T04:28:45.006694Z",
     "iopub.status.idle": "2022-06-30T04:28:45.006923Z",
     "shell.execute_reply": "2022-06-30T04:28:45.006808Z"
    },
    "tags": []
   },
   "outputs": [],
   "source": [
    "ray.shutdown()"
   ]
  },
  {
   "cell_type": "code",
   "execution_count": null,
   "id": "b161d162-ff8c-4bc2-84b6-cd2cc00c597e",
   "metadata": {
    "execution": {
     "iopub.status.busy": "2022-06-30T04:28:45.007542Z",
     "iopub.status.idle": "2022-06-30T04:28:45.007756Z",
     "shell.execute_reply": "2022-06-30T04:28:45.007655Z"
    },
    "tags": []
   },
   "outputs": [],
   "source": [
    "import numpy as np\n",
    "from sklearn.datasets import load_digits\n",
    "from sklearn.model_selection import RandomizedSearchCV\n",
    "from sklearn.svm import SVC\n",
    "import ray\n",
    "ray.shutdown()\n",
    "\n",
    "import joblib\n",
    "from ray.util.joblib import register_ray\n",
    "\n",
    "register_ray()\n",
    "#ray.init(address=\"localhost:6379\")\n",
    "ray.init(\"ray://localhost:10001\")\n",
    "\n",
    "#import mlflow\n",
    "#mlflow.set_tracking_uri('http://127.0.0.1:5001')\n",
    "# mlflow.autolog() #log_models=False, exclusive=True)\n",
    "import sklearn\n",
    "#mlflow.sklearn.autolog()#log_models=True)\n",
    "\n",
    "digits = load_digits()\n",
    "\n",
    "param_space = {\n",
    "    'C': np.logspace(-6, 6, 30),\n",
    "    'gamma': np.logspace(-8, 8, 30),\n",
    "    'tol': np.logspace(-4, -1, 30),\n",
    "    'class_weight': [None, 'balanced'],\n",
    "}\n",
    "model = SVC(kernel='rbf')\n",
    "search = RandomizedSearchCV(model, param_space, cv=2, n_iter=5, verbose=10)\n",
    "\n",
    "with joblib.parallel_backend('ray'):\n",
    "    search.fit(digits.data, digits.target)"
   ]
  }
 ],
 "metadata": {
  "kernelspec": {
   "display_name": "Python 3",
   "language": "python",
   "name": "python3"
  },
  "language_info": {
   "codemirror_mode": {
    "name": "ipython",
    "version": 3
   },
   "file_extension": ".py",
   "mimetype": "text/x-python",
   "name": "python",
   "nbconvert_exporter": "python",
   "pygments_lexer": "ipython3",
   "version": "3.7.10"
  }
 },
 "nbformat": 4,
 "nbformat_minor": 5
}
