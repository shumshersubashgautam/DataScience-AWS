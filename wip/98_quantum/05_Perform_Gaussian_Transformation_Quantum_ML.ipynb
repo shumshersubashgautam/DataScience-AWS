{
 "cells": [
  {
   "cell_type": "code",
   "execution_count": 1,
   "metadata": {},
   "outputs": [],
   "source": [
    "# This cell is added by sphinx-gallery\n",
    "# It can be customized to whatever you like\n",
    "%matplotlib inline"
   ]
  },
  {
   "cell_type": "markdown",
   "metadata": {},
   "source": [
    "\n",
    "\n",
    "Gaussian transformation\n",
    "=======================\n",
    "\n",
    ".. meta::\n",
    "    :property=\"og:description\": Use quantum machine learning techniques to tune a beamsplitter.\n",
    "    :property=\"og:image\": https://pennylane.ai/qml/_images/gauss-circuit.png\n",
    "\n",
    ".. related:: \n",
    "   tutorial_plugins_hybrid Plugins and Hybrid computation\n",
    "   quantum_neural_net Function fitting with a photonic quantum neural network\n",
    "   qonn Optimizing a quantum optical neural network\n",
    "\n",
    "*Author: PennyLane dev team. Last updated: 16 Oct 2020.*\n",
    "\n",
    "This tutorial demonstrates the basic working principles of PennyLane for\n",
    "continuous-variable (CV) photonic devices. For more details about photonic\n",
    "quantum computing, the\n",
    "`Strawberry Fields documentation <https://strawberryfields.readthedocs.io/en/latest/>`_\n",
    "is a great starting point.\n",
    "\n",
    "The quantum circuit\n",
    "-------------------\n",
    "\n",
    "For this basic tutorial, we will consider a special subset of CV operations:\n",
    "the *Gaussian transformations*. We work with the following simple Gaussian circuit:\n",
    "\n",
    ".. figure:: ../demonstrations/gaussian_transformation/gaussian_transformation.svg\n",
    "    :align: center\n",
    "    :width: 40%\n",
    "    :target: javascript:void(0);\n",
    "\n",
    "What is this circuit doing?\n",
    "\n",
    "1. **We begin with one wire (qumode) in the vacuum state**. Note that we use the same\n",
    "   notation $|0\\rangle$ for the initial state as the previous qubit tutorial.\n",
    "   In a photonic CV system, this state is the *vacuum state*, i.e., the state with no\n",
    "   photons in the wire.\n",
    "\n",
    "2. **We displace the qumode**. The displacement gate linearly shifts the state of the\n",
    "   qumode in phase space. The vacuum state is centered at the origin in phase space,\n",
    "   while the displaced state will be centered at the point $\\alpha$.\n",
    "\n",
    "3. **We rotate the qumode**. This is another linear transformation in phase space,\n",
    "   albeit a rotation (by angle $\\phi$) instead of a displacement.\n",
    "\n",
    "4. **Finally, we measure the mean photon number** $\\langle\\hat{n}\\rangle =\n",
    "   \\langle\\hat{a}^\\dagger \\hat{a}\\rangle$. This quantity, which tells us the average amount of\n",
    "   photons in the final state, is proportional to the energy of the photonic system.\n"
   ]
  },
  {
   "cell_type": "markdown",
   "metadata": {},
   "source": [
    "The aim of this tutorial is to optimize the circuit parameters $(\\alpha, \\phi)$\n",
    "such that the mean photon number is equal to one. The rotation gate is actually a\n",
    "*passive transformation*, meaning that it does not change the energy of the system.\n",
    "The displacement gate is an *active transformation*, which modifies the energy of the\n",
    "photonic system.\n",
    "\n",
    "Constructing the QNode\n",
    "----------------------\n",
    "\n",
    "As before, we import PennyLane, as well as the wrapped version of NumPy provided\n",
    "by PennyLane:\n",
    "\n"
   ]
  },
  {
   "cell_type": "code",
   "execution_count": 2,
   "metadata": {},
   "outputs": [],
   "source": [
    "import pennylane as qml\n",
    "from pennylane import numpy as np"
   ]
  },
  {
   "cell_type": "markdown",
   "metadata": {},
   "source": [
    "Next, we instantiate a device which will be used to evaluate the circuit.\n",
    "Because our circuit contains only Gaussian operations, we can make use of the\n",
    "built-in ``default.gaussian`` device.\n",
    "\n"
   ]
  },
  {
   "cell_type": "code",
   "execution_count": 3,
   "metadata": {},
   "outputs": [],
   "source": [
    "dev_gaussian = qml.device(\"default.gaussian\", wires=1)"
   ]
  },
  {
   "cell_type": "markdown",
   "metadata": {},
   "source": [
    "After initializing the device, we can construct our quantum node. As before, we use the\n",
    ":func:`~.pennylane.qnode` to convert our quantum function\n",
    "(encoded by the circuit above) into a quantum node running on the ``default.gaussian``\n",
    "device.\n",
    "\n"
   ]
  },
  {
   "cell_type": "code",
   "execution_count": 4,
   "metadata": {},
   "outputs": [],
   "source": [
    "@qml.qnode(dev_gaussian)\n",
    "def mean_photon_gaussian(mag_alpha, phase_alpha, phi):\n",
    "    qml.Displacement(mag_alpha, phase_alpha, wires=0)\n",
    "    qml.Rotation(phi, wires=0)\n",
    "    return qml.expval(qml.NumberOperator(0))"
   ]
  },
  {
   "cell_type": "markdown",
   "metadata": {},
   "source": [
    "Notice that we have broken up the complex number $\\alpha$ into two real\n",
    "numbers ``mag_alpha`` and ``phase_alpha``, which form a polar representation of\n",
    "$\\alpha$. This is so that the notion of a gradient is clear and well-defined.\n",
    "\n"
   ]
  },
  {
   "cell_type": "markdown",
   "metadata": {},
   "source": [
    "Optimization\n",
    "------------\n",
    "\n",
    "As in the `qubit rotation <qubit_rotation>` tutorial, let's now use one\n",
    "of the built-in PennyLane optimizers in order to optimize the quantum circuit\n",
    "towards the desired output. We want the mean photon number to be exactly one,\n",
    "so we will use a squared-difference cost function:\n",
    "\n"
   ]
  },
  {
   "cell_type": "code",
   "execution_count": 5,
   "metadata": {},
   "outputs": [],
   "source": [
    "def cost(params):\n",
    "    return (mean_photon_gaussian(params[0], params[1], params[2]) - 1.0) ** 2"
   ]
  },
  {
   "cell_type": "markdown",
   "metadata": {},
   "source": [
    "At the beginning of the optimization, we choose arbitrary small initial parameters:\n",
    "\n"
   ]
  },
  {
   "cell_type": "code",
   "execution_count": 6,
   "metadata": {},
   "outputs": [
    {
     "name": "stdout",
     "output_type": "stream",
     "text": [
      "0.9995500506249999\n"
     ]
    }
   ],
   "source": [
    "init_params = [0.015, 0.02, 0.005]\n",
    "print(cost(init_params))"
   ]
  },
  {
   "cell_type": "markdown",
   "metadata": {},
   "source": [
    "When the gate parameters are near to zero, the gates are close to the\n",
    "identity transformation, which leaves the initial state largely unchanged.\n",
    "Since the initial state contains no photons, the mean photon number of the\n",
    "circuit output is approximately zero, and the cost is close to one.\n",
    "\n"
   ]
  },
  {
   "cell_type": "markdown",
   "metadata": {},
   "source": [
    "<div class=\"alert alert-info\"><h4>Note</h4><p>We avoided initial parameters which are exactly zero because that\n",
    "    corresponds to a critical point with zero gradient.</p></div>\n",
    "\n",
    "Now, let's use the :class:`~.pennylane.GradientDescentOptimizer`, and update the circuit\n",
    "parameters over 100 optimization steps.\n",
    "\n"
   ]
  },
  {
   "cell_type": "code",
   "execution_count": 7,
   "metadata": {},
   "outputs": [
    {
     "name": "stdout",
     "output_type": "stream",
     "text": [
      "Cost after step     1: 0.999118\n",
      "Cost after step     2: 0.998273\n",
      "Cost after step     3: 0.996618\n",
      "Cost after step     4: 0.993382\n",
      "Cost after step     5: 0.987074\n",
      "Cost after step     6: 0.974837\n",
      "Cost after step     7: 0.951332\n",
      "Cost after step     8: 0.907043\n",
      "Cost after step     9: 0.826649\n",
      "Cost after step    10: 0.690812\n",
      "Cost after step    11: 0.490303\n",
      "Cost after step    12: 0.258845\n",
      "Cost after step    13: 0.083224\n",
      "Cost after step    14: 0.013179\n",
      "Cost after step    15: 0.001001\n",
      "Cost after step    16: 0.000049\n",
      "Cost after step    17: 0.000002\n",
      "Cost after step    18: 0.000000\n",
      "Cost after step    19: 0.000000\n",
      "Cost after step    20: 0.000000\n",
      "Optimized mag_alpha:0.999994\n",
      "Optimized phase_alpha:0.020000\n",
      "Optimized phi:0.005000\n"
     ]
    }
   ],
   "source": [
    "# initialise the optimizer\n",
    "opt = qml.GradientDescentOptimizer(stepsize=0.1)\n",
    "\n",
    "# set the number of steps\n",
    "steps = 20\n",
    "# set the initial parameter values\n",
    "params = init_params\n",
    "\n",
    "for i in range(steps):\n",
    "    # update the circuit parameters\n",
    "    params = opt.step(cost, params)\n",
    "\n",
    "    print(\"Cost after step {:5d}: {:8f}\".format(i + 1, cost(params)))\n",
    "\n",
    "print(\"Optimized mag_alpha:{:8f}\".format(params[0]))\n",
    "print(\"Optimized phase_alpha:{:8f}\".format(params[1]))\n",
    "print(\"Optimized phi:{:8f}\".format(params[2]))"
   ]
  },
  {
   "cell_type": "markdown",
   "metadata": {},
   "source": [
    "The optimization converges after about 20 steps to a cost function value\n",
    "of zero.\n",
    "\n",
    "We observe that the two angular parameters ``phase_alpha`` and ``phi``\n",
    "do not change during the optimization. Only the magnitude of the complex\n",
    "displacement $|\\alpha|$ affects the mean photon number of the circuit.\n",
    "\n",
    "Continue on to the next tutorial, `plugins_hybrid`, to learn how to\n",
    "utilize the extensive plugin ecosystem of PennyLane,\n",
    "build continuous-variable (CV) quantum nodes, and to see an example of a\n",
    "hybrid qubit-CV-classical computation using PennyLane.\n",
    "\n"
   ]
  }
 ],
 "metadata": {
  "kernelspec": {
   "display_name": "conda_braket",
   "language": "python",
   "name": "conda_braket"
  },
  "language_info": {
   "codemirror_mode": {
    "name": "ipython",
    "version": 3
   },
   "file_extension": ".py",
   "mimetype": "text/x-python",
   "name": "python",
   "nbconvert_exporter": "python",
   "pygments_lexer": "ipython3",
   "version": "3.7.10"
  }
 },
 "nbformat": 4,
 "nbformat_minor": 1
}
