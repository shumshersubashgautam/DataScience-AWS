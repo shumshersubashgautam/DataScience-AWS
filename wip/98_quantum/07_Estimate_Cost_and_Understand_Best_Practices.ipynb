{
 "cells": [
  {
   "cell_type": "markdown",
   "metadata": {},
   "source": [
    "# Braket QPU Cost Estimator\n",
    "\n",
    "Amazon Braket provides access to quantum computers, managed simulators that simulate quantum circuits, and managed notebook development environments. This notebook provides a simple function to estimate the cost of a simulation using a quantum computer and a set of cost estimate best practices to follow when submitting calculations.\n",
    "\n",
    "There are two pricing components when using a quantum computer, or quantum processing unit (QPU), on Amazon Braket: a per-shot fee and a per-task fee.\n",
    "\n",
    "A shot is a single execution of a quantum algorithm on a QPU. For example, a shot is a single pass through each stage of a complete quantum circuit on a gate-based QPU from IonQ or Rigetti. When you use a D-Wave quantum annealer, a shot is when you obtain a result sample of a quantum annealing problem. The per-shot pricing depends on the type of QPU used. The per-shot price is not affected by the number or type of gates used in a quantum circuit or the number of variables used in a quantum annealing problem.\n",
    "\n",
    "A task is a sequence of repeated shots based on the same circuit design or annealing problem. You define how many shots you want included in a task when you submit the task to Amazon Braket. Per-task pricing is the same across all QPUs.\n",
    "\n",
    "You will also be billed separately for use of each of these capabilities, as well as other AWS services that you use with Amazon Braket such as Amazon S3 for storing the results of quantum computations. The cost estimate function provided below does not account for the cost of these services. "
   ]
  },
  {
   "cell_type": "markdown",
   "metadata": {},
   "source": [
    "# Cost Estimate Function"
   ]
  },
  {
   "cell_type": "code",
   "execution_count": 1,
   "metadata": {},
   "outputs": [],
   "source": [
    "from braket.aws import AwsDevice, AwsQuantumTask"
   ]
  },
  {
   "cell_type": "code",
   "execution_count": 2,
   "metadata": {},
   "outputs": [],
   "source": [
    "def estimate_cost(device=None, tasks=1, shots_per_task = 1000):\n",
    "    \"\"\"\n",
    "    Function to return the estimate cost of QPU simulation. \n",
    "\n",
    "    Input:\n",
    "        device = AwsDevice(\"AWS_QPU_ARN\")\n",
    "        \n",
    "            example: AwsDevice(\"arn:aws:braket:::device/qpu/ionq/ionQdevice\")\n",
    "            \n",
    "        tasks = maximum number of tasks allowed in a variational calculation (user defined parameter)\n",
    "        \n",
    "        shots_per_task = number of shots per task (user defined parameter)\n",
    "        \n",
    "    \n",
    "    Example output: \n",
    "        --------------------------------------------------------\n",
    "        AWS Device:       'device_name'\n",
    "        Number of tasks:  X\n",
    "        Shots per task:   XXXX\n",
    "        Price per task:   $X.X\n",
    "        Price per shot:   $X.XX\n",
    "\n",
    "        Cost estimate:    $X.XX \n",
    "        --------------------------------------------------------\n",
    "        \n",
    "    \n",
    "    Note: \n",
    "        This function calculates the cost from the number of tasks and shots. \n",
    "        It does not include the cost associated with other AWS services (Braket notebooks, S3, etc.)\n",
    "        \n",
    "    \"\"\"\n",
    "    \n",
    "    price_per_task = 0.3\n",
    "            \n",
    "    price_per_shot = device.properties.service.deviceCost.price\n",
    "    price = tasks * price_per_task \\\n",
    "          + tasks * shots_per_task * price_per_shot  \n",
    "    print('--------------------------------------------------------')\n",
    "    print('AWS Device:       {}'.format(device.name))    \n",
    "    print('Number of tasks:  {}'.format(tasks))\n",
    "    print('Shots per task:   {}'.format(shots_per_task))\n",
    "    print('Price per task:   $0.3')\n",
    "    print('Price per shot:   ${}\\n'.format(price_per_shot))\n",
    "    print('Cost estimate:    ${}'.format(price)) \n",
    "    print('--------------------------------------------------------\\n\\n')\n",
    "        "
   ]
  },
  {
   "cell_type": "markdown",
   "metadata": {},
   "source": [
    "# Examples\n",
    "In this section we provide two common scenarios where one may want to use the cost estimator function provided above."
   ]
  },
  {
   "cell_type": "code",
   "execution_count": 3,
   "metadata": {},
   "outputs": [],
   "source": [
    "# general imports\n",
    "import matplotlib.pyplot as plt\n",
    "# magic word for producing visualizations in notebook\n",
    "%matplotlib inline\n",
    "\n",
    "# AWS imports: Import Braket SDK modules\n",
    "from braket.circuits import Circuit\n",
    "from braket.devices import LocalSimulator"
   ]
  },
  {
   "cell_type": "code",
   "execution_count": 4,
   "metadata": {},
   "outputs": [],
   "source": [
    "# Set the S3 bucket\n",
    "my_bucket = # TODO:  Fill in the name of the bucket\n",
    "my_prefix = \"demo\" # the name of the folder in the bucket\n",
    "s3_folder = (my_bucket, my_prefix)"
   ]
  },
  {
   "cell_type": "markdown",
   "metadata": {},
   "source": [
    "## Example 1 - Single Task Simulations"
   ]
  },
  {
   "cell_type": "code",
   "execution_count": 5,
   "metadata": {},
   "outputs": [
    {
     "name": "stdout",
     "output_type": "stream",
     "text": [
      "T  : |0|1|\n",
      "          \n",
      "q0 : -H-C-\n",
      "        | \n",
      "q1 : ---X-\n",
      "\n",
      "T  : |0|1|\n"
     ]
    }
   ],
   "source": [
    "# Define a Bell circuit\n",
    "bell = Circuit().h(0).cnot(0, 1)\n",
    "print(bell)"
   ]
  },
  {
   "cell_type": "code",
   "execution_count": 6,
   "metadata": {},
   "outputs": [],
   "source": [
    "# Set the number of shots \n",
    "n_shots = 1000"
   ]
  },
  {
   "cell_type": "markdown",
   "metadata": {},
   "source": [
    "### Best practice 1: \n",
    "Estimate the cost of your simulation BEFORE submitting to the QPU."
   ]
  },
  {
   "cell_type": "code",
   "execution_count": 7,
   "metadata": {},
   "outputs": [
    {
     "name": "stdout",
     "output_type": "stream",
     "text": [
      "--------------------------------------------------------\n",
      "AWS Device:       Aspen-8\n",
      "Number of tasks:  1\n",
      "Shots per task:   1000\n",
      "Price per task:   $0.3\n",
      "Price per shot:   $0.00035\n",
      "\n",
      "Cost estimate:    $0.6499999999999999\n",
      "--------------------------------------------------------\n",
      "\n",
      "\n"
     ]
    }
   ],
   "source": [
    "# Estimate the cost of this simulation on the Rigetti device\n",
    "rigetti = AwsDevice(\"arn:aws:braket:::device/qpu/rigetti/Aspen-8\")\n",
    "estimate_cost(device = rigetti, tasks = 1, shots_per_task = n_shots)"
   ]
  },
  {
   "cell_type": "code",
   "execution_count": 8,
   "metadata": {},
   "outputs": [
    {
     "name": "stdout",
     "output_type": "stream",
     "text": [
      "--------------------------------------------------------\n",
      "AWS Device:       IonQ Device\n",
      "Number of tasks:  1\n",
      "Shots per task:   1000\n",
      "Price per task:   $0.3\n",
      "Price per shot:   $0.01\n",
      "\n",
      "Cost estimate:    $10.3\n",
      "--------------------------------------------------------\n",
      "\n",
      "\n"
     ]
    }
   ],
   "source": [
    "# Estimate the cost of this simulation on the IonQ device\n",
    "ionq = AwsDevice(\"arn:aws:braket:::device/qpu/ionq/ionQdevice\")\n",
    "estimate_cost(device = ionq, tasks = 1, shots_per_task = n_shots)"
   ]
  },
  {
   "cell_type": "markdown",
   "metadata": {},
   "source": [
    "### Best practice 2: \n",
    "Perform a test calculation using one of the simulators to assess the quality of your algorithim under ideal conditions before using a QPU."
   ]
  },
  {
   "cell_type": "code",
   "execution_count": 9,
   "metadata": {},
   "outputs": [
    {
     "name": "stdout",
     "output_type": "stream",
     "text": [
      "Counter({'11': 503, '00': 497})\n"
     ]
    },
    {
     "data": {
      "image/png": "[encoded data removed]",
      "text/plain": [
       "<Figure size 432x288 with 1 Axes>"
      ]
     },
     "metadata": {
      "needs_background": "light"
     },
     "output_type": "display_data"
    }
   ],
   "source": [
    "# LocalSimulator\n",
    "device = LocalSimulator()\n",
    "result = device.run(bell, shots = n_shots).result()\n",
    "counts = result.measurement_counts\n",
    "\n",
    "# device = AwsDevice(\"arn:aws:braket:::device/quantum-simulator/amazon/sv1\")\n",
    "# device = AwsDevice(\"arn:aws:braket:::device/quantum-simulator/amazon/tn1\")\n",
    "# result = device.run(bell, s3_folder, shots = n_shots).result()\n",
    "# counts = result.measurement_counts\n",
    "\n",
    "# print counts\n",
    "print(counts)\n",
    "# plot using Counter\n",
    "plt.bar(counts.keys(), counts.values());\n",
    "plt.xlabel('bitstrings');\n",
    "plt.ylabel('counts');"
   ]
  },
  {
   "cell_type": "markdown",
   "metadata": {},
   "source": [
    "Finally, submit your task to the QPU."
   ]
  },
  {
   "cell_type": "code",
   "execution_count": null,
   "metadata": {},
   "outputs": [],
   "source": [
    "# QPUs (select one only if you are comfortable with the cost calculated above)\n",
    "# device = AwsDevice(\"arn:aws:braket:::device/qpu/ionq/ionQdevice\")\n",
    "# device = AwsDevice(\"arn:aws:braket:::device/qpu/rigetti/Aspen-8\")\n",
    "# result = device.run(bell, s3_folder, shots = n_shots).result()\n",
    "# counts = result.measurement_counts\n",
    "\n",
    "# print counts\n",
    "print(counts)\n",
    "# plot using Counter\n",
    "plt.bar(counts.keys(), counts.values());\n",
    "plt.xlabel('bitstrings');\n",
    "plt.ylabel('counts');"
   ]
  },
  {
   "cell_type": "markdown",
   "metadata": {},
   "source": [
    "## Example 2 - Hybrid Algorithms\n",
    "In this example we cover the best practices for implementing a hybrid algorithm (or any algorithm that require multiple iterations until a preset convergence criteria is met). For simplicity, this example will not optimize a circut parameter to minimize an objective function like is done in hybrid algorithms, e.g. the Variational Quantum Eigensolver. Instead we will define a convergence critera with little probablility of being met to highlight the importance of performing cost analysis prior to submitting calculations to the QPUs.\n",
    "\n",
    "We will utilize the Bell circuit from Example 1, but this time execute the circuit in a loop. We will define \"convergence\" (i.e. the criteria that must be met before exiting the loop) to be a sample where the effects of noise (decoherence) and other imperfections are minimal. That is, when states '01' and '10' account for less than 1% of the samples (the number of times '01' and '10' are observed are less than or equal to 10)."
   ]
  },
  {
   "cell_type": "markdown",
   "metadata": {},
   "source": [
    "### Best practice 1: \n",
    "Set a maximum number of iterations to ensure the algorithm stops if convergence is not met."
   ]
  },
  {
   "cell_type": "code",
   "execution_count": 10,
   "metadata": {},
   "outputs": [],
   "source": [
    "max_iter = 100"
   ]
  },
  {
   "cell_type": "markdown",
   "metadata": {},
   "source": [
    "### Best practice 2: \n",
    "Estimate the cost of your simulation BEFORE submitting to the QPU. This will provide you with an estimate of the maximum cost should you algorithm fail to converge. Based on the results of the cost estimate, select the QPU and adjust the parameters until you are comfortable with the estimated maximum cost of your simulation. "
   ]
  },
  {
   "cell_type": "code",
   "execution_count": 11,
   "metadata": {},
   "outputs": [
    {
     "name": "stdout",
     "output_type": "stream",
     "text": [
      "--------------------------------------------------------\n",
      "AWS Device:       Aspen-8\n",
      "Number of tasks:  100\n",
      "Shots per task:   1000\n",
      "Price per task:   $0.3\n",
      "Price per shot:   $0.00035\n",
      "\n",
      "Cost estimate:    $65.0\n",
      "--------------------------------------------------------\n",
      "\n",
      "\n"
     ]
    }
   ],
   "source": [
    "# Estimate the maximum cost of this simulation on the Rigetti device\n",
    "estimate_cost(device=rigetti, tasks=max_iter, shots_per_task=n_shots)"
   ]
  },
  {
   "cell_type": "code",
   "execution_count": 12,
   "metadata": {},
   "outputs": [
    {
     "name": "stdout",
     "output_type": "stream",
     "text": [
      "--------------------------------------------------------\n",
      "AWS Device:       IonQ Device\n",
      "Number of tasks:  100\n",
      "Shots per task:   1000\n",
      "Price per task:   $0.3\n",
      "Price per shot:   $0.01\n",
      "\n",
      "Cost estimate:    $1030.0\n",
      "--------------------------------------------------------\n",
      "\n",
      "\n"
     ]
    }
   ],
   "source": [
    "# Estimate the maximum cost of this simulation on the IonQ device\n",
    "estimate_cost(device=ionq, tasks=max_iter, shots_per_task=n_shots)"
   ]
  },
  {
   "cell_type": "markdown",
   "metadata": {},
   "source": [
    "### Best practice 3:\n",
    "Perform a test calculation using one of the simulators to assess the quality of your algorithim under ideal conditions before using a QPU."
   ]
  },
  {
   "cell_type": "code",
   "execution_count": 13,
   "metadata": {},
   "outputs": [],
   "source": [
    "# Simulators \n",
    "device = LocalSimulator()\n",
    "# device = AwsDevice(\"arn:aws:braket:::device/quantum-simulator/amazon/sv1\")\n",
    "# device = AwsDevice(\"arn:aws:braket:::device/quantum-simulator/amazon/tn1\")\n",
    "\n",
    "# QPUs (select one only if you are comfortable with the cost calculated above)\n",
    "# device = AwsDevice(\"arn:aws:braket:::device/qpu/ionq/ionQdevice\")\n",
    "# device = AwsDevice(\"arn:aws:braket:::device/qpu/rigetti/Aspen-8\")"
   ]
  },
  {
   "cell_type": "code",
   "execution_count": 14,
   "metadata": {},
   "outputs": [
    {
     "name": "stdout",
     "output_type": "stream",
     "text": [
      "calculation \"converged\"\n"
     ]
    }
   ],
   "source": [
    "for i in range(max_iter):\n",
    "    \n",
    "    # Run circuit (execute a SINGLE task with 1000 shots)\n",
    "    \n",
    "    # Submit to the LocalSimulator\n",
    "    result = device.run(bell, shots = n_shots).result()\n",
    "    \n",
    "    # Submit to a QPU, SV1, or TN1\n",
    "    # (use the QPU only if you are comfortable with the cost calculated above)\n",
    "    # result = device.run(bell, s3_folder, shots = n_shots).result()\n",
    "    \n",
    "    # get measurement shots\n",
    "    counts = result.measurement_counts\n",
    "    \n",
    "    # Check convergence criteria\n",
    "    if counts['01'] + counts['10'] <= 10:\n",
    "        print('calculation \"converged\"')\n",
    "        break\n",
    "        "
   ]
  },
  {
   "cell_type": "code",
   "execution_count": null,
   "metadata": {},
   "outputs": [],
   "source": []
  }
 ],
 "metadata": {
  "kernelspec": {
   "display_name": "conda_braket",
   "language": "python",
   "name": "conda_braket"
  },
  "language_info": {
   "codemirror_mode": {
    "name": "ipython",
    "version": 3
   },
   "file_extension": ".py",
   "mimetype": "text/x-python",
   "name": "python",
   "nbconvert_exporter": "python",
   "pygments_lexer": "ipython3",
   "version": "3.7.10"
  }
 },
 "nbformat": 4,
 "nbformat_minor": 4
}
