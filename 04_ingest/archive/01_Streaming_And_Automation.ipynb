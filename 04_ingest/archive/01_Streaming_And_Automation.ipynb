{
 "cells": [
  {
   "cell_type": "markdown",
   "metadata": {},
   "source": [
    "# Ingesting Data Into The Cloud\n",
    "\n",
    "TODO: Describe scenario"
   ]
  },
  {
   "cell_type": "markdown",
   "metadata": {},
   "source": [
    "## STREAMING Automation\n",
    "* Try to trigger upon simulating new data arrival into Kinesis.  ie. we simulate adding a new partition for each year (or smaller time frame)\n",
    "* Convert TSV to Parquet as it arrives\n",
    "* LOAD TSV data from S3 to redshift as it arrives\n",
    "\n",
    "\n",
    "## BATCH Automation\n",
    "Ingestion of TSV through Glue and/or StepFunction & DataWrangler (ie. S3 Trigger + Lambda or perhap S3 has native integration to invoke StepFunction?  or native integration to invoke Glue?  or Glue cron job)\n",
    "* Try to trigger upon simulating new data arrival into s3.  ie. we simulate adding a new partition for each year.\n",
    "* Convert TSV to Parquet as it arrives\n",
    "* LOAD TSV data from S3 to redshift as it arrives\n"
   ]
  }
 ],
 "metadata": {
  "kernelspec": {
   "display_name": "conda_python3",
   "language": "python",
   "name": "conda_python3"
  },
  "language_info": {
   "codemirror_mode": {
    "name": "ipython",
    "version": 3
   },
   "file_extension": ".py",
   "mimetype": "text/x-python",
   "name": "python",
   "nbconvert_exporter": "python",
   "pygments_lexer": "ipython3",
   "version": "3.6.5"
  }
 },
 "nbformat": 4,
 "nbformat_minor": 4
}
