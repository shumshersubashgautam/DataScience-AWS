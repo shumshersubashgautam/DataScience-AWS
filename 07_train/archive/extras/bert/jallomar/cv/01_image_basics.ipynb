{
  "nbformat": 4,
  "nbformat_minor": 0,
  "metadata": {
    "kernelspec": {
      "display_name": "Python 3",
      "language": "python",
      "name": "python3"
    },
    "language_info": {
      "codemirror_mode": {
        "name": "ipython",
        "version": 3
      },
      "file_extension": ".py",
      "mimetype": "text/x-python",
      "name": "python",
      "nbconvert_exporter": "python",
      "pygments_lexer": "ipython3",
      "version": "3.7.3"
    },
    "colab": {
      "name": "01 - image basics.ipynb",
      "provenance": [],
      "include_colab_link": true
    }
  },
  "cells": [
    {
      "cell_type": "markdown",
      "metadata": {
        "id": "view-in-github",
        "colab_type": "text"
      },
      "source": [
        "<a href=\"https://colab.research.google.com/github/jalammar/jalammar.github.io/blob/master/notebooks/cv/01_image_basics.ipynb\" target=\"_parent\"><img src=\"https://colab.research.google.com/assets/colab-badge.svg\" alt=\"Open In Colab\"/></a>"
      ]
    },
    {
      "cell_type": "code",
      "metadata": {
        "id": "TsRc6kUMhjXo",
        "colab_type": "code",
        "colab": {}
      },
      "source": [
        "from matplotlib import pyplot as plt\n",
        "import numpy as np"
      ],
      "execution_count": 0,
      "outputs": []
    },
    {
      "cell_type": "markdown",
      "metadata": {
        "id": "K8ozdrg8jin8",
        "colab_type": "text"
      },
      "source": [
        "## Black Image"
      ]
    },
    {
      "cell_type": "code",
      "metadata": {
        "id": "7oVfS0_ChjXt",
        "colab_type": "code",
        "colab": {}
      },
      "source": [
        "black = np.zeros([10,10])"
      ],
      "execution_count": 0,
      "outputs": []
    },
    {
      "cell_type": "code",
      "metadata": {
        "id": "p8ZQ4V_riT1P",
        "colab_type": "code",
        "colab": {
          "base_uri": "https://localhost:8080/",
          "height": 187
        },
        "outputId": "66b53d3b-1891-437d-a3f3-1b0eeed30605"
      },
      "source": [
        "black"
      ],
      "execution_count": 37,
      "outputs": [
        {
          "output_type": "execute_result",
          "data": {
            "text/plain": [
              "array([[0., 0., 0., 0., 0., 0., 0., 0., 0., 0.],\n",
              "       [0., 0., 0., 0., 0., 0., 0., 0., 0., 0.],\n",
              "       [0., 0., 0., 0., 0., 0., 0., 0., 0., 0.],\n",
              "       [0., 0., 0., 0., 0., 0., 0., 0., 0., 0.],\n",
              "       [0., 0., 0., 0., 0., 0., 0., 0., 0., 0.],\n",
              "       [0., 0., 0., 0., 0., 0., 0., 0., 0., 0.],\n",
              "       [0., 0., 0., 0., 0., 0., 0., 0., 0., 0.],\n",
              "       [0., 0., 0., 0., 0., 0., 0., 0., 0., 0.],\n",
              "       [0., 0., 0., 0., 0., 0., 0., 0., 0., 0.],\n",
              "       [0., 0., 0., 0., 0., 0., 0., 0., 0., 0.]])"
            ]
          },
          "metadata": {
            "tags": []
          },
          "execution_count": 37
        }
      ]
    },
    {
      "cell_type": "code",
      "metadata": {
        "id": "uLOXbKAhhjXy",
        "colab_type": "code",
        "colab": {
          "base_uri": "https://localhost:8080/",
          "height": 282
        },
        "outputId": "ca3af530-8cdd-412d-f958-a230db928d43"
      },
      "source": [
        "plt.imshow(np.zeros([10,10]), cmap=\"gray\", vmin=0, vmax=255)"
      ],
      "execution_count": 3,
      "outputs": [
        {
          "output_type": "execute_result",
          "data": {
            "text/plain": [
              "<matplotlib.image.AxesImage at 0x7f75e3a9c438>"
            ]
          },
          "metadata": {
            "tags": []
          },
          "execution_count": 3
        },
        {
          "output_type": "display_data",
          "data": {
            "image/png": "[encoded data removed]",
            "text/plain": [
              "<Figure size 432x288 with 1 Axes>"
            ]
          },
          "metadata": {
            "tags": []
          }
        }
      ]
    },
    {
      "cell_type": "markdown",
      "metadata": {
        "id": "y54jrmPFjggl",
        "colab_type": "text"
      },
      "source": [
        "## White Image"
      ]
    },
    {
      "cell_type": "code",
      "metadata": {
        "id": "FcUA6p4khjYA",
        "colab_type": "code",
        "colab": {}
      },
      "source": [
        "white = np.full((10,10), 255)"
      ],
      "execution_count": 0,
      "outputs": []
    },
    {
      "cell_type": "code",
      "metadata": {
        "id": "tUYJvBLkhjYC",
        "colab_type": "code",
        "colab": {
          "base_uri": "https://localhost:8080/",
          "height": 187
        },
        "outputId": "1a86d807-b5ed-4190-dfd5-5af2171dee59"
      },
      "source": [
        "white"
      ],
      "execution_count": 39,
      "outputs": [
        {
          "output_type": "execute_result",
          "data": {
            "text/plain": [
              "array([[255, 255, 255, 255, 255, 255, 255, 255, 255, 255],\n",
              "       [255, 255, 255, 255, 255, 255, 255, 255, 255, 255],\n",
              "       [255, 255, 255, 255, 255, 255, 255, 255, 255, 255],\n",
              "       [255, 255, 255, 255, 255, 255, 255, 255, 255, 255],\n",
              "       [255, 255, 255, 255, 255, 255, 255, 255, 255, 255],\n",
              "       [255, 255, 255, 255, 255, 255, 255, 255, 255, 255],\n",
              "       [255, 255, 255, 255, 255, 255, 255, 255, 255, 255],\n",
              "       [255, 255, 255, 255, 255, 255, 255, 255, 255, 255],\n",
              "       [255, 255, 255, 255, 255, 255, 255, 255, 255, 255],\n",
              "       [255, 255, 255, 255, 255, 255, 255, 255, 255, 255]])"
            ]
          },
          "metadata": {
            "tags": []
          },
          "execution_count": 39
        }
      ]
    },
    {
      "cell_type": "code",
      "metadata": {
        "id": "LP3nOhWNhjYF",
        "colab_type": "code",
        "colab": {
          "base_uri": "https://localhost:8080/",
          "height": 34
        },
        "outputId": "5c8dff4c-0536-48e7-b335-aadcd1484949"
      },
      "source": [
        "white.shape"
      ],
      "execution_count": 40,
      "outputs": [
        {
          "output_type": "execute_result",
          "data": {
            "text/plain": [
              "(10, 10)"
            ]
          },
          "metadata": {
            "tags": []
          },
          "execution_count": 40
        }
      ]
    },
    {
      "cell_type": "code",
      "metadata": {
        "id": "6tIyfxX0hjYJ",
        "colab_type": "code",
        "colab": {
          "base_uri": "https://localhost:8080/",
          "height": 282
        },
        "outputId": "858fcd54-57e6-4344-c657-0a587827a885"
      },
      "source": [
        "plt.imshow(white, cmap=\"gray\", vmin=0, vmax=255)"
      ],
      "execution_count": 8,
      "outputs": [
        {
          "output_type": "execute_result",
          "data": {
            "text/plain": [
              "<matplotlib.image.AxesImage at 0x7f75e355ffd0>"
            ]
          },
          "metadata": {
            "tags": []
          },
          "execution_count": 8
        },
        {
          "output_type": "display_data",
          "data": {
            "image/png": "[encoded data removed]",
            "text/plain": [
              "<Figure size 432x288 with 1 Axes>"
            ]
          },
          "metadata": {
            "tags": []
          }
        }
      ]
    },
    {
      "cell_type": "markdown",
      "metadata": {
        "id": "vMxctTkMjdcB",
        "colab_type": "text"
      },
      "source": [
        "## Gray Image"
      ]
    },
    {
      "cell_type": "code",
      "metadata": {
        "id": "x0UkCvRwhjYM",
        "colab_type": "code",
        "colab": {
          "base_uri": "https://localhost:8080/",
          "height": 187
        },
        "outputId": "2dec6fd6-bfda-49f9-b0af-f62a46023f27"
      },
      "source": [
        "gray = np.full((10,10), 170)\n",
        "gray"
      ],
      "execution_count": 42,
      "outputs": [
        {
          "output_type": "execute_result",
          "data": {
            "text/plain": [
              "array([[170, 170, 170, 170, 170, 170, 170, 170, 170, 170],\n",
              "       [170, 170, 170, 170, 170, 170, 170, 170, 170, 170],\n",
              "       [170, 170, 170, 170, 170, 170, 170, 170, 170, 170],\n",
              "       [170, 170, 170, 170, 170, 170, 170, 170, 170, 170],\n",
              "       [170, 170, 170, 170, 170, 170, 170, 170, 170, 170],\n",
              "       [170, 170, 170, 170, 170, 170, 170, 170, 170, 170],\n",
              "       [170, 170, 170, 170, 170, 170, 170, 170, 170, 170],\n",
              "       [170, 170, 170, 170, 170, 170, 170, 170, 170, 170],\n",
              "       [170, 170, 170, 170, 170, 170, 170, 170, 170, 170],\n",
              "       [170, 170, 170, 170, 170, 170, 170, 170, 170, 170]])"
            ]
          },
          "metadata": {
            "tags": []
          },
          "execution_count": 42
        }
      ]
    },
    {
      "cell_type": "code",
      "metadata": {
        "id": "TmdodhwDhjYP",
        "colab_type": "code",
        "colab": {
          "base_uri": "https://localhost:8080/",
          "height": 282
        },
        "outputId": "265d66a1-5abc-44a7-c13d-bf55bfcb6859"
      },
      "source": [
        "plt.imshow(gray, cmap=\"gray\", vmin=0, vmax=255)"
      ],
      "execution_count": 10,
      "outputs": [
        {
          "output_type": "execute_result",
          "data": {
            "text/plain": [
              "<matplotlib.image.AxesImage at 0x7f75e35419b0>"
            ]
          },
          "metadata": {
            "tags": []
          },
          "execution_count": 10
        },
        {
          "output_type": "display_data",
          "data": {
            "image/png": "[encoded data removed]",
            "text/plain": [
              "<Figure size 432x288 with 1 Axes>"
            ]
          },
          "metadata": {
            "tags": []
          }
        }
      ]
    },
    {
      "cell_type": "markdown",
      "metadata": {
        "id": "EwkNJOvHhjYR",
        "colab_type": "text"
      },
      "source": [
        "## Addressing Pixels"
      ]
    },
    {
      "cell_type": "code",
      "metadata": {
        "id": "zD6sfCFVhjYS",
        "colab_type": "code",
        "colab": {}
      },
      "source": [
        "gray[0,0] = 0"
      ],
      "execution_count": 0,
      "outputs": []
    },
    {
      "cell_type": "code",
      "metadata": {
        "id": "kNuUKyCWhjYV",
        "colab_type": "code",
        "colab": {
          "base_uri": "https://localhost:8080/",
          "height": 187
        },
        "outputId": "4f77bfda-0b27-48ea-e37d-c4682abcaed8"
      },
      "source": [
        "gray"
      ],
      "execution_count": 12,
      "outputs": [
        {
          "output_type": "execute_result",
          "data": {
            "text/plain": [
              "array([[  0, 170, 170, 170, 170, 170, 170, 170, 170, 170],\n",
              "       [170, 170, 170, 170, 170, 170, 170, 170, 170, 170],\n",
              "       [170, 170, 170, 170, 170, 170, 170, 170, 170, 170],\n",
              "       [170, 170, 170, 170, 170, 170, 170, 170, 170, 170],\n",
              "       [170, 170, 170, 170, 170, 170, 170, 170, 170, 170],\n",
              "       [170, 170, 170, 170, 170, 170, 170, 170, 170, 170],\n",
              "       [170, 170, 170, 170, 170, 170, 170, 170, 170, 170],\n",
              "       [170, 170, 170, 170, 170, 170, 170, 170, 170, 170],\n",
              "       [170, 170, 170, 170, 170, 170, 170, 170, 170, 170],\n",
              "       [170, 170, 170, 170, 170, 170, 170, 170, 170, 170]])"
            ]
          },
          "metadata": {
            "tags": []
          },
          "execution_count": 12
        }
      ]
    },
    {
      "cell_type": "code",
      "metadata": {
        "id": "hn8_yl4whjYX",
        "colab_type": "code",
        "colab": {
          "base_uri": "https://localhost:8080/",
          "height": 282
        },
        "outputId": "fb8cb1d7-4068-4848-c00f-674526294c5f"
      },
      "source": [
        "plt.imshow(gray, cmap=\"gray\", vmin=0, vmax=255)"
      ],
      "execution_count": 14,
      "outputs": [
        {
          "output_type": "execute_result",
          "data": {
            "text/plain": [
              "<matplotlib.image.AxesImage at 0x7f75e34816d8>"
            ]
          },
          "metadata": {
            "tags": []
          },
          "execution_count": 14
        },
        {
          "output_type": "display_data",
          "data": {
            "image/png": "[encoded data removed]",
            "text/plain": [
              "<Figure size 432x288 with 1 Axes>"
            ]
          },
          "metadata": {
            "tags": []
          }
        }
      ]
    },
    {
      "cell_type": "markdown",
      "metadata": {
        "id": "Ijnc-UZxhjYb",
        "colab_type": "text"
      },
      "source": [
        "## Addressing Ranges"
      ]
    },
    {
      "cell_type": "code",
      "metadata": {
        "id": "PN_ZQp9yhjYc",
        "colab_type": "code",
        "colab": {
          "base_uri": "https://localhost:8080/",
          "height": 187
        },
        "outputId": "b90be76e-2d02-46a1-d43e-5500d090439d"
      },
      "source": [
        "gray"
      ],
      "execution_count": 44,
      "outputs": [
        {
          "output_type": "execute_result",
          "data": {
            "text/plain": [
              "array([[  0, 170, 170, 170, 170, 170, 170, 170, 170, 170],\n",
              "       [170, 170, 170, 170, 170, 170, 170, 170, 170, 170],\n",
              "       [170, 170, 170, 170, 170, 170, 170, 170, 170, 170],\n",
              "       [170, 170, 170, 170, 170, 170, 170, 170, 170, 170],\n",
              "       [170, 170, 170, 170, 170, 170, 170, 170, 170, 170],\n",
              "       [170, 170, 170, 170, 170, 170, 170, 170, 170, 170],\n",
              "       [170, 170, 170, 170, 170, 170, 170, 170, 170, 170],\n",
              "       [170, 170, 170, 170, 170, 170, 170, 170, 170, 170],\n",
              "       [170, 170, 170, 170, 170, 170, 170, 170, 170, 170],\n",
              "       [170, 170, 170, 170, 170, 170, 170, 170, 170, 170]])"
            ]
          },
          "metadata": {
            "tags": []
          },
          "execution_count": 44
        }
      ]
    },
    {
      "cell_type": "code",
      "metadata": {
        "id": "ed0vz0ZXhjYf",
        "colab_type": "code",
        "colab": {
          "base_uri": "https://localhost:8080/",
          "height": 187
        },
        "outputId": "c1f9551f-6c8d-47e7-d701-d8f03afc1f63"
      },
      "source": [
        "gray[0:8,0:2] = 0\n",
        "gray"
      ],
      "execution_count": 45,
      "outputs": [
        {
          "output_type": "execute_result",
          "data": {
            "text/plain": [
              "array([[  0,   0, 170, 170, 170, 170, 170, 170, 170, 170],\n",
              "       [  0,   0, 170, 170, 170, 170, 170, 170, 170, 170],\n",
              "       [  0,   0, 170, 170, 170, 170, 170, 170, 170, 170],\n",
              "       [  0,   0, 170, 170, 170, 170, 170, 170, 170, 170],\n",
              "       [  0,   0, 170, 170, 170, 170, 170, 170, 170, 170],\n",
              "       [  0,   0, 170, 170, 170, 170, 170, 170, 170, 170],\n",
              "       [  0,   0, 170, 170, 170, 170, 170, 170, 170, 170],\n",
              "       [  0,   0, 170, 170, 170, 170, 170, 170, 170, 170],\n",
              "       [170, 170, 170, 170, 170, 170, 170, 170, 170, 170],\n",
              "       [170, 170, 170, 170, 170, 170, 170, 170, 170, 170]])"
            ]
          },
          "metadata": {
            "tags": []
          },
          "execution_count": 45
        }
      ]
    },
    {
      "cell_type": "code",
      "metadata": {
        "id": "OrQux2J0hjYh",
        "colab_type": "code",
        "colab": {
          "base_uri": "https://localhost:8080/",
          "height": 282
        },
        "outputId": "77f9af00-94cf-40ef-bdd5-a693054632f6"
      },
      "source": [
        "plt.imshow(gray, cmap=\"gray\", vmin=0, vmax=255)"
      ],
      "execution_count": 46,
      "outputs": [
        {
          "output_type": "execute_result",
          "data": {
            "text/plain": [
              "<matplotlib.image.AxesImage at 0x7f75e3036198>"
            ]
          },
          "metadata": {
            "tags": []
          },
          "execution_count": 46
        },
        {
          "output_type": "display_data",
          "data": {
            "image/png": "[encoded data removed]",
            "text/plain": [
              "<Figure size 432x288 with 1 Axes>"
            ]
          },
          "metadata": {
            "tags": []
          }
        }
      ]
    },
    {
      "cell_type": "markdown",
      "metadata": {
        "id": "HngU9xQFhjYk",
        "colab_type": "text"
      },
      "source": [
        "## Colors"
      ]
    },
    {
      "cell_type": "code",
      "metadata": {
        "id": "FCYCBWR2hjYl",
        "colab_type": "code",
        "colab": {}
      },
      "source": [
        "rgb = np.zeros((10,10,3))"
      ],
      "execution_count": 0,
      "outputs": []
    },
    {
      "cell_type": "code",
      "metadata": {
        "id": "7Fx2HSvZhjYn",
        "colab_type": "code",
        "colab": {
          "base_uri": "https://localhost:8080/",
          "height": 282
        },
        "outputId": "a94b2b30-38d1-46d7-f864-f24ebac8b710"
      },
      "source": [
        "plt.imshow(rgb, vmin=0, vmax=255)"
      ],
      "execution_count": 32,
      "outputs": [
        {
          "output_type": "execute_result",
          "data": {
            "text/plain": [
              "<matplotlib.image.AxesImage at 0x7f75e3123390>"
            ]
          },
          "metadata": {
            "tags": []
          },
          "execution_count": 32
        },
        {
          "output_type": "display_data",
          "data": {
            "image/png": "[encoded data removed]",
            "text/plain": [
              "<Figure size 432x288 with 1 Axes>"
            ]
          },
          "metadata": {
            "tags": []
          }
        }
      ]
    },
    {
      "cell_type": "code",
      "metadata": {
        "scrolled": false,
        "id": "C_oy8KD7hjYt",
        "colab_type": "code",
        "colab": {}
      },
      "source": [
        "rgb[:,:,2] = 255"
      ],
      "execution_count": 0,
      "outputs": []
    },
    {
      "cell_type": "code",
      "metadata": {
        "id": "IuKkpr0fhjYw",
        "colab_type": "code",
        "colab": {
          "base_uri": "https://localhost:8080/",
          "height": 299
        },
        "outputId": "243c7e6a-07ea-46b5-d9f5-453fd4238157"
      },
      "source": [
        "plt.imshow(rgb, vmin=0, vmax=255)"
      ],
      "execution_count": 34,
      "outputs": [
        {
          "output_type": "stream",
          "text": [
            "Clipping input data to the valid range for imshow with RGB data ([0..1] for floats or [0..255] for integers).\n"
          ],
          "name": "stderr"
        },
        {
          "output_type": "execute_result",
          "data": {
            "text/plain": [
              "<matplotlib.image.AxesImage at 0x7f75e30f5828>"
            ]
          },
          "metadata": {
            "tags": []
          },
          "execution_count": 34
        },
        {
          "output_type": "display_data",
          "data": {
            "image/png": "[encoded data removed]",
            "text/plain": [
              "<Figure size 432x288 with 1 Axes>"
            ]
          },
          "metadata": {
            "tags": []
          }
        }
      ]
    },
    {
      "cell_type": "code",
      "metadata": {
        "id": "J1MUANGthjY1",
        "colab_type": "code",
        "colab": {}
      },
      "source": [
        "rgb[0,0,0] = 170"
      ],
      "execution_count": 0,
      "outputs": []
    },
    {
      "cell_type": "code",
      "metadata": {
        "id": "dzu2qf17hjY8",
        "colab_type": "code",
        "colab": {
          "base_uri": "https://localhost:8080/",
          "height": 299
        },
        "outputId": "73232b57-a194-4994-a006-5e4394b14c58"
      },
      "source": [
        "plt.imshow(rgb, vmin=0, vmax=255)"
      ],
      "execution_count": 36,
      "outputs": [
        {
          "output_type": "stream",
          "text": [
            "Clipping input data to the valid range for imshow with RGB data ([0..1] for floats or [0..255] for integers).\n"
          ],
          "name": "stderr"
        },
        {
          "output_type": "execute_result",
          "data": {
            "text/plain": [
              "<matplotlib.image.AxesImage at 0x7f75e30cccf8>"
            ]
          },
          "metadata": {
            "tags": []
          },
          "execution_count": 36
        },
        {
          "output_type": "display_data",
          "data": {
            "image/png": "[encoded data removed]",
            "text/plain": [
              "<Figure size 432x288 with 1 Axes>"
            ]
          },
          "metadata": {
            "tags": []
          }
        }
      ]
    },
    {
      "cell_type": "code",
      "metadata": {
        "id": "7sDQ4j46hjY_",
        "colab_type": "code",
        "colab": {}
      },
      "source": [
        ""
      ],
      "execution_count": 0,
      "outputs": []
    }
  ]
}