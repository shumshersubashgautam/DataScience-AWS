{
 "cells": [
  {
   "cell_type": "markdown",
   "metadata": {},
   "source": [
    "# Data Wrangler Feature Store Notebook"
   ]
  },
  {
   "cell_type": "markdown",
   "metadata": {},
   "source": [
    "Use this notebook to create a feature group and add features to an offline or online\n",
    "feature store using a Data Wrangler .flow file.\n",
    "\n",
    "A single *feature* corresponds to a column in your dataset. A *feature group* is a predefined\n",
    "schema for a collection of features - each feature in the feature group has a specified data\n",
    "type and name. A single *record* in a feature group corresponds to a row in your datataframe.\n",
    "A *feature store* is a collection of feature groups.\n",
    "\n",
    "This notebook uses Amazon SageMaker Feature Store (Feature Store) to create a feature group\n",
    "and ingest data into feature store. To learn more about SageMaker Feature Store, see\n",
    "[Amazon Feature Store Documentation](http://docs.aws.amazon.com/sagemaker/latest/dg/feature-store.html).\n",
    "\n",
    "To create a feature group, you will create the following resources:\n",
    "* A feature definition using a schema, record identifier, and event-time feature name.\n",
    "* An online or offline store configuration.\n",
    "\n",
    "You will use a processing job to process your data at scale and ingest the data into this feature group."
   ]
  },
  {
   "cell_type": "markdown",
   "metadata": {},
   "source": [
    "First, use the following cell to install dependencies."
   ]
  },
  {
   "cell_type": "code",
   "execution_count": 1,
   "metadata": {},
   "outputs": [],
   "source": [
    "# SageMaker Python SDK version 2.x is required\n",
    "import sagemaker\n",
    "import subprocess\n",
    "import sys\n",
    "\n",
    "original_version = sagemaker.__version__\n",
    "if sagemaker.__version__ != \"2.17.0\":\n",
    "    subprocess.check_call([sys.executable, \"-m\", \"pip\", \"install\", \"sagemaker==2.17.0\"])\n",
    "    import importlib\n",
    "\n",
    "    importlib.reload(sagemaker)"
   ]
  },
  {
   "cell_type": "code",
   "execution_count": 2,
   "metadata": {},
   "outputs": [],
   "source": [
    "import os\n",
    "import uuid\n",
    "import json\n",
    "import time\n",
    "import boto3\n",
    "import sagemaker"
   ]
  },
  {
   "cell_type": "markdown",
   "metadata": {},
   "source": [
    "## Parameters\n",
    "The following lists configurable parameters that are used throughout this notebook."
   ]
  },
  {
   "cell_type": "code",
   "execution_count": 3,
   "metadata": {},
   "outputs": [],
   "source": [
    "# S3 bucket for saving processing job outputs\n",
    "# Feel free to specify a different bucket here if you wish.\n",
    "sess = sagemaker.Session()\n",
    "bucket = sess.default_bucket()\n",
    "prefix = \"data_wrangler_flows\"\n",
    "flow_id = f\"{time.strftime('%d-%H-%M-%S', time.gmtime())}-{str(uuid.uuid4())[:8]}\"\n",
    "flow_name = f\"flow-{flow_id}\"\n",
    "flow_uri = f\"s3://{bucket}/{prefix}/{flow_name}.flow\"\n",
    "\n",
    "flow_file_name = \"../workshop_antje.flow\"\n",
    "\n",
    "iam_role = sagemaker.get_execution_role()\n",
    "\n",
    "container_uri = \"663277389841.dkr.ecr.us-east-1.amazonaws.com/sagemaker-data-wrangler-container:1.0.2\"\n",
    "\n",
    "# Processing Job Resources Configurations\n",
    "processing_job_name = f\"data-wrangler-feature-store-processing-{flow_id}\"\n",
    "processing_dir = \"/opt/ml/processing\"\n",
    "\n",
    "# URL to use for sagemaker client.\n",
    "# If this is None, boto will automatically construct the appropriate URL to use\n",
    "# when communicating with sagemaker.\n",
    "sagemaker_endpoint_url = None"
   ]
  },
  {
   "cell_type": "markdown",
   "metadata": {},
   "source": [
    "## Push Flow to S3\n",
    "Use the following cell to upload the Data Wrangler .flow file to Amazon S3 so that\n",
    "it can be used as an input to the processing job."
   ]
  },
  {
   "cell_type": "code",
   "execution_count": 4,
   "metadata": {},
   "outputs": [
    {
     "name": "stdout",
     "output_type": "stream",
     "text": [
      "Data Wrangler Flow notebook uploaded to s3://sagemaker-us-east-1-806570384721/data_wrangler_flows/flow-15-00-19-08-0a25e3fe.flow\n"
     ]
    }
   ],
   "source": [
    "# Load .flow file\n",
    "with open(flow_file_name) as f:\n",
    "    flow = json.load(f)\n",
    "\n",
    "# Upload to S3\n",
    "s3_client = boto3.client(\"s3\")\n",
    "s3_client.upload_file(flow_file_name, bucket, f\"{prefix}/{flow_name}.flow\")\n",
    "\n",
    "print(f\"Data Wrangler Flow notebook uploaded to {flow_uri}\")"
   ]
  },
  {
   "cell_type": "markdown",
   "metadata": {},
   "source": [
    "## Create Feature Group"
   ]
  },
  {
   "cell_type": "code",
   "execution_count": 5,
   "metadata": {},
   "outputs": [
    {
     "name": "stdout",
     "output_type": "stream",
     "text": [
      "Feature Group Name: FG-flow-15-00-19-08-0a25e3fe\n"
     ]
    }
   ],
   "source": [
    "feature_group_name = f\"FG-{flow_name}\"\n",
    "print(f\"Feature Group Name: {feature_group_name}\")"
   ]
  },
  {
   "cell_type": "markdown",
   "metadata": {},
   "source": [
    "The following cell maps types between Data Wrangler supported types and Feature Store\n",
    "supported types (`String`, `Fractional`, and `Integral`). The default type is set to `String`.\n",
    "This means that, if a column in your dataset is not a `float` or `long` type,\n",
    "it will default to `String` in your Feature Store."
   ]
  },
  {
   "cell_type": "code",
   "execution_count": 6,
   "metadata": {},
   "outputs": [],
   "source": [
    "datawrangler_FG_type_mapping = {\"float\": \"Fractional\", \"long\": \"Integral\"}\n",
    "\n",
    "# Some schema types in Data Wrangler are not supported by Feature Store.\n",
    "# Feature store supports String, Integral, and Fractional types.\n",
    "# The following will create a default_FG_type set to String for these types.\n",
    "default_FG_type = \"String\""
   ]
  },
  {
   "cell_type": "markdown",
   "metadata": {},
   "source": [
    "The following is a list of the column names and data types of the final dataset that will be produced\n",
    "when your data flow is used to process your input dataset."
   ]
  },
  {
   "cell_type": "code",
   "execution_count": 7,
   "metadata": {},
   "outputs": [],
   "source": [
    "column_schema = [\n",
    "    {\"name\": \"marketplace\", \"type\": \"string\"},\n",
    "    {\"name\": \"customer_id\", \"type\": \"long\"},\n",
    "    {\"name\": \"review_id\", \"type\": \"string\"},\n",
    "    {\"name\": \"product_id\", \"type\": \"string\"},\n",
    "    {\"name\": \"product_parent\", \"type\": \"long\"},\n",
    "    {\"name\": \"product_title\", \"type\": \"string\"},\n",
    "    {\"name\": \"product_category\", \"type\": \"string\"},\n",
    "    {\"name\": \"vine\", \"type\": \"string\"},\n",
    "    {\"name\": \"verified_purchase\", \"type\": \"string\"},\n",
    "    {\"name\": \"review_headline\", \"type\": \"string\"},\n",
    "    {\"name\": \"review_body\", \"type\": \"string\"},\n",
    "    {\"name\": \"review_date\", \"type\": \"date\"},\n",
    "    {\"name\": \"star_rating\", \"type\": \"long\"},\n",
    "    {\"name\": \"helpful_votes\", \"type\": \"long\"},\n",
    "    {\"name\": \"total_votes\", \"type\": \"long\"},\n",
    "    {\"name\": \"star_rating_scaled\", \"type\": \"float\"},\n",
    "]"
   ]
  },
  {
   "cell_type": "markdown",
   "metadata": {},
   "source": [
    "Select Record identifier and Event time feature name. These are required parameters for feature group\n",
    "creation.\n",
    "* **Record identifier name** is the name of the feature whose value uniquely identiﬁes a Record\n",
    "deﬁned in the feature group's feature definitions.\n",
    "* **Event time feature name** is the name of the EventTime of a Record in FeatureGroup.\n",
    "A EventTime is point in time when a new event occurs that corresponds to the creation or update of a\n",
    "Record in FeatureGroup. All Records in the FeatureGroup must have a corresponding EventTime."
   ]
  },
  {
   "cell_type": "code",
   "execution_count": 10,
   "metadata": {},
   "outputs": [
    {
     "name": "stdout",
     "output_type": "stream",
     "text": [
      "[{'FeatureName': 'marketplace', 'FeatureType': 'String'}, {'FeatureName': 'customer_id', 'FeatureType': 'Integral'}, {'FeatureName': 'review_id', 'FeatureType': 'String'}, {'FeatureName': 'product_id', 'FeatureType': 'String'}, {'FeatureName': 'product_parent', 'FeatureType': 'Integral'}, {'FeatureName': 'product_title', 'FeatureType': 'String'}, {'FeatureName': 'product_category', 'FeatureType': 'String'}, {'FeatureName': 'vine', 'FeatureType': 'String'}, {'FeatureName': 'verified_purchase', 'FeatureType': 'String'}, {'FeatureName': 'review_headline', 'FeatureType': 'String'}, {'FeatureName': 'review_body', 'FeatureType': 'String'}, {'FeatureName': 'review_date', 'FeatureType': 'String'}, {'FeatureName': 'star_rating', 'FeatureType': 'Integral'}, {'FeatureName': 'helpful_votes', 'FeatureType': 'Integral'}, {'FeatureName': 'total_votes', 'FeatureType': 'Integral'}, {'FeatureName': 'star_rating_scaled', 'FeatureType': 'Fractional'}]\n"
     ]
    }
   ],
   "source": [
    "record_identifier_name = \"review_id\"\n",
    "if record_identifier_name is None:\n",
    "    raise RuntimeError(\"Select a column name as the feature group identifier.\")\n",
    "\n",
    "event_time_feature_name = \"review_date\"\n",
    "if event_time_feature_name is None:\n",
    "    raise RuntimeError(\"Select a column name as the event time feature name.\")\n",
    "\n",
    "# Below you map the schema detected from Data Wrangler to Feature Group Types.\n",
    "feature_definitions = [\n",
    "    {\"FeatureName\": schema[\"name\"], \"FeatureType\": datawrangler_FG_type_mapping.get(schema[\"type\"], default_FG_type)}\n",
    "    for schema in column_schema\n",
    "]\n",
    "print(feature_definitions)"
   ]
  },
  {
   "cell_type": "markdown",
   "metadata": {},
   "source": [
    "The following are your online and offline store configurations. You enable an online\n",
    "store by setting `EnableOnlineStore` to `True`. The offline store is located in an\n",
    "Amazon S3 bucket in your account. To update the bucket used, update the\n",
    "parameter `bucket` in the second code cell in this notebook."
   ]
  },
  {
   "cell_type": "code",
   "execution_count": 11,
   "metadata": {},
   "outputs": [
    {
     "name": "stdout",
     "output_type": "stream",
     "text": [
      "Feature Group Status: Creating\n",
      "Feature Group Status: Creating\n",
      "Feature Group Status: Creating\n",
      "Feature Group Status: Creating\n",
      "Feature Group Status: Created\n",
      "{'FeatureGroupArn': 'arn:aws:sagemaker:us-east-1:806570384721:feature-group/fg-flow-15-00-19-08-0a25e3fe', 'FeatureGroupName': 'FG-flow-15-00-19-08-0a25e3fe', 'RecordIdentifierFeatureName': 'review_id', 'EventTimeFeatureName': 'review_date', 'FeatureDefinitions': [{'FeatureName': 'marketplace', 'FeatureType': 'String'}, {'FeatureName': 'customer_id', 'FeatureType': 'Integral'}, {'FeatureName': 'review_id', 'FeatureType': 'String'}, {'FeatureName': 'product_id', 'FeatureType': 'String'}, {'FeatureName': 'product_parent', 'FeatureType': 'Integral'}, {'FeatureName': 'product_title', 'FeatureType': 'String'}, {'FeatureName': 'product_category', 'FeatureType': 'String'}, {'FeatureName': 'vine', 'FeatureType': 'String'}, {'FeatureName': 'verified_purchase', 'FeatureType': 'String'}, {'FeatureName': 'review_headline', 'FeatureType': 'String'}, {'FeatureName': 'review_body', 'FeatureType': 'String'}, {'FeatureName': 'review_date', 'FeatureType': 'String'}, {'FeatureName': 'star_rating', 'FeatureType': 'Integral'}, {'FeatureName': 'helpful_votes', 'FeatureType': 'Integral'}, {'FeatureName': 'total_votes', 'FeatureType': 'Integral'}, {'FeatureName': 'star_rating_scaled', 'FeatureType': 'Fractional'}], 'CreationTime': datetime.datetime(2020, 12, 15, 0, 22, 30, 437000, tzinfo=tzlocal()), 'OnlineStoreConfig': {'EnableOnlineStore': True}, 'OfflineStoreConfig': {'S3StorageConfig': {'S3Uri': 's3://sagemaker-us-east-1-806570384721'}, 'DisableGlueTableCreation': False, 'DataCatalogConfig': {'TableName': 'fg-flow-15-00-19-08-0a25e3fe-1607991750', 'Catalog': 'AwsDataCatalog', 'Database': 'sagemaker_featurestore'}}, 'RoleArn': 'arn:aws:iam::806570384721:role/TeamRole', 'FeatureGroupStatus': 'Created', 'ResponseMetadata': {'RequestId': 'cc20f1c4-81ba-4844-8456-f8afea15dbc9', 'HTTPStatusCode': 200, 'HTTPHeaders': {'x-amzn-requestid': 'cc20f1c4-81ba-4844-8456-f8afea15dbc9', 'content-type': 'application/x-amz-json-1.1', 'content-length': '1563', 'date': 'Tue, 15 Dec 2020 00:22:42 GMT'}, 'RetryAttempts': 0}}\n"
     ]
    }
   ],
   "source": [
    "sagemaker_client = boto3.client(\"sagemaker\", endpoint_url=sagemaker_endpoint_url)\n",
    "\n",
    "# Online Store Configuration\n",
    "online_store_config = {\"EnableOnlineStore\": True}\n",
    "\n",
    "# Offline Store Configuration\n",
    "s3_uri = \"s3://\" + bucket  # this is the default bucket defined in previous cells\n",
    "offline_store_config = {\"S3StorageConfig\": {\"S3Uri\": s3_uri}}\n",
    "\n",
    "# Create Feature Group\n",
    "create_fg_response = sagemaker_client.create_feature_group(\n",
    "    FeatureGroupName=feature_group_name,\n",
    "    EventTimeFeatureName=event_time_feature_name,\n",
    "    RecordIdentifierFeatureName=record_identifier_name,\n",
    "    FeatureDefinitions=feature_definitions,\n",
    "    OnlineStoreConfig=online_store_config,\n",
    "    OfflineStoreConfig=offline_store_config,\n",
    "    RoleArn=iam_role,\n",
    ")\n",
    "\n",
    "# Describe Feature Group\n",
    "status = sagemaker_client.describe_feature_group(FeatureGroupName=feature_group_name)\n",
    "while status[\"FeatureGroupStatus\"] != \"Created\":\n",
    "    if status[\"FeatureGroupStatus\"] == \"CreateFailed\":\n",
    "        raise RuntimeError(f\"Feature Group Creation Failed: {status}\")\n",
    "    status = sagemaker_client.describe_feature_group(FeatureGroupName=feature_group_name)\n",
    "    print(\"Feature Group Status: \" + status[\"FeatureGroupStatus\"])\n",
    "    time.sleep(3)\n",
    "\n",
    "print(status)"
   ]
  },
  {
   "cell_type": "markdown",
   "metadata": {},
   "source": [
    "Use the following code cell to define helper functions for creating inputs to\n",
    "a processing job."
   ]
  },
  {
   "cell_type": "code",
   "execution_count": 12,
   "metadata": {},
   "outputs": [],
   "source": [
    "def create_flow_notebook_processing_input(base_dir, flow_s3_uri):\n",
    "    return {\n",
    "        \"InputName\": \"flow\",\n",
    "        \"S3Input\": {\n",
    "            \"LocalPath\": f\"{base_dir}/flow\",\n",
    "            \"S3Uri\": flow_s3_uri,\n",
    "            \"S3DataType\": \"S3Prefix\",\n",
    "            \"S3InputMode\": \"File\",\n",
    "        },\n",
    "    }\n",
    "\n",
    "\n",
    "def create_s3_processing_input(base_dir, name, dataset_definition):\n",
    "    return {\n",
    "        \"InputName\": name,\n",
    "        \"S3Input\": {\n",
    "            \"LocalPath\": f\"{base_dir}/{name}\",\n",
    "            \"S3Uri\": dataset_definition[\"s3ExecutionContext\"][\"s3Uri\"],\n",
    "            \"S3DataType\": \"S3Prefix\",\n",
    "            \"S3InputMode\": \"File\",\n",
    "        },\n",
    "    }\n",
    "\n",
    "\n",
    "def create_redshift_processing_input(base_dir, name, dataset_definition):\n",
    "    return {\n",
    "        \"InputName\": name,\n",
    "        \"DatasetDefinition\": {\n",
    "            \"RedshiftDatasetDefinition\": {\n",
    "                \"ClusterId\": dataset_definition[\"clusterIdentifier\"],\n",
    "                \"Database\": dataset_definition[\"database\"],\n",
    "                \"DbUser\": dataset_definition[\"dbUser\"],\n",
    "                \"QueryString\": dataset_definition[\"queryString\"],\n",
    "                \"ClusterRoleArn\": dataset_definition[\"unloadIamRole\"],\n",
    "                \"OutputS3Uri\": f'{dataset_definition[\"s3OutputLocation\"]}{name}/',\n",
    "                \"OutputFormat\": dataset_definition[\"outputFormat\"].upper(),\n",
    "            },\n",
    "            \"LocalPath\": f\"{base_dir}/{name}\",\n",
    "        },\n",
    "    }\n",
    "\n",
    "\n",
    "def create_athena_processing_input(base_dir, name, dataset_definition):\n",
    "    return {\n",
    "        \"InputName\": name,\n",
    "        \"DatasetDefinition\": {\n",
    "            \"AthenaDatasetDefinition\": {\n",
    "                \"Catalog\": dataset_definition[\"catalogName\"],\n",
    "                \"Database\": dataset_definition[\"databaseName\"],\n",
    "                \"QueryString\": dataset_definition[\"queryString\"],\n",
    "                \"OutputS3Uri\": f'{dataset_definition[\"s3OutputLocation\"]}{name}/',\n",
    "                \"OutputFormat\": dataset_definition[\"outputFormat\"].upper(),\n",
    "            },\n",
    "            \"LocalPath\": f\"{base_dir}/{name}\",\n",
    "        },\n",
    "    }\n",
    "\n",
    "\n",
    "def create_processing_inputs(processing_dir, flow, flow_uri):\n",
    "    \"\"\"Helper function for creating processing inputs\n",
    "    :param flow: loaded data wrangler flow notebook\n",
    "    :param flow_uri: S3 URI of the data wrangler flow notebook\n",
    "    \"\"\"\n",
    "    processing_inputs = []\n",
    "    flow_processing_input = create_flow_notebook_processing_input(processing_dir, flow_uri)\n",
    "    processing_inputs.append(flow_processing_input)\n",
    "\n",
    "    for node in flow[\"nodes\"]:\n",
    "        if \"dataset_definition\" in node[\"parameters\"]:\n",
    "            data_def = node[\"parameters\"][\"dataset_definition\"]\n",
    "            name = data_def[\"name\"]\n",
    "            source_type = data_def[\"datasetSourceType\"]\n",
    "\n",
    "            if source_type == \"S3\":\n",
    "                s3_processing_input = create_s3_processing_input(processing_dir, name, data_def)\n",
    "                processing_inputs.append(s3_processing_input)\n",
    "            elif source_type == \"Athena\":\n",
    "                athena_processing_input = create_athena_processing_input(processing_dir, name, data_def)\n",
    "                processing_inputs.append(athena_processing_input)\n",
    "            elif source_type == \"Redshift\":\n",
    "                redshift_processing_input = create_redshift_processing_input(processing_dir, name, data_def)\n",
    "                processing_inputs.append(redshift_processing_input)\n",
    "            else:\n",
    "                raise ValueError(f\"{source_type} is not supported for Data Wrangler Processing.\")\n",
    "    return processing_inputs"
   ]
  },
  {
   "cell_type": "markdown",
   "metadata": {},
   "source": [
    "## Start ProcessingJob\n",
    "Now, the Processing Job is submitted to a boto client. The status of the processing job is\n",
    "monitored with the boto client, and this notebook waits until the job is no longer 'InProgress'."
   ]
  },
  {
   "cell_type": "code",
   "execution_count": 13,
   "metadata": {},
   "outputs": [
    {
     "name": "stdout",
     "output_type": "stream",
     "text": [
      "Processing Job Name: data-wrangler-feature-store-processing-15-00-19-08-0a25e3fe\n",
      "InProgress\n",
      "InProgress\n",
      "InProgress\n",
      "InProgress\n",
      "InProgress\n",
      "Failed\n"
     ]
    },
    {
     "ename": "RuntimeError",
     "evalue": "Processing Job failed: {'ProcessingInputs': [{'InputName': 'flow', 'AppManaged': False, 'S3Input': {'S3Uri': 's3://sagemaker-us-east-1-806570384721/data_wrangler_flows/flow-15-00-19-08-0a25e3fe.flow', 'LocalPath': '/opt/ml/processing/flow', 'S3DataType': 'S3Prefix', 'S3InputMode': 'File', 'S3DataDistributionType': 'FullyReplicated'}}, {'InputName': 'amazon-reviews-pds-tsv', 'AppManaged': False, 'DatasetDefinition': {'AthenaDatasetDefinition': {'Catalog': 'AwsDataCatalog', 'Database': 'dsoaws', 'QueryString': 'select * from amazon_reviews_tsv', 'OutputS3Uri': 's3://sagemaker-us-east-1-806570384721/athena/amazon-reviews-pds-tsv/', 'OutputFormat': 'PARQUET'}, 'LocalPath': '/opt/ml/processing/amazon-reviews-pds-tsv', 'DataDistributionType': 'ShardedByS3Key', 'InputMode': 'File'}}], 'ProcessingOutputConfig': {'Outputs': [{'OutputName': 'e880c72f-910c-4554-9a28-a66ce9d3b35f.default', 'FeatureStoreOutput': {'FeatureGroupName': 'FG-flow-15-00-19-08-0a25e3fe'}, 'AppManaged': True}]}, 'ProcessingJobName': 'data-wrangler-feature-store-processing-15-00-19-08-0a25e3fe', 'ProcessingResources': {'ClusterConfig': {'InstanceCount': 1, 'InstanceType': 'ml.m5.4xlarge', 'VolumeSizeInGB': 30}}, 'StoppingCondition': {'MaxRuntimeInSeconds': 86400}, 'AppSpecification': {'ImageUri': '663277389841.dkr.ecr.us-east-1.amazonaws.com/sagemaker-data-wrangler-container:1.0.2'}, 'RoleArn': 'arn:aws:iam::806570384721:role/TeamRole', 'ProcessingJobArn': 'arn:aws:sagemaker:us-east-1:806570384721:processing-job/data-wrangler-feature-store-processing-15-00-19-08-0a25e3fe', 'ProcessingJobStatus': 'Failed', 'ExitMessage': \"Algorithm Error: (caused by CalledProcessError): spark failed with a non-zero exit code: Command 'spark-submit --master yarn --deploy-mode client /entrypoint/processing_entrypoint.py' returned non-zero exit status 1.\", 'FailureReason': 'AlgorithmError: See job logs for more information', 'ProcessingEndTime': datetime.datetime(2020, 12, 15, 0, 27, 10, 801000, tzinfo=tzlocal()), 'ProcessingStartTime': datetime.datetime(2020, 12, 15, 0, 26, 39, 826000, tzinfo=tzlocal()), 'LastModifiedTime': datetime.datetime(2020, 12, 15, 0, 27, 10, 804000, tzinfo=tzlocal()), 'CreationTime': datetime.datetime(2020, 12, 15, 0, 22, 46, 418000, tzinfo=tzlocal()), 'ResponseMetadata': {'RequestId': '09288459-9f64-4277-b105-9cc1fe193cac', 'HTTPStatusCode': 200, 'HTTPHeaders': {'x-amzn-requestid': '09288459-9f64-4277-b105-9cc1fe193cac', 'content-type': 'application/x-amz-json-1.1', 'content-length': '2103', 'date': 'Tue, 15 Dec 2020 00:27:46 GMT'}, 'RetryAttempts': 0}}",
     "output_type": "error",
     "traceback": [
      "\u001b[0;31m---------------------------------------------------------------------------\u001b[0m",
      "\u001b[0;31mRuntimeError\u001b[0m                              Traceback (most recent call last)",
      "\u001b[0;32m<ipython-input-13-49ccbdab970f>\u001b[0m in \u001b[0;36m<module>\u001b[0;34m\u001b[0m\n\u001b[1;32m     36\u001b[0m \u001b[0;32mwhile\u001b[0m \u001b[0mstatus\u001b[0m\u001b[0;34m[\u001b[0m\u001b[0;34m'ProcessingJobStatus'\u001b[0m\u001b[0;34m]\u001b[0m \u001b[0;32min\u001b[0m \u001b[0;34m(\u001b[0m\u001b[0;34m'InProgress'\u001b[0m\u001b[0;34m,\u001b[0m \u001b[0;34m'Failed'\u001b[0m\u001b[0;34m)\u001b[0m\u001b[0;34m:\u001b[0m\u001b[0;34m\u001b[0m\u001b[0;34m\u001b[0m\u001b[0m\n\u001b[1;32m     37\u001b[0m     \u001b[0;32mif\u001b[0m \u001b[0mstatus\u001b[0m\u001b[0;34m[\u001b[0m\u001b[0;34m'ProcessingJobStatus'\u001b[0m\u001b[0;34m]\u001b[0m \u001b[0;34m==\u001b[0m \u001b[0;34m'Failed'\u001b[0m\u001b[0;34m:\u001b[0m\u001b[0;34m\u001b[0m\u001b[0;34m\u001b[0m\u001b[0m\n\u001b[0;32m---> 38\u001b[0;31m         \u001b[0;32mraise\u001b[0m \u001b[0mRuntimeError\u001b[0m\u001b[0;34m(\u001b[0m\u001b[0;34mf\"Processing Job failed: {status}\"\u001b[0m\u001b[0;34m)\u001b[0m\u001b[0;34m\u001b[0m\u001b[0;34m\u001b[0m\u001b[0m\n\u001b[0m\u001b[1;32m     39\u001b[0m     \u001b[0mstatus\u001b[0m \u001b[0;34m=\u001b[0m \u001b[0msagemaker_client\u001b[0m\u001b[0;34m.\u001b[0m\u001b[0mdescribe_processing_job\u001b[0m\u001b[0;34m(\u001b[0m\u001b[0mProcessingJobName\u001b[0m\u001b[0;34m=\u001b[0m\u001b[0mprocessing_job_name\u001b[0m\u001b[0;34m)\u001b[0m\u001b[0;34m\u001b[0m\u001b[0;34m\u001b[0m\u001b[0m\n\u001b[1;32m     40\u001b[0m     \u001b[0mprint\u001b[0m\u001b[0;34m(\u001b[0m\u001b[0mstatus\u001b[0m\u001b[0;34m[\u001b[0m\u001b[0;34m'ProcessingJobStatus'\u001b[0m\u001b[0;34m]\u001b[0m\u001b[0;34m)\u001b[0m\u001b[0;34m\u001b[0m\u001b[0;34m\u001b[0m\u001b[0m\n",
      "\u001b[0;31mRuntimeError\u001b[0m: Processing Job failed: {'ProcessingInputs': [{'InputName': 'flow', 'AppManaged': False, 'S3Input': {'S3Uri': 's3://sagemaker-us-east-1-806570384721/data_wrangler_flows/flow-15-00-19-08-0a25e3fe.flow', 'LocalPath': '/opt/ml/processing/flow', 'S3DataType': 'S3Prefix', 'S3InputMode': 'File', 'S3DataDistributionType': 'FullyReplicated'}}, {'InputName': 'amazon-reviews-pds-tsv', 'AppManaged': False, 'DatasetDefinition': {'AthenaDatasetDefinition': {'Catalog': 'AwsDataCatalog', 'Database': 'dsoaws', 'QueryString': 'select * from amazon_reviews_tsv', 'OutputS3Uri': 's3://sagemaker-us-east-1-806570384721/athena/amazon-reviews-pds-tsv/', 'OutputFormat': 'PARQUET'}, 'LocalPath': '/opt/ml/processing/amazon-reviews-pds-tsv', 'DataDistributionType': 'ShardedByS3Key', 'InputMode': 'File'}}], 'ProcessingOutputConfig': {'Outputs': [{'OutputName': 'e880c72f-910c-4554-9a28-a66ce9d3b35f.default', 'FeatureStoreOutput': {'FeatureGroupName': 'FG-flow-15-00-19-08-0a25e3fe'}, 'AppManaged': True}]}, 'ProcessingJobName': 'data-wrangler-feature-store-processing-15-00-19-08-0a25e3fe', 'ProcessingResources': {'ClusterConfig': {'InstanceCount': 1, 'InstanceType': 'ml.m5.4xlarge', 'VolumeSizeInGB': 30}}, 'StoppingCondition': {'MaxRuntimeInSeconds': 86400}, 'AppSpecification': {'ImageUri': '663277389841.dkr.ecr.us-east-1.amazonaws.com/sagemaker-data-wrangler-container:1.0.2'}, 'RoleArn': 'arn:aws:iam::806570384721:role/TeamRole', 'ProcessingJobArn': 'arn:aws:sagemaker:us-east-1:806570384721:processing-job/data-wrangler-feature-store-processing-15-00-19-08-0a25e3fe', 'ProcessingJobStatus': 'Failed', 'ExitMessage': \"Algorithm Error: (caused by CalledProcessError): spark failed with a non-zero exit code: Command 'spark-submit --master yarn --deploy-mode client /entrypoint/processing_entrypoint.py' returned non-zero exit status 1.\", 'FailureReason': 'AlgorithmError: See job logs for more information', 'ProcessingEndTime': datetime.datetime(2020, 12, 15, 0, 27, 10, 801000, tzinfo=tzlocal()), 'ProcessingStartTime': datetime.datetime(2020, 12, 15, 0, 26, 39, 826000, tzinfo=tzlocal()), 'LastModifiedTime': datetime.datetime(2020, 12, 15, 0, 27, 10, 804000, tzinfo=tzlocal()), 'CreationTime': datetime.datetime(2020, 12, 15, 0, 22, 46, 418000, tzinfo=tzlocal()), 'ResponseMetadata': {'RequestId': '09288459-9f64-4277-b105-9cc1fe193cac', 'HTTPStatusCode': 200, 'HTTPHeaders': {'x-amzn-requestid': '09288459-9f64-4277-b105-9cc1fe193cac', 'content-type': 'application/x-amz-json-1.1', 'content-length': '2103', 'date': 'Tue, 15 Dec 2020 00:27:46 GMT'}, 'RetryAttempts': 0}}"
     ]
    }
   ],
   "source": [
    "# Processing job name\n",
    "print(f\"Processing Job Name: {processing_job_name}\")\n",
    "\n",
    "processingResources = {\"ClusterConfig\": {\"InstanceCount\": 1, \"InstanceType\": \"ml.m5.4xlarge\", \"VolumeSizeInGB\": 30}}\n",
    "\n",
    "appSpecification = {\"ImageUri\": container_uri}\n",
    "\n",
    "sagemaker_client.create_processing_job(\n",
    "    ProcessingInputs=create_processing_inputs(processing_dir, flow, flow_uri),\n",
    "    ProcessingOutputConfig={\n",
    "        \"Outputs\": [\n",
    "            {\n",
    "                \"OutputName\": \"e880c72f-910c-4554-9a28-a66ce9d3b35f.default\",\n",
    "                \"FeatureStoreOutput\": {\"FeatureGroupName\": feature_group_name},\n",
    "                \"AppManaged\": True,\n",
    "            }\n",
    "        ],\n",
    "    },\n",
    "    ProcessingJobName=processing_job_name,\n",
    "    ProcessingResources=processingResources,\n",
    "    AppSpecification=appSpecification,\n",
    "    RoleArn=iam_role,\n",
    ")\n",
    "\n",
    "\n",
    "status = sagemaker_client.describe_processing_job(ProcessingJobName=processing_job_name)\n",
    "\n",
    "while status[\"ProcessingJobStatus\"] in (\"InProgress\", \"Failed\"):\n",
    "    if status[\"ProcessingJobStatus\"] == \"Failed\":\n",
    "        raise RuntimeError(f\"Processing Job failed: {status}\")\n",
    "    status = sagemaker_client.describe_processing_job(ProcessingJobName=processing_job_name)\n",
    "    print(status[\"ProcessingJobStatus\"])\n",
    "    time.sleep(60)\n",
    "\n",
    "print(status)"
   ]
  },
  {
   "cell_type": "markdown",
   "metadata": {},
   "source": [
    "### Cleanup\n",
    "Uncomment the following code cell to revert the SageMaker Python SDK to the original version used\n",
    "before running this notebook. This notebook upgrades the SageMaker Python SDK to 2.x, which may\n",
    "cause other example notebooks to break. To learn more about the changes introduced in the\n",
    "SageMaker Python SDK 2.x update, see\n",
    "[Use Version 2.x of the SageMaker Python SDK.](https://sagemaker.readthedocs.io/en/stable/v2.html)."
   ]
  },
  {
   "cell_type": "code",
   "execution_count": null,
   "metadata": {},
   "outputs": [],
   "source": [
    "# _ = subprocess.check_call(\n",
    "#     [sys.executable, \"-m\", \"pip\", \"install\", f\"sagemaker=={original_version}\"]\n",
    "# )"
   ]
  }
 ],
 "metadata": {
  "instance_type": "ml.t3.medium",
  "kernelspec": {
   "display_name": "conda_python3",
   "language": "python",
   "name": "conda_python3"
  },
  "language_info": {
   "codemirror_mode": {
    "name": "ipython",
    "version": 3
   },
   "file_extension": ".py",
   "mimetype": "text/x-python",
   "name": "python",
   "nbconvert_exporter": "python",
   "pygments_lexer": "ipython3",
   "version": "3.6.10"
  }
 },
 "nbformat": 4,
 "nbformat_minor": 4
}
