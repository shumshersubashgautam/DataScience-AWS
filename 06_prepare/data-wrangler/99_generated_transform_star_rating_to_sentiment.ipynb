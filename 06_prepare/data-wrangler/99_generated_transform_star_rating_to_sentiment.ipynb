{
 "cells": [
  {
   "cell_type": "markdown",
   "metadata": {},
   "source": [
    "# SageMaker Data Wrangler Job Notebook\n",
    "This notebook uses the Data Wrangler .flow file to submit a SageMaker Data Wrangler Job\n",
    "with the following steps:\n",
    "\n",
    "* Push Data Wrangler .flow file to S3\n",
    "* Parse the .flow file inputs, and create the argument dictionary to submit to a boto client\n",
    "* Submit the ProcessingJob arguments and wait for Job completion\n",
    "\n",
    "Optionally, the notebook also gives an example of starting a SageMaker XGBoost TrainingJob using\n",
    "the newly processed data."
   ]
  },
  {
   "cell_type": "code",
   "execution_count": 1,
   "metadata": {},
   "outputs": [
    {
     "name": "stdout",
     "output_type": "stream",
     "text": [
      "Requirement already satisfied: sagemaker==2.16.4 in /root/.local/lib/python3.7/site-packages (2.16.4)\n",
      "Requirement already satisfied: protobuf>=3.1 in /opt/conda/lib/python3.7/site-packages (from sagemaker==2.16.4) (3.13.0)\n",
      "Requirement already satisfied: attrs in /opt/conda/lib/python3.7/site-packages (from sagemaker==2.16.4) (19.3.0)\n",
      "Requirement already satisfied: smdebug-rulesconfig==0.1.5 in /opt/conda/lib/python3.7/site-packages (from sagemaker==2.16.4) (0.1.5)\n",
      "Requirement already satisfied: protobuf3-to-dict>=0.1.5 in /opt/conda/lib/python3.7/site-packages (from sagemaker==2.16.4) (0.1.5)\n",
      "Requirement already satisfied: packaging>=20.0 in /opt/conda/lib/python3.7/site-packages (from sagemaker==2.16.4) (20.1)\n",
      "Requirement already satisfied: importlib-metadata>=1.4.0 in /opt/conda/lib/python3.7/site-packages (from sagemaker==2.16.4) (1.5.0)\n",
      "Requirement already satisfied: google-pasta in /opt/conda/lib/python3.7/site-packages (from sagemaker==2.16.4) (0.2.0)\n",
      "Requirement already satisfied: numpy>=1.9.0 in /opt/conda/lib/python3.7/site-packages (from sagemaker==2.16.4) (1.18.1)\n",
      "Requirement already satisfied: boto3>=1.16.27 in /opt/conda/lib/python3.7/site-packages (from sagemaker==2.16.4) (1.16.28)\n",
      "Requirement already satisfied: s3transfer<0.4.0,>=0.3.0 in /opt/conda/lib/python3.7/site-packages (from boto3>=1.16.27->sagemaker==2.16.4) (0.3.3)\n",
      "Requirement already satisfied: botocore<1.20.0,>=1.19.28 in /opt/conda/lib/python3.7/site-packages (from boto3>=1.16.27->sagemaker==2.16.4) (1.19.28)\n",
      "Requirement already satisfied: jmespath<1.0.0,>=0.7.1 in /opt/conda/lib/python3.7/site-packages (from boto3>=1.16.27->sagemaker==2.16.4) (0.10.0)\n",
      "Requirement already satisfied: urllib3<1.27,>=1.25.4 in /opt/conda/lib/python3.7/site-packages (from botocore<1.20.0,>=1.19.28->boto3>=1.16.27->sagemaker==2.16.4) (1.25.8)\n",
      "Requirement already satisfied: python-dateutil<3.0.0,>=2.1 in /opt/conda/lib/python3.7/site-packages (from botocore<1.20.0,>=1.19.28->boto3>=1.16.27->sagemaker==2.16.4) (2.8.1)\n",
      "Requirement already satisfied: jmespath<1.0.0,>=0.7.1 in /opt/conda/lib/python3.7/site-packages (from boto3>=1.16.27->sagemaker==2.16.4) (0.10.0)\n",
      "Requirement already satisfied: six in /opt/conda/lib/python3.7/site-packages (from google-pasta->sagemaker==2.16.4) (1.14.0)\n",
      "Requirement already satisfied: zipp>=0.5 in /opt/conda/lib/python3.7/site-packages (from importlib-metadata>=1.4.0->sagemaker==2.16.4) (2.2.0)\n",
      "Requirement already satisfied: six in /opt/conda/lib/python3.7/site-packages (from google-pasta->sagemaker==2.16.4) (1.14.0)\n",
      "Requirement already satisfied: pyparsing>=2.0.2 in /opt/conda/lib/python3.7/site-packages (from packaging>=20.0->sagemaker==2.16.4) (2.4.6)\n",
      "Requirement already satisfied: six in /opt/conda/lib/python3.7/site-packages (from google-pasta->sagemaker==2.16.4) (1.14.0)\n",
      "Requirement already satisfied: setuptools in /opt/conda/lib/python3.7/site-packages (from protobuf>=3.1->sagemaker==2.16.4) (45.2.0.post20200210)\n",
      "Requirement already satisfied: six in /opt/conda/lib/python3.7/site-packages (from google-pasta->sagemaker==2.16.4) (1.14.0)\n",
      "Requirement already satisfied: protobuf>=3.1 in /opt/conda/lib/python3.7/site-packages (from sagemaker==2.16.4) (3.13.0)\n",
      "Requirement already satisfied: six in /opt/conda/lib/python3.7/site-packages (from google-pasta->sagemaker==2.16.4) (1.14.0)\n",
      "Requirement already satisfied: botocore<1.20.0,>=1.19.28 in /opt/conda/lib/python3.7/site-packages (from boto3>=1.16.27->sagemaker==2.16.4) (1.19.28)\n",
      "Note: you may need to restart the kernel to use updated packages.\n"
     ]
    }
   ],
   "source": [
    "%pip install sagemaker==2.16.4 --user"
   ]
  },
  {
   "cell_type": "code",
   "execution_count": 2,
   "metadata": {},
   "outputs": [],
   "source": [
    "import json\n",
    "import os\n",
    "import time\n",
    "import uuid\n",
    "\n",
    "import boto3\n",
    "import sagemaker"
   ]
  },
  {
   "cell_type": "markdown",
   "metadata": {},
   "source": [
    "## Parameters\n",
    "The following lists configurable parameters that are used throughout this notebook."
   ]
  },
  {
   "cell_type": "code",
   "execution_count": 5,
   "metadata": {},
   "outputs": [],
   "source": [
    "# S3 bucket for saving processing job outputs\n",
    "# Feel free to specify a different bucket here if you wish.\n",
    "sess = sagemaker.Session()\n",
    "bucket = sess.default_bucket()\n",
    "prefix = \"data_wrangler_flows\"\n",
    "flow_id = f\"{time.strftime('%d-%H-%M-%S', time.gmtime())}-{str(uuid.uuid4())[:8]}\"\n",
    "flow_name = f\"flow-{flow_id}\"\n",
    "flow_uri = f\"s3://{bucket}/{prefix}/{flow_name}.flow\"\n",
    "\n",
    "flow_file_name = \"99_transform_star_rating_to_sentiment.flow\"\n",
    "\n",
    "iam_role = sagemaker.get_execution_role()\n",
    "\n",
    "container_uri = \"663277389841.dkr.ecr.us-east-1.amazonaws.com/sagemaker-data-wrangler-container:1.0.1\"\n",
    "\n",
    "# Processing Job Resources Configurations\n",
    "# Data wrangler processing job only supports 1 instance.\n",
    "instance_count = 1\n",
    "instance_type = \"ml.m5.4xlarge\"\n",
    "\n",
    "# Processing Job Path URI Information\n",
    "output_prefix = f\"export-{flow_name}/output\"\n",
    "output_path = f\"s3://{bucket}/{output_prefix}\"\n",
    "output_name = \"2b17c16a-8c82-432a-9fec-11ed0b510539.default\"\n",
    "\n",
    "processing_job_name = f\"data-wrangler-flow-processing-{flow_id}\"\n",
    "\n",
    "processing_dir = \"/opt/ml/processing\"\n",
    "\n",
    "# Modify the variable below to specify the content type to be used for writing each output\n",
    "# Currently supported options are 'CSV' or 'PARQUET', and default to 'CSV'\n",
    "output_content_type = \"CSV\"\n",
    "\n",
    "# URL to use for sagemaker client.\n",
    "# If this is None, boto will automatically construct the appropriate URL to use\n",
    "# when communicating with sagemaker.\n",
    "sagemaker_endpoint_url = None"
   ]
  },
  {
   "cell_type": "markdown",
   "metadata": {},
   "source": [
    "## Push Flow to S3\n",
    "Use the following cell to upload the Data Wrangler .flow file to Amazon S3 so that\n",
    "it can be used as an input to the processing job."
   ]
  },
  {
   "cell_type": "code",
   "execution_count": 6,
   "metadata": {},
   "outputs": [
    {
     "name": "stdout",
     "output_type": "stream",
     "text": [
      "Data Wrangler Flow notebook uploaded to s3://sagemaker-us-east-1-835319576252/data_wrangler_flows/flow-03-00-04-50-3d942e17.flow\n"
     ]
    }
   ],
   "source": [
    "# Load .flow file\n",
    "with open(flow_file_name) as f:\n",
    "    flow = json.load(f)\n",
    "\n",
    "# Upload to S3\n",
    "s3_client = boto3.client(\"s3\")\n",
    "s3_client.upload_file(flow_file_name, bucket, f\"{prefix}/{flow_name}.flow\")\n",
    "\n",
    "print(f\"Data Wrangler Flow notebook uploaded to {flow_uri}\")"
   ]
  },
  {
   "cell_type": "markdown",
   "metadata": {},
   "source": [
    "## Create boto3 Processing Job arguments\n",
    "\n",
    "This notebook submits a Processing Job using boto, which will require an argument dictionary to\n",
    "submit to the boto client. Below, utility methods are defined for creating Processing Job Inputs\n",
    "for the following sources: S3, Athena, and Redshift. Then the argument dictionary is generated\n",
    "using the parsed inputs and job configurations such as instance type."
   ]
  },
  {
   "cell_type": "code",
   "execution_count": 7,
   "metadata": {},
   "outputs": [],
   "source": [
    "def create_flow_notebook_processing_input(base_dir, flow_s3_uri):\n",
    "    return {\n",
    "        \"InputName\": \"flow\",\n",
    "        \"S3Input\": {\n",
    "            \"LocalPath\": f\"{base_dir}/flow\",\n",
    "            \"S3Uri\": flow_s3_uri,\n",
    "            \"S3DataType\": \"S3Prefix\",\n",
    "            \"S3InputMode\": \"File\",\n",
    "        },\n",
    "    }\n",
    "\n",
    "def create_s3_processing_input(base_dir, name, dataset_definition):\n",
    "    return {\n",
    "        \"InputName\": name,\n",
    "        \"S3Input\": {\n",
    "            \"LocalPath\": f\"{base_dir}/{name}\",\n",
    "            \"S3Uri\": dataset_definition[\"s3ExecutionContext\"][\"s3Uri\"],\n",
    "            \"S3DataType\": \"S3Prefix\",\n",
    "            \"S3InputMode\": \"File\",\n",
    "        },\n",
    "    }\n",
    "\n",
    "def create_redshift_processing_input(base_dir, name, dataset_definition):\n",
    "    return {\n",
    "        \"InputName\": name,\n",
    "        \"DatasetDefinition\": {\n",
    "            \"RedshiftDatasetDefinition\": {\n",
    "                \"ClusterId\": dataset_definition[\"clusterIdentifier\"],\n",
    "                \"Database\": dataset_definition[\"database\"],\n",
    "                \"DbUser\": dataset_definition[\"dbUser\"],\n",
    "                \"QueryString\": dataset_definition[\"queryString\"],\n",
    "                \"ClusterRoleArn\": dataset_definition[\"unloadIamRole\"],\n",
    "                \"OutputS3Uri\": f'{dataset_definition[\"s3OutputLocation\"]}{name}/',\n",
    "                \"OutputFormat\": dataset_definition[\"outputFormat\"].upper(),\n",
    "            },\n",
    "            \"LocalPath\": f\"{base_dir}/{name}\",\n",
    "        },\n",
    "    }\n",
    "\n",
    "def create_athena_processing_input(base_dir, name, dataset_definition):\n",
    "    return {\n",
    "        \"InputName\": name,\n",
    "        \"DatasetDefinition\": {\n",
    "            \"AthenaDatasetDefinition\": {\n",
    "                \"Catalog\": dataset_definition[\"catalogName\"],\n",
    "                \"Database\": dataset_definition[\"databaseName\"],\n",
    "                \"QueryString\": dataset_definition[\"queryString\"],\n",
    "                \"OutputS3Uri\": f'{dataset_definition[\"s3OutputLocation\"]}{name}/',\n",
    "                \"OutputFormat\": dataset_definition[\"outputFormat\"].upper(),\n",
    "            },\n",
    "            \"LocalPath\": f\"{base_dir}/{name}\",\n",
    "        },\n",
    "    }\n",
    "\n",
    "def create_processing_inputs(processing_dir, flow, flow_uri):\n",
    "    \"\"\"Helper function for creating processing inputs\n",
    "    :param flow: loaded data wrangler flow notebook\n",
    "    :param flow_uri: S3 URI of the data wrangler flow notebook\n",
    "    \"\"\"\n",
    "    processing_inputs = []\n",
    "    flow_processing_input = create_flow_notebook_processing_input(processing_dir, flow_uri)\n",
    "    processing_inputs.append(flow_processing_input)\n",
    "\n",
    "    for node in flow[\"nodes\"]:\n",
    "        if \"dataset_definition\" in node[\"parameters\"]:\n",
    "            data_def = node[\"parameters\"][\"dataset_definition\"]\n",
    "            name = data_def[\"name\"]\n",
    "            source_type = data_def[\"datasetSourceType\"]\n",
    "\n",
    "            if source_type == \"S3\":\n",
    "                s3_processing_input = create_s3_processing_input(\n",
    "                    processing_dir, name, data_def)\n",
    "                processing_inputs.append(s3_processing_input)\n",
    "            elif source_type == \"Athena\":\n",
    "                athena_processing_input = create_athena_processing_input(\n",
    "                    processing_dir, name, data_def)\n",
    "                processing_inputs.append(athena_processing_input)\n",
    "            elif source_type == \"Redshift\":\n",
    "                redshift_processing_input = create_redshift_processing_input(\n",
    "                    processing_dir, name, data_def)\n",
    "                processing_inputs.append(redshift_processing_input)\n",
    "            else:\n",
    "                raise ValueError(f\"{source_type} is not supported for Data Wrangler Processing.\")\n",
    "    return processing_inputs\n",
    "\n",
    "def create_container_arguments(output_name, output_content_type):\n",
    "    output_config = {\n",
    "        output_name: {\n",
    "            \"content_type\": output_content_type\n",
    "        }\n",
    "    }\n",
    "    return [f\"--output-config '{json.dumps(output_config)}'\"]\n",
    "\n",
    "# Create Processing Job Arguments\n",
    "processing_job_arguments = {\n",
    "    \"AppSpecification\": {\n",
    "        \"ContainerArguments\": create_container_arguments(output_name, output_content_type),\n",
    "        \"ImageUri\": container_uri,\n",
    "    },\n",
    "    \"ProcessingInputs\": create_processing_inputs(processing_dir, flow, flow_uri),\n",
    "    \"ProcessingOutputConfig\": {\n",
    "        \"Outputs\": [\n",
    "            {\n",
    "                \"OutputName\": output_name,\n",
    "                \"S3Output\": {\n",
    "                    \"S3Uri\": output_path,\n",
    "                    \"LocalPath\": os.path.join(processing_dir, \"output\"),\n",
    "                    \"S3UploadMode\": \"EndOfJob\",\n",
    "                }\n",
    "            },\n",
    "        ],\n",
    "    },\n",
    "    \"ProcessingJobName\": processing_job_name,\n",
    "    \"ProcessingResources\": {\n",
    "        \"ClusterConfig\": {\n",
    "            \"InstanceCount\": instance_count,\n",
    "            \"InstanceType\": instance_type,\n",
    "            \"VolumeSizeInGB\": 30,\n",
    "        }\n",
    "    },\n",
    "    \"RoleArn\": iam_role,\n",
    "    \"StoppingCondition\": {\n",
    "        \"MaxRuntimeInSeconds\": 86400,\n",
    "    },\n",
    "}"
   ]
  },
  {
   "cell_type": "markdown",
   "metadata": {},
   "source": [
    "## Start ProcessingJob\n",
    "Now, the Processing Job is submitted to a boto client. The status of the processing job is\n",
    "monitored with the boto client, and this notebook waits until the job is no longer 'InProgress'."
   ]
  },
  {
   "cell_type": "code",
   "execution_count": 8,
   "metadata": {},
   "outputs": [],
   "source": [
    "sagemaker_client = boto3.client(\"sagemaker\", endpoint_url=sagemaker_endpoint_url)\n",
    "create_response = sagemaker_client.create_processing_job(**processing_job_arguments)\n",
    "\n",
    "status = sagemaker_client.describe_processing_job(ProcessingJobName=processing_job_name)"
   ]
  },
  {
   "cell_type": "code",
   "execution_count": 10,
   "metadata": {},
   "outputs": [
    {
     "name": "stdout",
     "output_type": "stream",
     "text": [
      "InProgress\n",
      "InProgress\n",
      "InProgress\n",
      "InProgress\n",
      "InProgress\n",
      "Completed\n",
      "{'ProcessingInputs': [{'InputName': 'flow', 'AppManaged': False, 'S3Input': {'S3Uri': 's3://sagemaker-us-east-1-835319576252/data_wrangler_flows/flow-03-00-04-50-3d942e17.flow', 'LocalPath': '/opt/ml/processing/flow', 'S3DataType': 'S3Prefix', 'S3InputMode': 'File', 'S3DataDistributionType': 'FullyReplicated'}}, {'InputName': 'amazon-reviews-pds-tsv', 'AppManaged': False, 'DatasetDefinition': {'AthenaDatasetDefinition': {'Catalog': 'AwsDataCatalog', 'Database': 'dsoaws', 'QueryString': 'select * from amazon_reviews_tsv', 'OutputS3Uri': 's3://sagemaker-us-east-1-835319576252/athena/amazon-reviews-pds-tsv/', 'OutputDatasetS3Uri': 's3://sagemaker-us-east-1-835319576252/athena/amazon-reviews-pds-tsv/data-wrangler-flow-processing-03-00-04-50-3d942e17/data', 'OutputFormat': 'PARQUET'}, 'LocalPath': '/opt/ml/processing/amazon-reviews-pds-tsv', 'DataDistributionType': 'ShardedByS3Key', 'InputMode': 'File'}}], 'ProcessingOutputConfig': {'Outputs': [{'OutputName': '2b17c16a-8c82-432a-9fec-11ed0b510539.default', 'S3Output': {'S3Uri': 's3://sagemaker-us-east-1-835319576252/export-flow-03-00-04-50-3d942e17/output', 'LocalPath': '/opt/ml/processing/output', 'S3UploadMode': 'EndOfJob'}, 'AppManaged': False}]}, 'ProcessingJobName': 'data-wrangler-flow-processing-03-00-04-50-3d942e17', 'ProcessingResources': {'ClusterConfig': {'InstanceCount': 1, 'InstanceType': 'ml.m5.4xlarge', 'VolumeSizeInGB': 30}}, 'StoppingCondition': {'MaxRuntimeInSeconds': 86400}, 'AppSpecification': {'ImageUri': '663277389841.dkr.ecr.us-east-1.amazonaws.com/sagemaker-data-wrangler-container:1.0.1', 'ContainerArguments': ['--output-config \\'{\"2b17c16a-8c82-432a-9fec-11ed0b510539.default\": {\"content_type\": \"CSV\"}}\\'']}, 'RoleArn': 'arn:aws:iam::835319576252:role/service-role/AmazonSageMaker-ExecutionRole-20191006T135881', 'ProcessingJobArn': 'arn:aws:sagemaker:us-east-1:835319576252:processing-job/data-wrangler-flow-processing-03-00-04-50-3d942e17', 'ProcessingJobStatus': 'Completed', 'ProcessingEndTime': datetime.datetime(2020, 12, 3, 0, 9, 58, 863000, tzinfo=tzlocal()), 'ProcessingStartTime': datetime.datetime(2020, 12, 3, 0, 9, 8, 492000, tzinfo=tzlocal()), 'LastModifiedTime': datetime.datetime(2020, 12, 3, 0, 9, 58, 865000, tzinfo=tzlocal()), 'CreationTime': datetime.datetime(2020, 12, 3, 0, 4, 52, 501000, tzinfo=tzlocal()), 'CreatedBy': {'UserProfileArn': 'arn:aws:sagemaker:us-east-1:835319576252:user-profile/d-dsxoghy6ztwy/default-1602368497083', 'UserProfileName': 'default-1602368497083', 'DomainId': 'd-dsxoghy6ztwy'}, 'ResponseMetadata': {'RequestId': '864eb037-3507-46cd-bb22-26d7a5280935', 'HTTPStatusCode': 200, 'HTTPHeaders': {'x-amzn-requestid': '864eb037-3507-46cd-bb22-26d7a5280935', 'content-type': 'application/x-amz-json-1.1', 'content-length': '2240', 'date': 'Thu, 03 Dec 2020 00:10:03 GMT'}, 'RetryAttempts': 0}}\n"
     ]
    }
   ],
   "source": [
    "while status[\"ProcessingJobStatus\"] == \"InProgress\":\n",
    "    status = sagemaker_client.describe_processing_job(ProcessingJobName=processing_job_name)\n",
    "    print(status[\"ProcessingJobStatus\"])\n",
    "    time.sleep(60)\n",
    "\n",
    "print(status)"
   ]
  },
  {
   "cell_type": "code",
   "execution_count": 18,
   "metadata": {},
   "outputs": [
    {
     "name": "stdout",
     "output_type": "stream",
     "text": [
      "2020-12-03 00:09:47          0 _SUCCESS\n",
      "2020-12-03 00:09:36        238 part-00000-89e06de2-4fbe-4477-85e7-10121e5e2153-c000.csv\n",
      "2020-12-03 00:09:38   55877158 part-00002-89e06de2-4fbe-4477-85e7-10121e5e2153-c000.csv\n",
      "2020-12-03 00:09:37   14346687 part-00004-89e06de2-4fbe-4477-85e7-10121e5e2153-c000.csv\n",
      "2020-12-03 00:09:38   58569394 part-00007-89e06de2-4fbe-4477-85e7-10121e5e2153-c000.csv\n",
      "2020-12-03 00:09:36      91073 part-00012-89e06de2-4fbe-4477-85e7-10121e5e2153-c000.csv\n",
      "2020-12-03 00:09:36      87665 part-00013-89e06de2-4fbe-4477-85e7-10121e5e2153-c000.csv\n"
     ]
    }
   ],
   "source": [
    "!aws s3 ls s3://sagemaker-us-east-1-835319576252/export-flow-03-00-04-50-3d942e17/output/data-wrangler-flow-processing-03-00-04-50-3d942e17/2b17c16a-8c82-432a-9fec-11ed0b510539/default/\n",
    "\n"
   ]
  },
  {
   "cell_type": "code",
   "execution_count": 21,
   "metadata": {},
   "outputs": [
    {
     "name": "stdout",
     "output_type": "stream",
     "text": [
      "download: s3://sagemaker-us-east-1-835319576252/export-flow-03-00-04-50-3d942e17/output/data-wrangler-flow-processing-03-00-04-50-3d942e17/2b17c16a-8c82-432a-9fec-11ed0b510539/default/part-00012-89e06de2-4fbe-4477-85e7-10121e5e2153-c000.csv to ./part-00012-89e06de2-4fbe-4477-85e7-10121e5e2153-c000.csv\n"
     ]
    }
   ],
   "source": [
    "!aws s3 cp s3://sagemaker-us-east-1-835319576252/export-flow-03-00-04-50-3d942e17/output/data-wrangler-flow-processing-03-00-04-50-3d942e17/2b17c16a-8c82-432a-9fec-11ed0b510539/default/part-00012-89e06de2-4fbe-4477-85e7-10121e5e2153-c000.csv ./"
   ]
  },
  {
   "cell_type": "code",
   "execution_count": 22,
   "metadata": {},
   "outputs": [
    {
     "name": "stdout",
     "output_type": "stream",
     "text": [
      "marketplace,review_id,product_id,product_title,product_category,vine,verified_purchase,review_headline,review_body,review_date,customer_id,product_parent,star_rating,helpful_votes,total_votes,star_rating_scaled,star_rating_scaled_floored\n",
      "US,R328E814YY64A4,B004RMK4P8,Playstation Network Card,Digital_Video_Games,N,Y,Digital and Fast,Flawless! Recommend! Save my Life and open the doors of playstation network for me and my friends. Thank you so much!,2012-11-29,9628723,384246568,5,0,0,1.0,1\n",
      "US,R3C4A7JFJ3YK9T,B008Y218RK,Lord of the Rings: War in the North [Download],Digital_Video_Games,N,Y,\"When on sale, a great buy\",\"I bought it on sale, so I don't think I would spend over $10 on it, but it is pretty fun. Like a mix between LOTR: Third Age and the Return of the King game\",2012-11-29,48034084,102056685,4,0,0,0.5,0\n",
      "US,R1LC2JJITDDGA5,B008EMXQPM,Raptor : Call of the Shadow - 2010 Edition [Download],Digital_Video_Games,N,Y,AWESOME GAME,\"I ALWAYS LOVED THIS GAME AND WAS SO HAPPY THAT I FINALLY FOUND IT.  THE ORIGINAL VERSION THAT I HAVE IS ON FLOPPY DISK - AS WE ALL KNOW, THIS IS NO LONGER AN OPTION FOR THE NEW COMPUTERS.  I RECOMMEND THIS GAME FOR THOSE INDIVIDUALS THAT LOVE SHOT-EM-UP GAMES.\",2012-11-29,23728846,622952962,5,1,2,1.0,1\n",
      "US,R3H213H4SWBNGY,B0098QPPL6,Battlefield 3,Digital_Video_Games,N,Y,\"The game itself is good but battlelog and origin, not so good.\",\"The game is great, awesome graphics, sound, you know the stuff an awesome game has. My problem arises with origin and battlelog however. To play campaign(single player, no internet connection needed) you actually need to press play from origin, which will then launch the battlelog site, where you then have to click play. So basically, you need to be online to start playing campaign. So, if you're on a laptop with no internet connection, you can't play campaign. Battlelog also gives me an error online whenever I press 'quick match' from their site, so the only way to play multiplayer is by manually selecting servers.<br /><br />EDIT:<br />As of a few days ago Origin updated and allowed for offline play by selecting 'go offline' from within origin. Rating increased by one star. Also, it does come with a 'multiplayer head start' kit,  labelled 'welcome pack' in the Origin addons. I didn't decrease any stars for that(I thought I didn't get a head start kit) so no increase here. The fact still remains that there is no in-game way to select servers and the game must be launched for each individual server you join, thanks to battlelog.\",2012-11-29,21828191,64618519,3,16,19,0.0,0\n",
      "US,R1U5JRAUL9A5VF,B002WC80U6,Tom Clancy's Rainbow Six Vegas,Digital_Video_Games,N,Y,shooty fun,good fun if you've play the sequel and want some more - pretty  much more of the same - play them together for a longer story line,2012-11-29,32779798,395892949,4,1,1,0.5,0\n",
      "US,RQPZ1Y8YWC52,B0041HZ31O,Darkness Within 2: The Dark Lineage [Download],Digital_Video_Games,N,N,Awesome Game!!,\"Hey fellow games,<br /><br />I am a your average gamer that plays games such as Skyrim, BF3, Half Life 2, Amnesia..etc and i wanted something different to play and i am so glad that i came across this game. It was exactly what i was looking for. A adventure/horror game that's in first person which i Love and i love the inter-activeness of everything. All the mind bending puzzles as well as all the detective work really separates it from the rest of the normal games i am used to and the graphics are nice as well! Def give it a try guys, worth it!\",2012-11-29,47274371,752946978,5,1,1,1.0,1\n",
      "US,RRHNIYFWILJXK,B00475AYUA,Sid Meiers Civilization IV: The Complete Edition,Digital_Video_Games,N,Y,Addicting,\"Downloaded this game and have been hooked! I played Civilization 3 and decided to try this one, and it is just as addicting as the other games. Works on my computer running Windows 7, although had to update some drivers to play, but it runs smooth now.\",2012-11-29,21955215,684016722,5,0,0,1.0,1\n",
      "US,R3PYKYQE5MFQ7O,B0062Q5K5G,Call of Duty: Black Ops,Digital_Video_Games,N,Y,1 star reviews... Why,\"Average computer, no stutter other reviews misleading, my friend also bought this and no problems what so ever, good game\",2012-11-29,10652902,420656942,5,1,1,1.0,1\n",
      "US,R118L572HO0IZE,B004ZGBMCK,UFO Trilogy [Download],Digital_Video_Games,N,Y,Five stars but beware of hardware problems,\"I've always been a big fan of UFO series. To me it greatly expands on the original X-Com games adding its own tactical combat engine and interesting story line that takes surprising turns. I have played all the three games that constitute this trilogy, UFO Aftermath, UFO Aftershock and UFO Afterlight and I enjoyed them immensely. I only was sometimes sorry that such a great concept ended up being implemented by a developer who clearly lacked experience or funding (or both) and shipped them not entirely ready for the prime time.<br /><br />Those who played X-Com games will immediately find themselves at home with the game split into two distinct parts. One is played on strategy level on a big, planetary globe showing bases, resources, moving enemy and friendly aircraft, etc. Here the player plans his global approach, research, development and production, advances career of his individual soldiers through training and specialization. The other part is tactical missions with face to face combat, limited number of soldiers being taken into fight (up to 7) and micromanaging every move, shot and piece of combat equipment taken into action. There are also differences. Tactical combat was turn based in the X-Com games but it is blend of turn based and real time play in the UFO ones. The soldiers and the opposing force move at the same time but the game can be paused at any moment either by the player himself or by one of preset events, giving the player opportunity to respond to new situation by altering his plans accordingly. Individual unit moves can be scheduled several steps (or shots) ahead. In the ideal scenario player sets actions and timing for his units while the game is paused, then unpauses it and watches the events unfold as both sides are moving simultaneously. Unlike in the X-Com the tactical battlefield can be freely rotated around any point and zoomed in.<br /><br />For those who decide to buy I recommend downloading the latest patches and some mods. My favorite mod for Aftermath is the one that allows extreme closeups. The unmodded Aftermath ships with the minimum (closest) vantage point being a little too high and far for my taste. The aforementioned mod removes that restriction and allows player to see the battlefield from as close as top of his soldier's helmet. I admit that the game clearly was not designed for that, the detail of textures and models is lacking at such proximity and some R-rated graphics can be spotted in places that normally would not be seen from the point of view allowed by an unmodded game. Still the mod is simply must have. For Aftershock I would suggest mods supplying uniforms in various camouflage schemes, digger restoration and name tag remover.<br /><br />-- PROS --:<br /><br />Familiar game concept taken from X-Com and expanded upon.<br /><br />UFO games are moddable and players community created several mods enhancing playability to a certain degree. More active members created modding tutorials and tools.<br /><br />Several patches have been released to fix more annoying issues and can be downloaded either from games' websites or from other download depots (like [...]<br /><br />-- CONS --:<br /><br />First two UFO games have been criticized for lacking features and for being buggy, with Aftershock peaking horribly in the complaint department. Aftershock seemed to be rushed into release with its frequent crashes, extremely long mission load times, broken grenade throw physics causing it to land in weird places and last but not least, a bug that derails the story line later in the game and prevents it from progressing towards the end. Some of those issues were alleviated by patches, the story line bug is fixed by a tool called Myrmecol Repair Kit (needs to be downloaded) or by editing a savegame file (instructions can be found on game's forum).<br /><br />The last game in the series was finally made right but it was despised by some for its somewhat cartoonish look.<br /><br />THE BIGGEST DRAWBACK of them all is rather limited support for video cards. I have all three games on CD/DVDs but I decided to buy UFO Trilogy from Amazon.com for my newly bought ultrabook that doesn't have an optical drive (Windows 8 64 bit with 4GB RAM, Intel Core i5 and Intel HD 4000 graphics chip). I immediately hit a wall when UFO Aftershock and UFO Afterlight refused to run, quitting with an error message related to a graphics feature. I searched the Internet for an answer and found that those two games CLASH WITH INTEL HD EMBEDDED GRAPHICS! Whether it is the developer's fault or the Intel driver's I don't know but I believe that no solution exists at this time (search for UFO Aftershock / Afterlight and wglchoosepixelformatAKB()). Fortunately I bought UFO Trilogy for only $5 so I can afford to wait and hope for the fix while playing UFO Aftermath, which runs without a hitch.<br /><br />Regardless of the problems, if you are able to run all three games I highly recommend this purchase. Those games are tons of fun!\",2012-11-29,47469250,928205606,5,1,1,1.0,1\n",
      "US,RMC7MBH6GDKN5,B002PDPMO4,7 Wonders of the Ancient World 2,Digital_Video_Games,N,Y,Challenging,Loved the game & it certainly has challenged me. I can't seem to beat it but I will continue to try!,2012-11-29,42016814,57398637,5,0,0,1.0,1\n",
      "US,R1ANWAA78AZYXE,B008G0ZDZI,Plentiful Paradox Package [Download],Digital_Video_Games,N,Y,Excellent Deal on an Incredible Amount of Content,\"This is an astoundingly good deal on a vast amount of gaming content that will keep you occupied for endless hours.  Strictly on a price/performance basis, it's hard to imagine a better deal in gaming.  And all of these games and DLC packages can be unlocked on Steam with the keys Amazon provides (as well as downloaded directly from Amazon), so it's incredibly convenient to access these games.  If you have even the faintest interest in Paradox strategy games (and you should), this package is worth getting.\",2012-11-29,15799591,614789043,5,1,1,1.0,1\n",
      "US,ROG9ZIO8FY5R3,B008VXCPV0,Batman: Arkham Asylum Game of the Year Edition,Digital_Video_Games,N,Y,Black Friday Batman,\"I bought this during the Black Friday sale, when it was only $5. You pay for the product code and activate it via Steam. It is a great game, with fun gameplay and a compelling story. I would recommend this game to any fan of Batman and/or action video games, and most certainly get it if it's on sale.<br />* Gameplay - 5/5<br />* Story  - 5/5<br />* Graphics - 5/5\",2012-11-29,46938276,953476164,5,1,1,1.0,1\n",
      "US,R3UEKDPZV7EGIP,B0083VTNQA,Bioshock 2,Digital_Video_Games,N,N,Game Doesn't Work,Game will be unplayable thanks to non-functioning Windows Live restrictions. And it's non-refundable since it's a download. Basically just stealing your money here.,2012-11-29,18037174,550300086,1,6,13,-1.0,-1\n",
      "US,RCY79Y83BNDDK,B006ZNGUX2,Hoyle Casino Games,Digital_Video_Games,N,Y,Not received,I did not download this software so it is hard for me to rate it.  I don't know how to correct this.,2012-11-29,31162653,284524441,1,0,4,-1.0,-1\n",
      "US,RP7HBLHO12I3D,B0069TK0VU,Magicka Ultimate Pack [Download],Digital_Video_Games,N,Y,Love it!,\"Fun intuitive gameplay, and a hallarious story line.  Felt like playing an old classic!  I'd recommend this to any rpg fan.<br /><br />Cons: none that I personally found\",2012-11-29,23280423,293049727,5,0,0,1.0,1\n",
      "US,R11MXX0F9UR018,B004ZUFKEC,The Sims 3 [Mac Download],Digital_Video_Games,N,Y,worth it,\"The download took forever, and then when i finally thought it was done it had to download more things. This happened several times. However, the game works great on my macbook pro (snow leopard). If you want the game, get it.\",2012-11-29,32618079,321025745,4,0,0,0.5,0\n",
      "US,R3RAWC6D160C6Q,B0054SFL34,Dungeon Siege 3,Digital_Video_Games,N,Y,Great game.,The demo left me wanting more... I found the game easy to jump into. The action was great! I really enjoyed playing the game.,2012-11-29,21340828,510762395,5,0,1,1.0,1\n",
      "US,RCF2JA8WWLZIE,B007VFHIHA,Hitman: Absolution,Digital_Video_Games,N,Y,\"Has its flaws, but still shines where it should\",\"With the return of Hitman after a 6 year hiatus, hardcore fans were psyched with a release of a seemingly flawless product, but questions remained as it neared release date. People now began to realize some major cons in the game, as I did with my further gameplay.<br /><br />Cons<br />-The disguise system is flawed, do not play on anything past normal on your first playthrough, my advice to you. This new 'instinct' system they implemented is the only way you can avoid being detected by someone with the same disguise as you, and they detect you at long distances!<br />-No weapon upgrades in Campaign! This bothered some people, but I don't care personally, and while they are still present in the new Contracts feature, I think that it wasn't a big deal leaving them absent in the Story.<br />-This game is not, by any means, Blood Money 2. If you loved Blood Money, and didn't care as much for any of the other games in the franchise, you might dislike this game. My advice to you is, DO NOT QUIT EARLY IN THE GAME. The early game is seriously boring, that's why I advise playing on normal, so you don't spend hours on levels that have no targets, I agree the levels spent simply evading Cops instead of killing targets is a bore, don't spend all your time playing this, advance!<br /><br />Pros<br />+Very long and enjoyable Campaign, I pumped about 15-20 hours in playing just it, although the story does fall flat, not only to me but others as well.<br />+Contracts mode is awesome! You know have the ability to travel back to stages in the Campaign, yet pick your own target from that level, picking up what you will from the level and setting the grounds for your own contract. This mode is a huge step for the franchise, and with the development of a new Hitman game already being announced, I would like to see them take this even further, with level modifications possible in addition to target modifications.<br />+The new kill animations rock! Being able to kill any target with truly anything you spot is a huge plus.<br />+New instinct system, while I think it was implemented poorly, it is a good idea in theory. The problem is that in order to hide your disguise (putting a hand over your head and hiding while walking past a guard) it requires instinct. I want an explanation as to why, in order for 47 to hide his face, he has to have some special superpower, if he runs out of it, guess what? He can't put a hand over his face. The system is very cheesy, but you learn to look past it and use it how it was meant to be. For more hardcore players you may want to turn all of instinct's help off and just use it to get past guards, because I don't see how this is playable without instinct to sneak past guards.<br />+Graphics are gorgeous! My fps was pretty poor, but my computer isn't top notch, even still I loved the graphics, seeing Agent 47's bald head finally rendered without choppy graphics six years later is actually pretty satisfying.<br /><br />In conclusion, if you like stealth games, buy this game. Hitman Blood Money, the game prior to this one, was strictly an Assassination puzzler. This game, however appears to be more stealh-based, sneak past without being spot, but they don't force you to play that way. The biggest gripe about this game seemed to me to be that Hitman: Absolution didn't turn into Hitman: Blood Money 2. The game developers sought to evolve the game, and you must applaud them for that. Whether all game evolutions are well-received or not, this is not some company seeking to pump out a repetitive franchise game.<br /><br />My word to you would be buy this game, if you played Blood Money, and liked it, BUY IT. You cannot know your opinion off one review, every person's opinion will vary. I didn't know if I truly liked the game until IO Interactive blew me away with levels like Blackwater Park near the end of the game. I don't understand why they decided to make these droll levels in such early game that seemingly discourages all new players from continuing simply because they are sick of running away!<br /><br />If you haven't played a Hitman game, but are a stealth game fan, boy will you love this game. You will get a lot of play out of this game simply by trying to progress every level without being spotted, and after finishing a level where you do so you will feel very accomplished. But as with every stealth game it can be aggravating, what I enjoy about Hitman is it gives you the choice, if there is a guard that has spotted you, you can hit him with a quick punch, hide the body, and be on as if nothing happened. When you rage at the game, and are sick of a level, you can unload on everyone (even though it seems farfetched, this is extremely enjoyable when you are fed up with the game mechanics). Me writing this long of a review proves how much I like this game, even with its flaws.\",2012-11-28,30046629,177545800,4,36,39,0.5,0\n",
      "US,R3O8P88O1RBHIW,B008J360HC,Xbox 360 Live Points Card,Digital_Video_Games,N,Y,Xbox 1200 Points,\"Code arrived instantly, saved me a trip to Wal Mart to pick up a XBL points card I suppose. Worked fine.\",2012-11-28,14303141,225309182,5,0,0,1.0,1\n",
      "US,RXE9NINWIOTU4,B002VBWIP6,Xbox Live Subscription,Digital_Video_Games,N,Y,xbox,for xbox on how you have to pay this is perfect but i wish it was free like it is for the PS3.  yeah i have both but its what ya gotta do to play online i guess,2012-11-28,21052758,232803743,5,0,0,1.0,1\n",
      "US,R3LFKMI73B17VH,B008Y21QAE,FEAR Ultimate Shooter Edition [Download],Digital_Video_Games,N,Y,A great shooter,\"First of all you get three full-length games. There is a huge range of guns, and lots of different locations. Yes, It's on rails, but a lot of fun. The guns feel solid, and have effects that are believable, while handling realistically.<br /><br />It remains a favorite, and this purchase was for a friend. My only personal complaint is the heavy dose of paranormal stuff presented in an almost endless succession of cut scenes that cannot be skipped. Be wary. Some of them leave you without a weapon in your hands. Do notice that, and select one before you find yourself in a fire fight. On max difficulty they almost never miss you, and you can only take a few rounds before you are dead. They are always bullet sponges.<br /><br />Ammo, health, and armor or weapons are plentiful and don't present much challenge. In every fight you are outnumbered three or four to one and more in major fights. It uses check points frequently, but there are also quick saves at any time as well as a formal save game at any spot. It's easy to pick up where you left off.<br /><br />After a couple of full plays of each game game, I use a couple of cheats (though in single player, I can't imagine who they think I am cheating - certainly not myself) and switch on God mode and Infinite ammo. It is a ball spamming turret guns. It is a whole new play style. The cheats are entered after pressing \\\\\"\"t\\\\\"\" and entered with return.  God mode is \\\\\"\"god\\\\\"\" and infinite ammo with all guns is tears, and finally kfa restores health and armour in case you get caught with god mode turned off as frequently happens after these cut scenes.<br /><br />For what it's worth, I am now on my sixth play-through of the series.  I now have 236 hours of fun from this game.<br /><br />At the current price, it's a steal.<br /><br />Good luck...\",2012-11-28,39117463,869519608,5,1,2,1.0,1\n",
      "US,RPABQA7DOBV2J,B0047O2L70,Dead Space,Digital_Video_Games,N,N,A bad port of a good game.,\"This game is good, not great.  It is very repetitive and the plot is something like \\\\\"\"go here and fix this...now go here and fix this\\\\\"\".  The game is very over-the-top with its violence. While the plot is a bit ridiculous there is some good voice acting and some interesting characters. Overall, I think this game is a bit overrated but fun.<br /><br />The worst thing about this game is the horrible PC controls.  I literally thought my computer was broken when I tried to use the controls for the first time.  As others have mentioned you have to turn of in-game V-sync.  It can also help to increase mouse acceleration.  Even after all that the game is still difficult to control to some degree.  This game made me immediately think of Resident Evil 4 with its controls.  For the controls alone I took off one star.  Very poor PC support.\",2012-11-28,35140185,706806298,3,0,0,0.0,0\n",
      "US,R1TY8WFOF2CL6U,B004M5HV5G,Borderlands,Digital_Video_Games,N,Y,\"Don't buy, or if you must get it from Steam directly\",\"Game is pretty good, if you can get it installed and get DLC working. I ran into the following issues which I think could have been avoided had I just purchased the game through Steam.<br /><br />First using the amazon downloader I downloaded the entire 11GB and had it fail to extract so I then had to download it again.<br /><br />After downloading 11GB a second time I ran the setup and instead of installing Borderlands, it just installed Steam.<br /><br />When I went to launch Borderlands from within Steam, it then began downloading the entire game again. At first I thought it was just downloading a patch, but realized the download was 12GB.<br /><br />It finally finished downloading for the 3rd time, and I started playing. Seemed fun, but now I realized that I can't access the DLC and the codes supplied by amazon don't work, so now I get to jump through a bunch of hoops to see if I can get the DLC activated that was supposed to be *included* in the game of the year edition.<br /><br />I will never purchase another game via download from amazon.\",2012-11-28,17063793,305835717,1,3,4,-1.0,-1\n",
      "US,R1N1HE8PIZBIV6,B008ELN00O,Specforce [Download],Digital_Video_Games,N,Y,not far into it,\"well worth the money,although i am not very good at games,but this one is well advanced for the price,thumbs up\",2012-11-28,27799149,861268353,5,0,1,1.0,1\n",
      "US,R22ELCKAMMF94D,B008GWJKE6,\"The Storming, Burning, Reflecting, Flaming, Sabotaging Pack [Download]\",Digital_Video_Games,N,Y,how is amazon making money on these packs?,\"not complaining mind, but where is the profit margin?  I have only played a bit of bulletstorm and bournout and they are fun.  I'm sure the rest are ok, and I will get around to installing them.  Why pay full retail, when deals like are available.\",2012-11-28,23621932,342459314,5,0,0,1.0,1\n",
      "US,R3MLVB7X29UKFN,B005WWZUQ0,Battlefield 3,Digital_Video_Games,N,Y,Great game!,\"TONS OF FUN! The single player is awesome and the story is like you're in a movie. The action is incredibly realistic. Once you work through the fact, that is NOTHING LIKE ModernWarfare series of games, you will be very happy with the multiplayer. Expect to get killed.... a lot. Ratios of 1.0 K/D are to shoot for, meaning if you kill 1 guy before getting killed yourself, you're OK. Granted I'm still a newbie, and some elite &#34;pros&#34; are going to mock this review, I have yet to see anyone significantly higher than 1. No cheating due to PunkBuster and constant &#34;Vote to Kicks&#34; of any cheaters, keeps the playing field level, unlike ModernWarfare. Play it, especially when it's cheap. I think I bought the basic version for about $7.50? Awesome buy. Oooohh and the Vehicles. Very cool, but very complicated, at least for me. The tanks and mobile Anti-Air are the best. Choppers, forget about it... Jets, not much easier than Choppers. Buy it when it's on special. Do it. If it's below $20, you'll definitely get your money's worth. Do it.\",2012-11-28,51464645,28899677,5,0,0,1.0,1\n",
      "US,RTUOZTHPYGK3E,B007PIR5WQ,Deadly 30 [Download],Digital_Video_Games,N,Y,a game,seems ok i haven't had time to really get into it but for the price how could you go wrong,2012-11-28,27799149,786283285,4,0,4,0.5,0\n",
      "US,R186VCR1ID07WR,B008ALU5KG,XCOM: Enemy Unknown,Digital_Video_Games,N,Y,Turn-based strat is here and it is awesome,\"Excellent game.  My only complaint is the lack of mod support.  The game doesn't hold your hand and doesn't treat you like a brain-dead gamer.  There is definitely a learning curve and you will lose soldiers, countries, and games.  This is what makes the game stand out.  It actually feels like humanity might not win.  It feels like you are fighting a superior force at first.\",2012-11-28,42963415,629524765,5,1,2,1.0,1\n",
      "US,RWQWYWU3B232X,B00452VGYS,The Sims 3 [Download],Digital_Video_Games,N,Y,:(,I have been wanting to play the Sims 3 for a very long time!!! I am very UNHAPPY I thought I could by this and play it but I guess since I have wireless internet I cannot download it :( I had to rate this but I say 0.,2012-11-28,46134295,748012584,1,0,1,-1.0,-1\n",
      "US,R1AV0BNAHGVPIF,B0083W649I,Bioshock Dual Pack [Online Game Code],Digital_Video_Games,N,Y,One of the best games released this generation with an above-average sequel,\"BioShock, for me, was one of the high points in gaming this generation. The atmosphere, level design, characters, all of it was fantastic. I played through it a few times and loved it. BioShock 2 is more of the same, which isn't a bad thing. In the first game you take the role of Jack, a pretty quiet protagonist. In the second game, you take the role of a &#34;big daddy&#34;, which puts a new twist on the game to make it more of an evolution to the series rather than fall into repetition. I highly, highly, highly recommend playing the first game. If you like it, play the second, you won't be disappointed!\",2012-11-28,11075883,986415757,5,0,0,1.0,1\n",
      "US,RTD4MBX9BNF4A,B0033PSLY6,Marooned [Download],Digital_Video_Games,N,Y,marooned,Had fun with the second game but the first game is totally challenging.<br />You will be amazed with the puzzles in this game. You simply must<br />check it out.,2012-11-28,21925455,101930540,4,0,0,0.5,0\n",
      "US,R158M01SBDSUTB,B00AB0RX3Q,Paradox Seas Bundle [Download],Digital_Video_Games,N,Y,If you have registration problems.,\"For those of you who like help and mods for strategy games, it's rather useful to register at the Paradox forum where you also need to access some areas.<br /><br />Revised: Since I have a solution.<br /><br />If you want to register at the forum, you have to register the game on Steam and then use *that* CD key to register on the forum, rather than one Amazon provides.<br /><br />Otherwise this is an awesome sale and everything registers on Steam save for one game out of two bundles, which Paradox will fix for you if you file a ticket. You don't have to register at the forums to play, either, so this is just an FYI for those interested in doing so.\",2012-11-28,24861950,3780849,5,2,2,1.0,1\n",
      "US,R2OWS58ININ2JY,B0093N3YJY,Batman Arkham City Harleys Revenge DLC [Download],Digital_Video_Games,N,Y,\"Decent, but short.\",\"Good extension to the original game (which I loved!), but it is a bit short and not nearly as open as the full game. If you have to have more of the original game, with a few more story details, you should pick it up. Other wise, wait for a sale, I bought it at 2.50 a few days ago, and it's bound to drop down in any major sale. Also, I should note that you have to activate it thru Steam AND games for windows live, which has been known to cause problems for some people.\",2012-11-28,31923259,993217700,3,2,3,0.0,0\n",
      "US,RE6B283MT74MH,B009G7XXI4,Hitman Absolution: Professional Edition [Download],Digital_Video_Games,N,Y,Don't buy the download version!,\"I'm an advanced pc user/builder (18 years experience).  Downloaded Hitman Absolution last night and had trouble with the download. Finally got it downloaded and went to play it.  Guess what?  DOESN'T WORK!  Loads up, plays the company logos for my annoy-ment, but when I select the play level it begins to start and freezes every time!  DON'T BUY THE DOWNLOAD FROM AMAZON OR ANYONE.  DOWNLOADABLE GAMES ARE CRAP!!  THIS ISN'T THE FIRST TIME THIS KIND OF CRAP HAS HAPPENED EITHER.  Do yourself a favor and buy the disc.  This like selling a new car at full price that needs repairs before you can drive it off the lot. UPDATE: After 6 hours of research and updates and a second 2.5 hour download of the game - it works!  Still, save your valuable time, forgo the stress, and get the dang disc.\",2012-11-28,27922523,867901911,3,4,38,0.0,0\n",
      "US,R220T9M1CBGD8W,B008J361YY,Xbox 360 Live Points Card,Digital_Video_Games,N,Y,$30 worth of Microsoft points,\"Online code arrived instantly and redeemed fine, as have all the other microsoft points I have ordered through Amazon. A lot of excellent content available on xbox marketplace.\",2012-11-28,12712608,225309182,5,0,0,1.0,1\n",
      "US,R1J2CC2O6UJ1QI,B008ALUBYQ,Borderlands 2,Digital_Video_Games,N,N,Stellar game. 'Nuff said.,\"This game has way too many good qualities to list here. In short however, it has more variety, better graphics, a better story, better guns, smarter AI, and pretty much better everything else than the first game... And I liked the first game quite a bit! Like the first one, the multiplayer is where this game really shines, but unlike the first one, it has a fairly engaging main story.<br /><br />Then of course, there's the loot. Oh my, so much loot and so many fun side quests. This game has so much variety and such high replay value. Unlike many games in the genre, the different characters are actually different and playing the game over after you've beaten it with a different character is actually still very, very fun.<br /><br />The only complaints I'd have against it are the lack of DX11 and the lack of gore physics. Maybe my settings aren't right for this to happen, but for example, if you kill someone with a shot to the head, why doesn't their head pop off? Some games, it doesn't matter if this happens or not, but this is the kind of game where I think stuff like this adds to the game. Also, it's in the first one, so why not here?<br /><br />Whoever you are, I highly suggest you buy this... Unless you're not into awesome games or something.\",2012-11-28,42629525,112160022,5,1,1,1.0,1\n",
      "US,RS89NXMQ47UTL,B003BLPSFM,Sprill & Ritchie: Adventures in Time [Download],Digital_Video_Games,N,Y,Super!,\"Played the first game and it is really really awesome. So much fun I<br />did not want the game to end, look forward to the next one!\",2012-11-28,21925455,117126258,4,0,0,0.5,0\n",
      "US,R259LB7SM7M99S,B009RPKNG0,A Game Of Dwarves [Online Game Code],Digital_Video_Games,N,Y,Not what I was expecting,Don't like the &#34;on-line&#34; game. Don't understand how to play it. Reminds me of the old D & D games in it's complexity and play-ablity.,2012-11-28,27933288,595866578,2,0,9,-0.5,-1\n",
      "US,R28C29FQNKM3L6,B003QTD70C,Trine [Download],Digital_Video_Games,N,Y,Really only for kids,\"This game is extremely lame.  Luckily I only paid $1.99 for it on sale.  The graphics are cute and colorful, but really it's just a glorified two-dimensional 1990's arcade video game.  I kept thinking I had to pump in some quarters as if my time were almost up.  It's very simplistic, completely linear, and relies solely on timing tricks to increase difficulty.  It's identical to Super Mario Brothers and ten thousand other games out there, just with different graphics.\",2012-11-28,49258507,652936271,1,0,10,-1.0,-1\n",
      "US,R2QAKLIQY4KR7K,B002VBWIP6,Xbox Live Subscription,Digital_Video_Games,N,Y,Awesome!!!!!,This is an awesome buy because you don't have to leave your house to get it and it is 10 dollars off!,2012-11-28,46472194,232803743,5,0,0,1.0,1\n",
      "US,R3PJE8YY9RUJEE,B0041OSXHS,Agatha Christie 3 in 1 Bundle [Download],Digital_Video_Games,N,Y,TOO MUCH FUN FOR ME,\"I love hidden object games. I prefer the ones like this with a mission, a challenge. I am having too much fun playing this game. I intend to buy more\",2012-11-28,20680584,775851968,5,0,0,1.0,1\n",
      "US,RK7STXJXGPB6U,B004RMK5QG,Playstation Plus Subscription,Digital_Video_Games,N,Y,Add-ons are sometimes needed.,I was able to get some good add-ons. Wanted to unlock some things on games and this did the job.,2012-11-28,19706637,395682204,4,0,0,0.5,0\n",
      "US,R1YL8ERLOZS69D,B001MIZNEM,Cake Mania [Download],Digital_Video_Games,N,Y,fun,This is a fun game if you are bored and need something to do. It will keep you entertaind for hours,2012-11-28,27042161,193672495,4,0,0,0.5,0\n",
      "US,RTUFZ9UBR62MN,B005JF4MTQ,Risen,Digital_Video_Games,N,Y,This game failed to grap my attention,From the reviews I read they said that it took awhile for the game to get you immersed in the story line and I several hours trying to get into it but I just couldn't.  I found the conversations tedious and the the combat sucks.  It also seems that there are just not enough quests to keep you interested.  I just didn't like it.,2012-11-28,12595845,78312046,2,0,2,-0.5,-1\n",
      "US,R2NMHRV6GOKFVM,B005WWZUQ0,Battlefield 3,Digital_Video_Games,N,Y,Battlefield Die Hard,\"I am a Battlefield vet, i have play days and days on this game and there is no game like it anywhere, the realism is unbelievable. If your used to playing COD this game will be hard starting out to get used to the different team based, skill, and tactics. there is countless reviews on the game, Battlefield has been out for years and only keeps getting better. I will say that I have this game on all platforms but PC is what bf3 was designed for\",2012-11-28,15353614,28899677,5,0,0,1.0,1\n",
      "US,R17ERAOAWIZVTJ,B0064TYOLW,Mass Effect 3,Digital_Video_Games,N,Y,Bueno,It's like Barq's Root Beer. It's good. Then the thirteen other words for filler to make this review. Two more.,2012-11-28,10395015,122131766,5,1,4,1.0,1\n",
      "US,R30U7YMSJ3BD52,B008ELNDLU,The 7th Guest [Download],Digital_Video_Games,N,Y,Game didn't run right on my new computer,\"Was never able to play the game. It didn't run on my computer. This is the only game I have had a problem with, after downloading lots of other games. I would like to get my money back.\",2012-11-28,41696008,254969314,1,2,4,-1.0,-1\n",
      "US,R1IPJJMM4A7ZGF,B004RMK4BC,Playstation Network Card,Digital_Video_Games,N,Y,Excelente,\"Page e inmediatamente me enviaron por correo el codigo de la tarjeta, no hubo ningun incoveniente al introducir el codigo\",2012-11-28,46855647,384246568,5,0,0,1.0,1\n",
      "US,R36D5U2SO124AZ,B008J35YFQ,Xbox 360 Live Points Card,Digital_Video_Games,N,Y,Shop from home.,Best way to buy MS Points.  You never have to leave your house.  Much faster than going to game stop.,2012-11-28,24201176,225309182,5,1,1,1.0,1\n",
      "US,R2O2TELG67EZZR,B007V5FRDM,Mount & Blade Warband: Napoleonic Wars DLC [Download],Digital_Video_Games,N,Y,Did not download correctly,I bought this game from here but for some reason the download was not working correctly. The game itself is awesome and I really enjoy playing it by myself and with my friends.,2012-11-28,48944943,550126017,3,1,2,0.0,0\n",
      "US,R2J71QEUCL0JES,B00AAIJJCW,Paradox War Chest [Download],Digital_Video_Games,N,Y,If you have registration problems.,\"For those of you who like help and mods for strategy games, it's rather useful to register at the Paradox forum where you also need to access some areas.<br /><br />Revised: Since I have a solution.<br /><br />If you want to register at the forum, you have to register the game on Steam and then use *that* CD key to register on the forum, rather than one Amazon provides.<br /><br />Otherwise this is an awesome sale and everything registers on Steam save for one game out of two bundles, which Paradox will fix for you if you file a ticket. You don't have to register at the forums to play, either, so this is just an FYI for those interested in doing so.\",2012-11-28,24861950,901714406,5,9,13,1.0,1\n",
      "US,R1830KAH928KMY,B009H7QEFC,Worms Reloaded Game of the Year Edition [Download],Digital_Video_Games,N,Y,Fun little game to pass the time.,The game allows for a lot of customization and the multi-player feature is a great way to pass the time with friends. Highly recommend it!,2012-11-28,18517086,873753099,5,0,0,1.0,1\n",
      "US,R25HR1K4CHCN9Y,B008X73CE8,Silent Hunter: Wolves Of The Pacific - Gold Edition [Download],Digital_Video_Games,N,Y,Intense,I have never played a sub simulation before and I can tell you this game is intense. Strategy must be used big time. I still get sunk sometimes even when I have slowed to 1/3 and am down 165 feet. AVOID destroyers at all cost.<br />When they know where you are you have pretty much had it. Mission photo recon is hard hard hard. Still have not succeeded. U boat missions add on is excellent as well. Good luck. Dive Dive Dive.<br /><br />.,2012-11-28,14965611,262855905,5,7,7,1.0,1\n",
      "US,R15O0LPK343PME,B008I6KLXE,Nancy Drew: Message in a Haunted Mansion [Download],Digital_Video_Games,N,N,No task list,This game was ok.  I've been playing the more recent ones so I guess it might've been wrong to go back to such an early game with high expectations.  I did not like the fact that it does not have a task list and felt I was going in circles unless I called Bess and asked what to do next.  I'm glad this wasn't one of my first Nancy Drew game - I don't think I would've tried another based upon this one.,2012-11-28,24867432,275269152,2,1,3,-0.5,-1\n",
      "US,R3VPB372JWTPNQ,B008YH3GGG,Jane's Hotel Mania [Download],Digital_Video_Games,N,Y,Hotel,\"I beat this game within a month, super and it really keeps you on your toes with<br />fast action time management, check this out!\",2012-11-28,21925455,456860366,5,0,0,1.0,1\n",
      "US,RJYLUO5ODVIVA,B004VSTQ2A,Xbox Live Subscription,Digital_Video_Games,N,Y,Always,can find best pricing here. Have even had the ‘Company’ reps recommend buying from this site for BEST deals around with ‘no hoops’ to jump thru.,2012-11-28,15059974,232803743,5,0,0,1.0,1\n",
      "US,R1TLS9S1KVW2A,B009XDMQ0W,Mass Effect Trilogy,Digital_Video_Games,N,N,This series is an achievement,\"It's a little hard to effectively describe these games as a whole, because a lot of gameplay elements change between them. In a nutshell, though, Mass Effect is a trilogy of run-and-gun squad combat action games tied to exceptionally strong storytelling and a vibrant setting.<br /><br />All three games do have similar strengths and weaknesses, though. Environments and scripted events are kinetic and interesting, and although the first installment may look a little dated, the design work is excellent. Combat has a tendency to get a little repetitive - the game's built in a way that encourages you to form a strategy and stick with it - but everything moves along briskly, so you rarely feel like any main part of the game turns into a slog. Your squadmates, selected from a pool of potential party members, all have engaging personalities and interesting stories of their own to explore.<br /><br />The real strength of all three games is definitely the writing. All three Mass Effect games have scripts that easily set standards for the medium, and the setting is vast and well-realized, with convoluted side narratives and history making for a complicated political situation that feels real and whole. The voice acting across the board stands out as the very apex of the medium, with special recognition going to Jennifer Hale's absolutely superb performance as the female voice of Shepard (the PC). They're also absolute marvels when it comes to player empowerment; you have the ability to determine your choices throughout the game at every juncture, and although some of these choices initially feel a bit gimmicky (there aren't a lot of actual consequences), by the end of the series nearly every choice you make in the entire run has some significant impact on the plot, characters or world. It's a feat that I've never seen matched in any medium, and the third game in particular does a phenomenal job of bringing all the possible twists of your personal ME decisions to coherent and consistent ends. In some ways it's also one of the most diversity-minded game settings available, too; the human cast is refreshingly multiethnic and gender-balanced (but more on this in a minute). The third game also deserves special recognition for being essentially a series of epic climaxes to series-long subplots with mind-blowingly awesome set pieces. Nearly every mission would qualify as the ending sequence of a lesser game.<br /><br />ME does have a handful of weak spots. Some of the minigames have been polarizing - the first one has you cavorting around in a goofy lander, which took a lot of flak for its clunky controls and shift in the game's tone, but I personally found driving it quite a bit of fun. The second and third both have variations on mining, which honestly are pretty tedious but also don't take long to complete. The games also feature a consistently iffy cover system that makes some changes over the series but never really gets comfortable. Don't expect much from combat customization - in terms of fighting, these are action games, not really RPGs. The series ending also got a lot of (deserved) complaints, but they did release a (free) DLC to expand it - and speaking as someone who never played the original ending, I found the resolution immensely satisfying and a perfect end to the series. Looking up the original ending on Youtube, though, I STRONGLY recommend making sure the expansion is installed before finishing the series (mostly it's just REALLY ABRUPT and full of plot holes the expanded cut fills in).<br /><br />My personal biggest complaint about the series is that the design work of the series overwhelmingly caters to the male gaze, sometimes past the point of being insulting. Women (especially in the second game) constantly dress like strippers even when there's no justification for it, and the camera loves to linger on certain parts of their anatomy at even the most thematically inappropriate moments, especially in the second game whereit gets so exaggerated that it often overshadows anything else happening in the scene. There's even an entire monogendered species whose core concept is that they're the paragons of beauty for all races, and of course they look like large-breasted space babes. What kills me about this is that these problems are exclusively design-related and don't reflect the writing at all - these same characters are also some of the series' strongest, and certainly not tokens there to be gawked at in any in-universe sense. The early series also suffers from some unfortunate implications in regards to homosexuality (it essentially doesn't exist, unless you're hot ladies, who are fair game for everyone). The third game does deserve recognition, though, for addressing that and including the best gay character I've ever seen in a video game. But obviously these issues aren't going to bother everyone (although really, guys, they probably should).<br /><br />Overall the series is one of the best ever made just for the story and characters alone, and the games are also beautiful and fun to play. I highly recommend them to pretty much everyone - whether you play games for the story, the challenge, the combat, the visuals or the feeling of a world reacting to your actions, the Mass Effect series is among the best ever made.\",2012-11-28,17329527,223982723,5,28,39,1.0,1\n",
      "US,R32WTYYB6N3YH6,B008TXOEV6,The Sims 3 Seasons,Digital_Video_Games,N,Y,DO NOT BUY FOR MAC,messed up my SIMS games! still can barely play and EA is NOT fixing it. DO NOT BUY THIS GAME IF YOU HAE A MAC!!!,2012-11-28,43351473,692698857,1,0,0,-1.0,-1\n",
      "US,R9401OIUZ0Z2N,B007PVDAAY,Medal of Honor: Warfighter,Digital_Video_Games,N,N,step back,the campaign is good but the multi player is what kills the game for me it is just to overly complicated to do anything,2012-11-28,40169859,399285366,2,0,2,-0.5,-1\n",
      "US,R3QBR0BQ3A69A5,B009GKT2M2,Farming Simulator 2013 [Download],Digital_Video_Games,N,Y,unfriendly,Totally unusable in my opinion.  I had a terrible time trying to drive the trackter.  Instructions were usless. A complete waste of money.,2012-11-28,52479102,165594677,1,1,11,-1.0,-1\n",
      "US,R2F4F01BWXG4UR,B007Z3RN2I,Call of Duty: Black Ops II,Digital_Video_Games,N,N,AMAZING!,\"Don't listen to anyone bashing on the game because of lag or their OWN pc problems. I have a custom built pc and a decent internet connection (20down and 3 up) and I have 0 problems. Anyone that is complaining hardware wise is completely wrong, this game was well made but dedicated servers would have been a nice touch :P Can't ask for everything though!\",2012-11-28,43802971,137803476,5,1,2,1.0,1\n",
      "US,R5JZQDLY8DIR7,B001K7HV3Q,Big Kahuna Reef,Digital_Video_Games,N,Y,Love this game,\"Free game, plus I've spent SO MUCH TIME playing it.  Really fun for people who like bedazzled types of games\",2012-11-28,38120217,701773253,5,0,0,1.0,1\n",
      "US,R3LGB2DFY4S7A3,B004PGNJG2,Dragon Age 2,Digital_Video_Games,N,Y,Excellent role-playing games for the avid gamer -- requires a pretty buffed-out system,\"Many on-line reviews of this product are available.  The game plays best on a fairly high-end system, preferably 64-bit, with a powerful video card.  Well-designed game, many adventures.  I enjoy the game system very much\",2012-11-28,35553621,616311618,5,0,0,1.0,1\n",
      "US,R332PA2ZQTSM1A,B00917DBUE,Dark Souls: Prepare To Die Edition [Online Game Code],Digital_Video_Games,N,Y,\"Amazing, but be prepared for a challenge.\",\"The game's title warns you that you should be prepared to die, and that's very good advice for this game. You will die. a lot. But, if you stick with it, once you fully understand the systems/mechanics and get a feel for the game, It becomes one of the most rewarding, frightening, and just plain fun experiences in video games.<br /><br />In regards to complaints about the pc port: it is locked at 30 fps and 720p resolution, but there's a mod called \\\\\"\"DSfix\\\\\"\" that fixes both of those issues. You do need a pretty strong computer (the game is very cpu intensive) to run at 1080p and 60fps, but it runs well on my mobile i7 (i get 60fps in most areas, but it occasionally drops down to 30, also should be noted I do have a pretty hefty gpu as well, so don't expect any laptop to be able to handle this the same way mine does.)\",2012-11-28,31923259,714336136,5,1,1,1.0,1\n",
      "US,R2G7DUKPYUBVGC,B009VIKJUS,Xbox Music Pass,Digital_Video_Games,N,N,great gift for those on the fence,\"XBox Music Pass continues the excellent Zune service and at a much lower price.<br /><br />Great thing about this card: it fits in a stocking, and is a great item for a kid without a credit card, or anyone who doesn't want to input cc info to sign up for a service.<br /><br />Another great thing: since it's a prepaid card, you don't have to worry that it's going to roll itself over into a periodic charge on your cc.<br /><br />Missing from the old Zune service is 10 DRM-unlocked downloads per month.  I had Zune Pass for a couple years, and found this was not that big a deal.  Remembering to use the 10 downloads was an issue - I only got to it about 1/5 of the time.  And not all publishers/artists gave MS rights to include their downloadable material in the 10-a-month program, so availability was hit or miss.<br /><br />Note the 12-month card includes unlimited streaming for 6 months, then 10 hr/mo streaming for the next 6 months.  You can stream *or* download to PC, Tablet, or Phone.  Downloading to your PC, Tablet is not streaming; syncing to your phone is not streaming; playing music via XBox is streaming only.  Once the recipient is sure they want XBox Music on a subscription basis (and once they have a cc to submit) the subscription is available in 1 or 12 month increments, with no limits to streaming hrs/month.\",2012-11-28,51788263,892290956,5,10,11,1.0,1\n",
      "US,R37H1ZRLSV2D1J,B001K7HV40,Mah Jong Quest [Download],Digital_Video_Games,N,Y,Love it !,\"I love this game, but.......I spend waaaaaaay too much time playing :)  I would reccommend this to people who like to test their brain.\",2012-11-28,38955294,828239888,5,0,0,1.0,1\n",
      "US,RMRBAJNK6Q196,B004M5HV5G,Borderlands,Digital_Video_Games,N,Y,Gaming bargain not to be missed,\"You can pick this up for under 5 bucks quite regularly, and at that price point it is an absolute steal.  Weeks of exploring, gunning and running and blowing crap up with gorgeous graphics and a story and narrative with real sense of humor.  All the expansion packs are here.  Its a no brainer of a purchase.\",2012-11-28,23621932,305835717,5,0,0,1.0,1\n",
      "US,R3HY9CK4BM448,B0083W649I,Bioshock Dual Pack [Online Game Code],Digital_Video_Games,N,Y,Fantastic game bundle for those dystopia lovers,\"I've never seen this bundle for $5 as it was at my time of purchase, so I couldn't resist the urge! Games activate on Steam, so you always have it backed up should you need to delete it for space. Or you can go through the Amazon download and get the non-steamworks version, which also is archived on your Amazon account. You can't go wrong. These games bring a fresh feeling to monotonous FPS story-based games. Definitely worth the purchase.\",2012-11-28,12948451,986415757,5,1,1,1.0,1\n",
      "US,R7JSKXKADFZ2M,B001K7HV3Q,Big Kahuna Reef,Digital_Video_Games,N,Y,good game,\"this is a pretty good game. it will keep you entertaained for awhile. after a while I got tired of it, but i get bored of playing the same game too long\",2012-11-28,27042161,701773253,4,0,0,0.5,0\n",
      "US,R67KV9B35BHB0,B009VIKJUS,Xbox Music Pass,Digital_Video_Games,N,N,do not pass this up,\"unlimited streaming, downloads from millions of songs, albums,artists, plus thousands of music videos. no need for xbox or zune,just your computer, $100 a year. if you like music i know of no other way for unlimited choices,and even downloads,GIVE THIS A TRY. it can not last\",2012-11-28,10044074,892290956,5,5,5,1.0,1\n",
      "US,R2SA4A2YHLIGUR,B004RMK4BC,Playstation Network Card,Digital_Video_Games,N,Y,very good option,it's very very very very very very  very good i idea it's amazing I hope Available 10$ online game code,2012-11-28,14640542,384246568,5,0,0,1.0,1\n",
      "US,R2LARWIBIU3PPU,B005ODQC1O,NBA 2K12(Covers May Vary),Digital_Video_Games,N,Y,Didn't work,\"I couldn't get the download to work.  Amazon refunded my money, and my wife bought me the PS3 version instead.  It is a great game, though.\",2012-11-28,14274675,404089609,1,2,2,-1.0,-1\n",
      "US,RRV9Q88TU5X56,B009GKT2Y0,Hotline Miami,Digital_Video_Games,N,N,Thrilling,\"This game is an extremely well crafted top-down violent action game. It makes you think on your feet constantly, and often times rewards erratic play. It's simply addictive. The graphics, music, and overall tone are all outstanding.\",2012-11-28,52729190,667892023,5,1,2,1.0,1\n",
      "US,RTBA8S3300STU,B008235PQQ,Bioshock Dual Pack [Download],Digital_Video_Games,N,N,Great!,\"Great price and great franchise! I never played through and working on first game so far, but awesome to say the least!\",2012-11-28,48642522,132645533,5,1,1,1.0,1\n",
      "US,RLMLXZ3EWOQ8F,B006P28ZQI,Dragon Age Pack [Mac Download],Digital_Video_Games,N,Y,Great Game,\"OMG i love them, the down load was super fast and easy saved it right to my desk top super awesome\",2012-11-28,36489906,820065884,5,0,0,1.0,1\n",
      "US,R11JBS78DW8UCD,B004RMK4P8,Playstation Network Card,Digital_Video_Games,N,Y,Excellent buy!!,There's not much to say in regards to this kind of purchase.  Everybody will use/spend the bought credit in whichever PSN product online is of interest by the buyer.  However what I can say is that I love to buy the code in Amazon yet that it takes much less than 30 seconds for you to have your code available so you can redeem it right away in your PS3 system.<br /><br />I have no less to say than THANKS AMAZON for this great benefit you give to all us customers.,2012-11-28,29800668,384246568,5,0,0,1.0,1\n",
      "US,R1ISP9AB9PUMQE,B001V7QIDY,Xbox 360 Live Points Card,Digital_Video_Games,N,Y,Easy,Much easier and convenient than going to a store and getting the card in an actual store. Saves gas. :D,2012-11-28,10113045,225309182,5,0,0,1.0,1\n",
      "US,R2ZVCQKRE5AK4T,B008VXCPV0,Batman: Arkham Asylum Game of the Year Edition,Digital_Video_Games,N,Y,A lot of fun.,I really do not like third person games. The weird camera angles and such.. I understand these games are make for consoles more and more..<br /><br />But it has been very enjoyable.. very entertaining..,2012-11-28,13184076,953476164,4,0,1,0.5,0\n",
      "US,R2E4PEN20Z0L93,B001K7HUUU,Jewel Quest Solitaire [Download],Digital_Video_Games,N,Y,Enjoyable,\"played a sample of Jewel Quest because I got tired of free cell.  This is more challenging, more levels and exciting.\",2012-11-28,47569646,70609047,4,2,2,0.5,0\n",
      "US,R3UFJYUBWDMC4Q,B008L3SHGC,Assassin's Creed III,Digital_Video_Games,N,Y,\"Good, Eventually\",\"After the disaster that was Mass Effect 3, I swore to myself, I wouldn't pre-order any more games.  Instead, I would wait til the games had been out at least a few months before purchasing it.  Sadly, I made the mistake of amending my position, to be only BioWare products.  My previous experiences with Assasins Creed convinced me that the company that makes, and produces this series of games, is doing everything right.  Sadly, I was wrong.  At least right now.<br /><br />AC3 is a very ambitious game continuing the series where AC Revelations left off.  So far so good.  However you quickly come across the flaws.  Missions, without a starting point, conversations that lack context.  Graphic issues, ledger problems that cause freezeups or crashes.  Or mission bugs that completely prevent them from being completed.  And other issues too numerous to mention.  You can probably work around most of the bugs.  Skip missions that are too buggy to work.  Read the forums for workarounds to get past the ones that are critical to the story-line.<br /><br />Overall, this is a fun game, And if you have enjoyed the AC series, Its definitely worth playing, its just that it would be a lot better to wait about a year, when the price comes down, and when they've finally fixed most of the bugs.  For myself, I'm going to take my own advice.  No more pre-orders, and in the case of AC3, I'll wait til they release a few patches, before picking up my save game.\",2012-11-28,49892779,784099575,3,1,2,0.0,0\n",
      "US,R1MABJPNJOSWFE,B009PNLAAW,Absolutely Great Square Pack [Download],Digital_Video_Games,N,Y,Absurd Value,\"It was five dollars, and it got me several software titles I would have willingly bought for twenty dollars each. This deal blew my mind, even though I'll likely not touch half of these games.\",2012-11-28,27552780,750879807,5,0,0,1.0,1\n",
      "US,R1LAPKORDN2FX0,B004APAEHA,Dragon Age Origins: Ultimate Edition,Digital_Video_Games,N,Y,Awesome,Graphics might be a bit dated now but it is still an amazing game to play.  Loved it!  The story was great and the conversations the characters have while you are walking around can be funny as hell.  It kept my interest and I couldn't wait to play it again when I wasn't.,2012-11-28,12595845,178032140,5,0,0,1.0,1\n",
      "US,R2AUU90G7YICCP,B006GTBUT4,Sid Meier's Civilization V Game of The Year Edition,Digital_Video_Games,N,Y,Cross compatibility is horrible.,\"The game is advertised as being cross platform compatible, unfortunately this is only true when the updates for both systems are on the same build. IF BOTH MAC AND PC versions were updated at the same time this wouldn't be an issue but they are not and there is usually several months in between updates thus preventing you from playing MAC vs. PC games several months out of the year. I based my review on this fact, as a game it is an easy four star game.\",2012-11-28,22854198,857062847,1,3,3,-1.0,-1\n",
      "US,R30MTNVB0GC60D,B003UHVF1S,Hotel Dash: Suite Success [Download],Digital_Video_Games,N,Y,Dash,\"The majority of dash games are so much fun. This game will take your play to<br />another level, where you must keep up or have your guests leave your<br />hotel. You will not be disappointed with this game, guaranteed!\",2012-11-28,21925455,791894226,4,0,1,0.5,0\n",
      "US,R33P54F61W7F03,B004APAEL6,Rollercoaster Tycoon 3: Platinum,Digital_Video_Games,N,Y,Old School Goodness,This was like a blast from the past. I'd forgotten just how much fun these games really were. Maybe something as good will repeat itself on my xbox.,2012-11-28,24955868,972173811,5,0,0,1.0,1\n",
      "US,R2UQ48EZYJO59,B0085O6NG8,Sid Meier's Civilization V: Gods and Kings - PC,Digital_Video_Games,N,N,\"Buying on Amazon, not steam\",\"I really hate steam, so I am buying this upgrade from Amazon instead of giving Steam one penny.  I have to buy two copies, one for me and one for my kids. I especially hate that, and I cant play with more than one kid at a time on a LAN like I used to do with the older games.\",2012-11-28,50003574,568978058,4,1,8,0.5,0\n",
      "US,R3IMXE2KSJ2V3T,B008CA9XB2,Sid Meier's Civilization V: Gods and Kings - PC,Digital_Video_Games,N,Y,Outstanding Upgrade,\"Sid delivers some great add-on content that actually adds to the the game play.  Well worth the money, seeing as it works to update the Windows version as well.\",2012-11-28,45243546,663254282,5,0,0,1.0,1\n",
      "US,R1QE4VN03DS1O,B0087STJLS,Battlefield 3: Premium Season Pass,Digital_Video_Games,N,Y,Great addition the the original Battlefield 3.,\"So BF3 Premium - To me the best FPS ever made up to date !!!<br />Constant action & destruction, the best graphics engine & effects, ton of weapons & vehicles.<br /><br />Battlefield 3 is a game You either love or hate, and it takes some getting used to as You can't just go in by Yourself and kill everyone. The game requires You to work with others (which sometimes is a problem - no VOIP), and brings the closest possible experience of being on a battlefield.<br />This is an absolute favorite to me, the game never gets boring & BF3 Premium adds  Back To Karkand, Close Quarters, Armored Kill (best) & Aftermath (Dec. 2012).\",2012-11-28,10786047,296282987,5,0,0,1.0,1\n",
      "US,RTNC8UDW50PR3,B004APAEHA,Dragon Age Origins: Ultimate Edition,Digital_Video_Games,N,Y,I think I'm obsessed with this game,\"Okay just so everyone knows, I am not a major gamer. I don't play a ton of games or know a lot about games in general. I leave it up to my friends or my brothers (who happen to game a lot) to explain the basics of video games to me. That said, I absolutely loooovvveee this game. When I first started playing it (about 3 years ago) I was with my brother and he got me going. After his roomate took it back when he moved away I obviously couldn't play it anymore. Despite the fact that I didn't get far into it, the game stuck with me. I happened to stumble across it a few months ago here on amazon and decided to get the PC version. I think I may be mildly obsessed with it (haha). The complexity of the game astounds me. The smallest decisions you make will affect the entire plot and I absolutely love it. There is a seemingly infinite number of possibilities and I think that is the main reason why I love it so much.\",2012-11-28,45796939,178032140,5,1,1,1.0,1\n",
      "US,R1XWE19DYBYLSY,B004JKMSB6,ToeJam & Earl,Digital_Video_Games,N,Y,Awesome game!,\"Great game! I downloaded it on my PC and I must say, I had no problems installing it. It is a very fun game I remember playing as a kid and it is still the same as ever!\",2012-11-28,19759200,934205861,5,1,1,1.0,1\n",
      "US,R29GXZ2TI9BYSK,B004K1F334,Amnesia [Download],Digital_Video_Games,N,Y,Serial Number?,\"I bought and downloaded and installed this game to my laptop, but there is no serial number? where can I find this so I can play this game and not be out of 15 bucks??\",2012-11-28,42733850,371024548,1,0,12,-1.0,-1\n",
      "US,R2MEFEKYK65Z44,B004RMK4P8,Playstation Network Card,Digital_Video_Games,N,Y,Love the convenience,What else is there to say?  You know what you're getting but you don't have to leave your house to get it.,2012-11-28,12051687,384246568,5,0,0,1.0,1\n",
      "US,R3PKJKADCIQBL7,B004NNVE7S,Black Mirror 2,Digital_Video_Games,N,Y,Could be better,\"Very little action and dialogue, it becomes boring, so pay attention to the dialogue, the game is infinitely stopped however the story is good, so it's worth playing.\",2012-11-28,36521857,280278135,3,0,0,0.0,0\n",
      "US,RXIXRR5JVOJTH,B004RMK4P8,Playstation Network Card,Digital_Video_Games,N,Y,great way to get online content,great option if you don't have access to the physical cards... very fast and secure... and you can use them as a perfect gift for holidays...,2012-11-28,14745941,384246568,5,0,0,1.0,1\n",
      "US,R2SYO4QCBJCFPB,B009D06FIO,Jet Set Radio [Download],Digital_Video_Games,N,Y,\"Game gets 5 Stars, Steam makes it 1 star\",\"The game itself gets 5 STARS but the way they force you to install Steam to play it, it kills the fun, not worth it. Once again, the game is awesome, Steam ruins it!\",2012-11-28,22249116,127348185,1,3,110,-1.0,-1\n",
      "US,R3RZ7IWX6YMNWT,B004RMK4BC,Playstation Network Card,Digital_Video_Games,N,Y,Works but one Flaw,\"Code worked perfectly, but I made sure I wrote it down because it never did come via email as I had chosen for it to do so. But, that wont stop me from purchasing again!!\",2012-11-28,10277543,384246568,5,0,0,1.0,1\n",
      "US,R1L1UETE96YNLY,B004RMK4BC,Playstation Network Card,Digital_Video_Games,N,Y,Great!,\"The only place i found where a $20 dollar psn card is $20 ,and still received on time,whit only a few minutes of delay.Just Great!\",2012-11-28,10980076,384246568,5,0,0,1.0,1\n",
      "US,R11Q9QJVIJLLHN,B008RNY1JS,SD Gundam Capsule Fighter Online,Digital_Video_Games,N,Y,Not Availble,\"i  downloaded this game and after the  whole installation process, then i  am  told the game cannot be accessed in my region. What a disappointment.......please stop sending me promotional ads.......\",2012-11-28,50417866,5884248,1,1,7,-1.0,-1\n",
      "US,RNNT4E8IPKJLC,B006TJYRBE,Mystery Stories - Mountains of Madness,Digital_Video_Games,N,Y,Kind of creepy,\"The puzzles in this game were pretty easy. I thought the story was rather graphic and little creepy. I never finished the game because of that, but the length of game play seemed decent.  3-4 hours.\",2012-11-28,20584202,465410681,3,1,1,0.0,0\n",
      "US,R2W388ODLPLF4F,B008L3SHGC,Assassin's Creed III,Digital_Video_Games,N,Y,Beautiful and buggy,\"The game is stunningly beautiful, the characters engaging, and it all promises to be a fabulous game.  That is if it wasn't super crazy buggy.  There are several instances where things hang up, or they dont work just right.  I cant enter the ledger because it stops seeing my keyboard and I get stuck in there.<br /><br />So if you're considering buying this game for PC, do, very much do!  However, I advise you to wait at least until one more patch before you do.\",2012-11-28,33547872,784099575,4,0,0,0.5,0\n",
      "US,R6P72D2AWUPNA,B009GKT2Y0,Hotline Miami,Digital_Video_Games,N,Y,Surprisingly awesome.,\"I picked this up because it was pretty cheap and the game-play and trailers I'd seen for it seemed pretty cool and unique. However, as I played, I began to love it more and more, to the point where I would put it up there as one of  my favorite games of the year. Game-play is solid and involves multiple approaches to any scenario, but brutally unforgiving, your enemies die in one or 2 hits, but so do you. This creates a great sense of tension that makes the game really rewarding, and the levels are small enough that it doesn't get frustrating. Complementing the game-play perfectly, the story and atmosphere is really well crafted and incredibly unsettling. I relate it most to the movie \\\\\"\"Drive\\\\\"\", but more trippy. The music, the constantly flashing lights, the twisting crazy story, and brutal nature of the game-play come together in a great, truly unique package.<br /><br />other details:<br />the game took me about 5-6 hours to beat (which seems to be the average time), after which I promptly played through it again. second play through was a lot quicker, but still really enjoyable.<br /><br />There are multiple endings, to unlock the final one, you need to find a collectible item in each chapter of the game, which adds to replay value<br /><br />The game's soundtrack is really cool and all the songs are just files in the game's folder, so buying the game gives you access to the OST<br /><br />There are rumors floating around the internet of the possibility of a level editor, which would allow users to create and share custom maps, extending the replay-ability of the game indefinitely, and future dlc or a sequel are already in the works.\",2012-11-28,31923259,667892023,5,2,3,1.0,1\n",
      "US,R19FNAGD1GHLJN,B00A2XA3G6,The Scruffs 2 [Download],Digital_Video_Games,N,Y,scruffs 2,\"Played the first game, but this one is even better with super<br />challenges and memory skills, you must have this<br />for your collection!\",2012-11-28,21925455,396868010,4,2,2,0.5,0\n",
      "US,RKY7OCLU5H2H1,B002VBWIP6,Xbox Live Subscription,Digital_Video_Games,N,Y,Great gift and a discount from online price,\"Great gift for those who don't have the money or the cc to put in for a subscription.<br /><br />Great way to ensure each year's purchase is due to continued interest in XBox Live services, since you can avoid the auto-renew rollover at the end of the 12-month term.<br /><br />XBox Live services are a great add-on to XBox.  You can save games to the cloud and pick up where you left off anywhere you find an XBox.  As more hotels and friends add XBox, you can travel with your favorite game and fire up right where your progress was.\",2012-11-28,51788263,232803743,5,1,1,1.0,1\n",
      "US,R3B4DH2308OD46,B001V7QIDO,Xbox 360 Live Points Card,Digital_Video_Games,N,Y,Great timely delivery,My son enjoys the convenience of this purchase and it's use. I will definitely make  this purchase again in the future.,2012-11-28,45143274,225309182,5,0,0,1.0,1\n",
      "US,R3BY4T045THRP7,B008CA9XB2,Sid Meier's Civilization V: Gods and Kings - PC,Digital_Video_Games,N,Y,Well beyond what I expected. This game is an addiction waiting to happen!,\"A long time ago I was hooked on the game Masters of magic.<br />Since then I tried many similar games and I was very disappointed until I found this game. I have been looking for something that is detailed and original. Something that gives you a lot of flexiblity while still making it easy to manage your cities, your resources, and your units. This game totally nailed it. It is definitely one of my favorite games now. The graphics is gorgeous, and the music is very good. I would definitely recommend this game to anyone who's looking to have a good time and stay occupied without jumping from game to game.\",2012-11-27,21814235,663254282,5,0,0,1.0,1\n",
      "US,R2JDZG5QIX3YFN,B0083W649I,Bioshock Dual Pack [Online Game Code],Digital_Video_Games,N,Y,Two great games,\"This bundle goes on sale often for a price of about 7.25 US Dollars, which is easily one of the best value bundles of one fo the best games in the last decade and its more or less equal sequel.\",2012-11-27,33189010,986415757,5,0,0,1.0,1\n",
      "US,R3HYV91Q8QNIHB,B00AAHSFAK,Paradox Majesty Franchise [Download],Digital_Video_Games,N,N,Strategically Buying Strategy Sale Packs,\"All games and DLC must redeem on steam.<br /><br />This Pack has all the \\\\\"\"Majesty\\\\\"\" games expansion packs and DLC all in a one stop shop with \\\\\"\"Warlock: Master of the Arcane\\\\\"\" being the newest of the games. \\\\\"\"Majesty Gold\\\\\"\" being the oldest from 2000 but updated to an HD release so it would work fine with windows 7 and higher resolutions.<br /><br />The pack is only a good deal when it goes on sale. If you missed it on Thanksgiving wait until Christmas or a Summer Sale. At the time of writing this it is $9.99.\",2012-11-27,14744452,275341467,4,5,5,0.5,0\n",
      "US,R1UU9UTHOBG52A,B004RMK4P8,Playstation Network Card,Digital_Video_Games,N,Y,ps3 network card,\"sony playstation network card,very easy to buy and use.  I bought card and 5 min.later I had the game i wanted. this was the 3rd card I bought.\",2012-11-27,25158757,384246568,5,0,0,1.0,1\n",
      "US,RH4G3VR7JFYQK,B0042JTQZU,Brtiannica World's Best Solitaire [Download],Digital_Video_Games,N,Y,On old laptop,\"I bought a new laptop, so I nolonger have this download. I should havepurchased a disc.<br />I enjoyed the games while I had them\",2012-11-27,20355729,76649249,2,0,0,-0.5,-1\n",
      "US,R2KVSMVM5TV7A8,B001KC01TC,Strike Ball 2 [Download],Digital_Video_Games,N,Y,Good game,This is a good game but it it could be a little more challenging. This product download it with no problems at all.,2012-11-27,38282633,928407840,4,0,0,0.5,0\n",
      "US,R18JGTEMN4VMWM,B0044DEQ3Q,Ghostbusters: The Video Game [Download],Digital_Video_Games,N,Y,Download took fore-v-e-r,\"Didnt pay but 2.99 for this download, took 15 hours. seem fun to play got a lot of good reviews,just played a little bit so far once I've learned to play it,seems like it will be pretty cool.\",2012-11-27,13922228,49368511,4,0,0,0.5,0\n",
      "US,R15W7JARM1JX9T,B0098QPPL6,Battlefield 3,Digital_Video_Games,N,Y,\"Great Game, Service and Specially the Price!!!\",\"---<br /><br />GRACIAS AMAZON, SUPER PRECIO!!!<br /><br />Gran juego, tengo todo lo que la EDICI&Oacute;N PREMIUM ofrece (incluyendo el juego), no tuve problemas! :D La instalaci&oacute;n es larga pero sin problemas.<br /><br />El juego con todo lo que incluye el premium pesa 26.9GB!!!<br /><br />En la librer&iacute;a de ORIGIN aparece la caratula de Limited edition, pero el juego trae los add-ons de PREMIUM.<br /><br />---<br /><br />THANKS AMAZON, SUPER PRICE!<br /><br />Great game, I have everything the Premium Edition offers (including the game), no problems! :D The installation is long but smooth.<br /><br />The game with everything that includes PREMIUM EDITION, weighs 26.9GB!!!<br /><br />In the library of ORIGIN, appears Battlefield Limited Edition, but the game brings the add-ons of PREMIUM.\",2012-11-27,43786638,64618519,5,0,1,1.0,1\n",
      "US,R1H5M2K7ZFJVFG,B004RMK4BC,Playstation Network Card,Digital_Video_Games,N,Y,pretty fast,\"all just fine, the card arrive to me email about 30 mins laters, really great job (do i really need 3 more words, lol)\",2012-11-27,9661582,384246568,5,0,0,1.0,1\n",
      "US,R20NU1L7Z8O204,B004M5HV5G,Borderlands,Digital_Video_Games,N,Y,A RPG/FPS hybrid with a bit of dull,\"This is absolutely a game to be played among friends,the game is uninviting, difficult, and downright brutal to the solo player, but if you have friends though the difficulty scales the AI does not, and therefore the game becomes easier with friends.\",2012-11-27,33189010,305835717,4,0,0,0.5,0\n",
      "US,R3ESPZFMGRCOB1,B004VSTQ2A,Xbox Live Subscription,Digital_Video_Games,N,Y,FAST!,AMAZINGLY faster than to go to any store and wait in line to purchase. Just pay and you get the code! I happened to buy the online code and I highly recommend it if you need to play now.,2012-11-27,31371053,232803743,5,0,0,1.0,1\n",
      "US,R26132CUOE3EUF,B003YUCJFW,CTR: Crash Team Racing,Digital_Video_Games,N,Y,Great product,\"It's a great product, it gave me before the due date and is just as it was in the pictures, I recommend it to all\",2012-11-27,23150888,735110070,5,0,0,1.0,1\n",
      "US,R3SC8PVM3FVOV3,B002GP6WPE,Crash Bandicoot 2,Digital_Video_Games,N,Y,Great product,\"It's a great product, it gave me before the due date and is just as it was in the pictures, I recommend it to all\",2012-11-27,23150888,686216453,5,1,1,1.0,1\n",
      "US,RZC0TCS5YV905,B0083W649I,Bioshock Dual Pack [Online Game Code],Digital_Video_Games,N,Y,Great Deal,\"I bought this for $7 dollars, and copy and pasted the game code into Steam. It works perfectly, haven't had any problems with it or experienced any lag.<br />I highly recommend this game; its one of the best series I have ever played. And for so cheap, why not?\",2012-11-27,21407626,986415757,5,0,0,1.0,1\n",
      "US,R24TVWGOZ0G1BF,B004RMK4BC,Playstation Network Card,Digital_Video_Games,N,Y,Ok!,It works fine! I live in Brazil and buy this card to buy games at USA PSN... Works! I will buy again,2012-11-27,46791759,384246568,5,0,0,1.0,1\n",
      "US,R21VASVLIWH2G5,B003BVIXUE,Assassins Creed II,Digital_Video_Games,N,Y,\"A fun game, but the download sucks\",\"The game was nice, and I enjoy playing it. If you never play AS1, you will have some trouble catching up the story.<br />The download system was kind of suck. The server connection was not sable, and resulted in installation error. I downloaded for about 6 times to finally get it work.\",2012-11-27,14198550,545163470,3,0,0,0.0,0\n",
      "US,RBHSWSJ295999,B0091XHZW8,Guild Wars 2 [Download],Digital_Video_Games,N,Y,\"Great! Okay, I don't play any more...\",\"I bought this game for my Macbook Pro Retina. The download works fine for the Mac version and if I ever decide to get off my lazy tookus I'll make me a Windows based gaming rig for gaming because we all know how abundant Mac games are.<br /><br />Anyway aside from that, no issues. The game looks great, no issues with server and sure the game is fun.... for a while.<br /><br />This is my first MMO (not including Phantasy Star Online if you consider that MMO) and not a complainer, but the game for me was tooooooo HARD!!!! I'm assuming the game is hard for a reason to create some sort of party and go questing with a group, but I didn't want to do this. So... MMOs aren't for me. Thought I'd try it, but it's too difficult and grinding away at the same missions all day long doesn't provide me with a lot of accomplishment.<br /><br />My review is based on my opinions and I am not a savvy MMO player. So take my review with a grain of salt, typically us as humans don't like things we don't understand or aren't good at. I am one of those prejudice gamers. Games I don't get, get a sour judgement by yours truly. It doesn't mean it's not a great game, but I wouldn't recommend it based on my experiences.\",2012-11-27,30208085,37905404,3,5,7,0.0,0\n",
      "US,R24B191MFNSABP,B009YLKBQY,Kingdoms of Amalur + DLC Bundle [Download],Digital_Video_Games,N,Y,Very Good Deal,\"First of all those ppl that say, \\\\\"\" this game dont wotk , the download  never works \\\\\"\" take ur cd-key and put on ur origin clint and it will go very very fine.<br /><br />Second why giving the game 1 star , because it requires origin?? you dont like \\\\\"\"EA\\\\\"\" well its ur problem... they will not be more rich or poor if you like they or not...download origin, put ur key , download the game and enjoy the same...the game is good, you all \\\\\"\"1 star\\\\\"\"  dont make any sense, the game dows not deserve 1 star cause you dont like origin... there is another review from a guy telling , \\\\\"\"i waste my money, the donwload dont work\\\\\"\" aaaa come on ... the only thing that not work is his brain...<br /><br />Good game, for a good price, if you like games whith rpg lines you will enjoy it, dont miss this promo....its really nice deal the game + 2 dlcs for 11,99 only.<br /><br />You will have more fun than payng 14,99 for play 30 days of WoW.\",2012-11-27,44237683,714287586,5,5,12,1.0,1\n",
      "US,RYXNOQRD9ML92,B004VSTQ2A,Xbox Live Subscription,Digital_Video_Games,N,Y,3 month gold,Digital download was there as soon as I pressed the button for purchase. Will always do this from now on. So simple and easy!,2012-11-27,46018281,232803743,5,0,0,1.0,1\n",
      "US,R91I5AC4IFAK9,B004V9QC80,Final Fantasy XI: Ultimate Collection Abyssea Edition [Download],Digital_Video_Games,N,Y,FFXI!!!,\"i have been playing ffxi for a few years on and off, and SE keeps making newer collections to add to your already ever growing collection.. but honestly digital downloads is something they could have used when the game first came out, or at least bringing out out a few years after everyone else started doing it.. i have several copies of different editions and expansions for this game, and now having the digital copy keeps me from going to buy a new disk every time i loose a disk and have to reinstall the game or if the disk is scratched and cant be read.. overall genius idea to do digital downloads\",2012-11-27,45170273,617429709,4,0,0,0.5,0\n",
      "US,R1M3O5LR4E0MSB,B008XN0F3S,Two Worlds: Game of the Year Edition [Download],Digital_Video_Games,N,Y,Dud,I spent about 8 hours downloading this game only to find out I could not open it.  What a waste of my time.,2012-11-27,10012304,290575062,1,0,2,-1.0,-1\n",
      "US,R2O9D7MLF47UHU,B008O8GZ90,Plants Vs. Zombies,Digital_Video_Games,N,Y,can't make it work,\"I wish I could say the kids and I are having a ton of fun playing this game. We had a free trial a while ago, and had a blast. So I downloaded it today from Amazon (it's half the price on this site), but no-one in my family can figure out how or where to load the key/ code number to play the game. I guess you can tell that I'm not particularly computer savvy, but I'm not stupid and this is just extremely frustrating and a waste of time/ money. Any help would be greatly appreciated.\",2012-11-27,35535457,991882906,1,1,2,-1.0,-1\n",
      "US,RREOCFFN4GG1K,B008J361YY,Xbox 360 Live Points Card,Digital_Video_Games,N,Y,This is Awesome!,This was so convenient to purchase because I could not find 2400 points on the microsoft website. There was only 1600 or 4000.  Thank you amazon for never failing me. This gift was perfect for my boyfriend.,2012-11-27,16129792,225309182,5,0,0,1.0,1\n",
      "US,R1FHCRQZY3FK0P,B00A418B7Y,Prototype Pack [Online Game Code],Digital_Video_Games,N,N,WAIT A MINUTE...,Individual price $54.97...<br /><br />They crossed that out...<br /><br />Bundle price $89.97...<br /><br />Please explain how I am getting a good deal if i buy this?,2012-11-27,21417351,88167459,1,0,1,-1.0,-1\n",
      "US,R8O48TVR9P0C8,B005HRZ3N0,Deus Ex: Human Revolution - Augmented Edition [Download],Digital_Video_Games,N,Y,Rebought for PC,\"it looks and runs smoother and faster than the console counterpart, which is already a great experince, only made greater by the support of a PC that supports it.\",2012-11-27,33189010,62574185,5,0,0,1.0,1\n",
      "US,RWOUWBTIJO0R6,B004ZUFKEC,The Sims 3 [Mac Download],Digital_Video_Games,N,N,Did Download But Took A Long Time,The game took days to download I am very sad about that. But it did manage to download which was awesome. The product worked the way it should have.,2012-11-27,19701891,321025745,5,0,0,1.0,1\n",
      "US,R2MX46C8EIUH45,B001MBU0AG,Call of Atlantis,Digital_Video_Games,N,Y,junk,Downloaded this to pc<br />folder/short cuts downloaded with no problem however no game!<br />installed/ unistalled/ reinstalled several times<br /><br />tried to return this order  unreturnable<br />What a completer rip off!!!!!,2012-11-27,49948611,925386012,1,2,3,-1.0,-1\n",
      "US,R187KQB9CUOIAG,B004RMK4BC,Playstation Network Card,Digital_Video_Games,N,Y,Thanks,\"Ótimo produto, rápido, seguro e uma boa saída para estrangeiros!<br /><br />Voltarei a comprar e espero que tenham também os de 10 DOLLARS\",2012-11-27,9669816,384246568,5,0,0,1.0,1\n",
      "US,R2BK5N51WUYO9M,B0044DEQ3Q,Ghostbusters: The Video Game [Download],Digital_Video_Games,N,N,Great game,\"Game was easy to install. The download was fast, finished in just over an hour, but depends on your internet connection speed. The game so far is great, it stays true to the films and it is a fun ride. Also allows you to install it on as many computers as you want without a hassle so big plus there. Very happy, great game.\",2012-11-27,9072363,49368511,5,0,0,1.0,1\n",
      "US,R3PJ9IWYP6QQ26,B0081IOP8G,Hitman 2: Silent Assassin [Online Game Code],Digital_Video_Games,N,Y,Nostalgia,Bought this while waiting for Hitman absolution. Love this game. Has its bugs and quirks but who cares :)Hard to use cheat codes using steam. Couldn't go for an all out assault without the firepower. Good for casual gaming.,2012-11-27,10424343,188535711,5,1,1,1.0,1\n",
      "US,R23FLBO1YXGET,B003ZSHN0O,Governor of Poker 2 Premium Edition [Download],Digital_Video_Games,N,Y,Fun to play,Liked it very much. Would like to hear more conversation instead of the same thing over and over.<br />some temper tantrums and mild cursering.,2012-11-27,40936365,541652544,4,0,0,0.5,0\n",
      "US,R2H15XFRDBWYJH,B008D7F0UC,The Sims 3 Supernatural [Download],Digital_Video_Games,N,Y,Error...,\"Everytime I went to download it it came across an error. Money back!!!!! Please, it would be nice. Seriously. Come on...\",2012-11-27,42678965,706538139,1,1,4,-1.0,-1\n",
      "US,R2YINL5LDWOR6F,B004E10R4K,Need for Speed: Hot Pursuit,Digital_Video_Games,N,Y,awsome,faster !! a very awsome experience in this video game i can drive as faster than a real racer. thanks i recommend this game a lot,2012-11-27,40989906,404225442,5,0,0,1.0,1\n",
      "US,RK57VHUFBEDO9,B008ALU5KG,XCOM: Enemy Unknown,Digital_Video_Games,N,N,Epic game for veterans or newbies alike!,\"As a veteran XCOM: UFO Defense fan, I must say that Enemy Unknown surpasses expectations.  It takes the best elements of the original and combines it with modern gaming technology.<br /><br />I am just starting in on the multiplayer mode after beating the game in single player, but expect that it will live up to expectations.<br /><br />A+ rating!\",2012-11-27,44211775,629524765,5,1,2,1.0,1\n",
      "US,R2U80RGUTHKUEN,B009SCTJIK,007 Legends [Download],Digital_Video_Games,N,N,\"Linear, no controller support, OK graphics, and gets boring, fast\",\"If you are a true PC gamer, you will be very upset.  If you use an Xbox 360 controller, you will also be very upset.  This game also got boring quickly.<br />It does not support controllers, the graphics are just OK, the graphic options are missing (no real high res),aiming is a bit of a pain in the behind, you cannot use your mouse in the menus...should I go on?  This was ported from the console version without any real consideration for PC users.  Having no controlelr support is just lame.  Quantum os Solice<br />had it,so I bought it, but that game got boring after a while.  However, it does work on older systems, if that  helps you.  Overall, if you can live with the above issues, for under $20, it's a good buy, but DO NOT pay full price for it - it's not worth it.  These people should just stop making PC games, period. What a waste of time and money. I am uninstalling it today<br />to clear up room on my PC for Black Ops 2.\",2012-11-27,35928042,314421213,3,1,1,0.0,0\n",
      "US,R2GGRM7KVVE4GM,B00452VH0Q,Mass Effect 2,Digital_Video_Games,N,Y,\"Great game, but don't download it here.\",\"Mass Effect 2 is a five star product, however, Amazon's downloader does not work very well. It will automatically download as a zip file, but the download will likely be corrupt or incomplete due to the size of the game.<br /><br />Buy it here for the low price, but just take your activation key and download it through EA's Origin. Best/Cheapest way to get ME2.\",2012-11-27,23235005,920556591,3,0,0,0.0,0\n",
      "US,R1N9AZ88LYDSR4,B006P28VBM,Dragon Age Pack [Download],Digital_Video_Games,N,Y,Great pack,\"I only can say that i love DAO, is one of the best rpg ever made, is a shame that dont work in steam but is not a big deal.\",2012-11-27,42014870,660948751,5,0,0,1.0,1\n",
      "US,R3GT7E2IMCGJRO,B004APAELG,Rollercoaster Tycoon 2: Triple Thrill Pack,Digital_Video_Games,N,Y,fantastic,\"this game is fantastic and absolutly fun to play. addicting nonetheless.<br /><br />i am playing this game on windows 7 home edition and runs fine. if you are eperiancing problems then do not delete the folder that downloads onto your desktop, open it and run setup, after finished an icon will show up. do not relocate the folder or icon or delete them. it should work fine.\",2012-11-27,19898463,800401220,5,0,0,1.0,1\n",
      "US,R3M08DJ5VNPD1I,B008BKEWMI,RuneScape [Game Connect],Digital_Video_Games,N,Y,Extremely easy and very convenient to use,Purchasing Runescape members or SoF spins this way takes seconds compared to the time it takes to purchase it on the site. No lagg and the product is added to your account instantly. Very satisfied.,2012-11-27,17044594,57554399,5,3,4,1.0,1\n",
      "US,R31FA8BN9XXQ57,B008ALUBYQ,Borderlands 2,Digital_Video_Games,N,Y,Awesome!,\"Easily one of the best games of the year, it is not only action packed and fun but also hilarious! all around a very entertaining game. I always thought borderlands looked horrible, but now that i tried it, i cannot praise it enough!\",2012-11-27,18140100,112160022,5,1,2,1.0,1\n",
      "US,R108ALLUOZB6I6,B008J35YFQ,Xbox 360 Live Points Card,Digital_Video_Games,N,Y,800 Microsoft points,It was quick and easy! The code came right away. I would really recommend it. I got my points instantly.,2012-11-27,39921906,225309182,5,0,0,1.0,1\n",
      "US,R2R1JEP3K5S2QR,B008J35YFQ,Xbox 360 Live Points Card,Digital_Video_Games,N,Y,Can't beat instant,\"What can you say...it's instant.  You buy, then you get the code on the next screen it's awesome. Two more words haha\",2012-11-27,15166095,225309182,5,0,0,1.0,1\n",
      "US,R3RASPAPEE7BDP,B001KC009S,Big Kahuna Reef 2: Chain Reaction,Digital_Video_Games,N,Y,Kahuna Reef,\"I don't know what the game was like, it never downloaded. And as for your instruction on how to downmload they were lets say not possible. Not happy with this at all. I have never had problems before with any games or products from Amazon. A new trend?\",2012-11-27,12342746,549705215,1,0,1,-1.0,-1\n",
      "US,R21PGCNBKI8KSF,B004HD62IU,18 Wheels of Steel: Extreme Trucker 2 [Download],Digital_Video_Games,N,Y,long download but my son loves it,It did take a long time to download..probably 20 minutes. But my 12 year is thrilled with it so I'm happy lol.,2012-11-27,14235759,847595970,4,3,4,0.5,0\n",
      "US,R3AV0SS3W6AIWB,B004VSTQ2A,Xbox Live Subscription,Digital_Video_Games,N,Y,Near Instantaneous!,Perfect option for us with children and live in somewhat remote areas.<br /><br />Got the code just after orsering. (3 minutes),2012-11-27,14302944,232803743,5,1,1,1.0,1\n",
      "US,R2LOZ0R2KYSKAK,B004774IPU,Sid Meier's Civilization V,Digital_Video_Games,N,Y,Fine,\"It is fine, but.... I don't know how to play on Internet. It's boring to play alone. so i give you 3 stars\",2012-11-27,38418083,151985175,3,2,6,0.0,0\n",
      "US,R60PJDUUU5FNO,B009GKT2M2,Farming Simulator 2013 [Download],Digital_Video_Games,N,Y,FARMING SIMULATOR 2013,LOVE IT..I STARTED WITH FS2011 AND COULD NOT WAIT TILL 2013 CAME OUT.<br />IF YOU ENJOYED FS2011 YOU WILL LIKE THE NEW FEATURES IN 2013,2012-11-27,14074031,165594677,5,2,3,1.0,1\n",
      "US,R1OCC6BHYP76XR,B004V9QC80,Final Fantasy XI: Ultimate Collection Abyssea Edition [Download],Digital_Video_Games,N,Y,\"Great Classic, For a Great Price.\",\"If your a fan of the series, who doesn't mind a challenging game. Then this could be for you. The game has evolved greatly in the past 10 years to allow a more user friendly experience to level quickly enough to learn the game and climb into the end game content provided.\",2012-11-27,11965684,617429709,5,0,0,1.0,1\n",
      "US,R17KXZVETXI3HP,B003U2SX68,Fat Princess: Fat Roles DLC [Online Game Code],Digital_Video_Games,N,Y,Great product,\"It's a great product, it gave me before the due date and is just as it was in the pictures, I recommend it to all\",2012-11-27,23150888,205356492,5,0,0,1.0,1\n",
      "US,R22QCG9LU7VDU6,B004VSTQ2A,Xbox Live Subscription,Digital_Video_Games,N,Y,Awesome buy!,This is great and saves you a ton of money. $25 in stores & $12 online? Can't beat it. I will continue to purchase my live cards online from now & on.,2012-11-27,17905769,232803743,5,0,0,1.0,1\n",
      "US,RQ0GZ0VCAVU1X,B004RMK4P8,Playstation Network Card,Digital_Video_Games,N,Y,It works,It works as it was meant to work. Easy and fast to use. Recommended to anyone whose credit card doesn't work on PSN.,2012-11-27,46848396,384246568,5,0,0,1.0,1\n",
      "US,R3O0KUCZM5KKSL,B007HDHP10,Assassin's Creed III,Digital_Video_Games,N,Y,Yet another fine game in the series!,\"I have not yet been disappointed with an assassins creed game.  Well worth the money, as with all of the titles.\",2012-11-27,29018514,72404871,5,2,10,1.0,1\n",
      "US,RD7A8SY8N6S8G,B00AAIJJCW,Paradox War Chest [Download],Digital_Video_Games,N,Y,Quick Recap,\"I'll save you the time with all the reviews (there are tons of sites for that). I bought this war chest over Black Friday weekend for $8 from Amazon. I thought it was a misprint and just had to pick it up (been trying to find time for King Arthur since January).<br /><br />The games span a few different styles/settings. But, my overall advice would be to wait for this to go on sale. Like I said, I saved over $100 on this war chest during a markdown.<br /><br />Happy Gaming!\",2012-11-27,18759226,901714406,4,0,8,0.5,0\n",
      "US,R8MKLDME3OH1S,B004D4YDNE,Grand Theft Auto IV - PC Download (Standard Edition) [Download],Digital_Video_Games,N,Y,i like it,very intresting game you can choose what to do and where to go i recommend to all gamers a lot,2012-11-27,40989906,69625145,5,1,2,1.0,1\n",
      "US,R7CA9VEFJHFED,B009XDMQ0W,Mass Effect Trilogy,Digital_Video_Games,N,Y,Some extra info for those interested,\"As of the moment I'm writing this there are 5 Amazon customer reviews about this game and none of them are \\\\\"\"Amazon Purchase Verified\\\\\"\" (or whatever Amazon calls it). Heres some info I have learned for those considering purchasing the Mass Effect Trilogy (PC version):<br /><br />I purchased this game today (Cyber Monday 2012) thru Amazon (for $29.99 instead of the $59.99 price! Amazon is awesome!) and I activated it on the Origin client. I've never used Origin. The only Digital Game sites I have ordered from have been either Steam or Amazon (& the game required Steam) or Good Old Games (which is DRM-less btw).<br /><br />On the Origin Store I see that in regard to the Mass Effect games a \\\\\"\"points \\\\\"\" system is used instead of just stating how many dollars a dlc costs. Strike one. All points systems stink of ripoff imo (I think Xbox uses a point system but I've never played an Xbox before so this method of ripping off customers of a handful of dollars I am not used to).<br /><br />Here's how much Mass Effect 2 & 3 dlc will cost you in dollars. The dlc that adds to the story of Mass Effect (as far as I can tell) are the folowing (there is a digital comic also being sold but I will not list it since I'm not sure it adds anything to the story):<br /><br />Mass Effect 2 DLC:<br /><br />Lair of the Shadow Broker: cost 800 \\\\\"\"BioWare Points\\\\\"\"<br /><br />Overlord Pack: cost 560 \\\\\"\"BioWare Points\\\\\"\"<br /><br />Arrival: cost 560 \\\\\"\"BioWare Points\\\\\"\"<br /><br />Kasumi - Stolen Memory: cost 560 \\\\\"\"BioWare Points\\\\\"\".<br /><br />Mass Effect 3 DLC:<br /><br />From Ashes: cost 800 \\\\\"\"BioWare Points\\\\\"\"<br /><br />Leviathan: cost 800 \\\\\"\"BioWare Points\\\\\"\".<br /><br />So to experience the entire Mass Effect story you would have to buy \\\\\"\"BioWare Points\\\\\"\" and pay (if you buy through the Origin Store which I don't know if it's mandatory for ME DLC):<br /><br />BioWare Points cost:<br />1600 points: $20.00<br />1200 points: $15.00<br />800 points: $10.00<br />400 points: $5.00<br /><br />$35 for ME2 DLC.<br />$20 for ME3 DLC.<br /><br />Total: $55.00.<br /><br />So I payed 29.99 for the Trilogy. That would mean I would have to spend $84.99 in total if I choose to buy these DLC.<br /><br />In my opinion I believe the reason all ME2 DLC was not included was in hope that new players would spend extra on ME2. Not including all the ME3 DLC is understandable to me since ME3 is still less than a year old.<br /><br />I am a new player to the Mass Effect franchise. I have not played the Trilogy yet (it's currently downloading) but if the story is as good as everyone says it is (not including the controversial ME3 ending) than I guess I will pay the extra $55 for the story DLC. But at least I saved $30! Thanks Amazon! :)\",2012-11-27,20181758,223982723,5,232,262,1.0,1\n"
     ]
    }
   ],
   "source": [
    "!cat part-00012-89e06de2-4fbe-4477-85e7-10121e5e2153-c000.csv"
   ]
  },
  {
   "cell_type": "markdown",
   "metadata": {},
   "source": [
    "## Kick off SageMaker Training Job (Optional)\n",
    "Data Wrangler is a SageMaker tool for processing data to be used for Machine Learning. Now that\n",
    "the data has been processed, users will want to train a model using the data. The following shows\n",
    "an example of doing so using a popular algorithm XGBoost.\n",
    "\n",
    "It is important to note that the following XGBoost objective ['binary', 'regression',\n",
    "'multiclass'], hyperparameters, or content_type may not be suitable for the output data, and will\n",
    "require changes to train a proper model. Furthermore, for CSV training, the algorithm assumes that\n",
    "the target variable is in the first column. For more information on SageMaker XGBoost, please see\n",
    "https://docs.aws.amazon.com/sagemaker/latest/dg/xgboost.html.\n",
    "\n",
    "### Find Training Data path\n",
    "The below demonstrates how to recursively search the output directory to find the data location."
   ]
  },
  {
   "cell_type": "code",
   "execution_count": 11,
   "metadata": {},
   "outputs": [
    {
     "name": "stdout",
     "output_type": "stream",
     "text": [
      "export-flow-03-00-04-50-3d942e17/output/data-wrangler-flow-processing-03-00-04-50-3d942e17/2b17c16a-8c82-432a-9fec-11ed0b510539/default/part-00013-89e06de2-4fbe-4477-85e7-10121e5e2153-c000.csv\n"
     ]
    }
   ],
   "source": [
    "s3_client = boto3.client(\"s3\")\n",
    "list_response = s3_client.list_objects_v2(Bucket=bucket, Prefix=output_prefix)\n",
    "\n",
    "training_path = None\n",
    "\n",
    "for content in list_response[\"Contents\"]:\n",
    "    if \"_SUCCESS\" not in content[\"Key\"]:\n",
    "        training_path = content[\"Key\"]\n",
    "\n",
    "print(training_path)"
   ]
  },
  {
   "cell_type": "markdown",
   "metadata": {},
   "source": [
    "Next, the Training Job hyperparameters are set. For more information on XGBoost Hyperparameters,\n",
    "see https://xgboost.readthedocs.io/en/latest/parameter.html."
   ]
  },
  {
   "cell_type": "code",
   "execution_count": 12,
   "metadata": {},
   "outputs": [],
   "source": [
    "region = boto3.Session().region_name\n",
    "container = sagemaker.image_uris.retrieve(\"xgboost\", region, \"1.2-1\")\n",
    "hyperparameters = {\n",
    "    \"max_depth\":\"5\",\n",
    "    \"objective\": \"reg:squarederror\",\n",
    "    \"num_round\": \"10\",\n",
    "}\n",
    "train_content_type = (\n",
    "    \"application/x-parquet\" if output_content_type.upper() == \"PARQUET\"\n",
    "    else \"text/csv\"\n",
    ")\n",
    "train_input = sagemaker.inputs.TrainingInput(\n",
    "    s3_data=f\"s3://{bucket}/{training_path}\",\n",
    "    content_type=train_content_type,\n",
    ")"
   ]
  },
  {
   "cell_type": "markdown",
   "metadata": {},
   "source": [
    "The TrainingJob configurations are set using the SageMaker Python SDK Estimator, and which is fit\n",
    "using the training data from the ProcessingJob that was run earlier."
   ]
  },
  {
   "cell_type": "code",
   "execution_count": null,
   "metadata": {},
   "outputs": [],
   "source": [
    "estimator = sagemaker.estimator.Estimator(\n",
    "    container,\n",
    "    iam_role,\n",
    "    hyperparameters=hyperparameters,\n",
    "    instance_count=1,\n",
    "    instance_type=\"ml.m5.2xlarge\",\n",
    ")\n",
    "estimator.fit({\"train\": train_input})"
   ]
  },
  {
   "cell_type": "code",
   "execution_count": null,
   "metadata": {},
   "outputs": [],
   "source": []
  }
 ],
 "metadata": {
  "kernelspec": {
   "display_name": "Python 3 (Data Science)",
   "language": "python",
   "name": "python3__SAGEMAKER_INTERNAL__arn:aws:sagemaker:us-east-1:081325390199:image/datascience-1.0"
  },
  "language_info": {
   "codemirror_mode": {
    "name": "ipython",
    "version": 3
   },
   "file_extension": ".py",
   "mimetype": "text/x-python",
   "name": "python",
   "nbconvert_exporter": "python",
   "pygments_lexer": "ipython3",
   "version": "3.7.6"
  }
 },
 "nbformat": 4,
 "nbformat_minor": 4
}
