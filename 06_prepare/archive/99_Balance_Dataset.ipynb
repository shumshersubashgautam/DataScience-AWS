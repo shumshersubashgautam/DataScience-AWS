{
 "cells": [
  {
   "cell_type": "markdown",
   "metadata": {},
   "source": [
    "# WIP: Balance Dataset (All Data)"
   ]
  },
  {
   "cell_type": "code",
   "execution_count": 1,
   "metadata": {},
   "outputs": [],
   "source": [
    "!pip install -q PyAthena==1.10.7"
   ]
  },
  {
   "cell_type": "code",
   "execution_count": 2,
   "metadata": {},
   "outputs": [],
   "source": [
    "from pyathena import connect\n",
    "from pyathena.pandas_cursor import PandasCursor\n",
    "from pyathena.util import as_pandas"
   ]
  },
  {
   "cell_type": "code",
   "execution_count": 3,
   "metadata": {},
   "outputs": [],
   "source": [
    "import boto3\n",
    "import sagemaker\n",
    "import numpy as np\n",
    "import pandas as pd\n",
    "import seaborn as sns\n",
    "import matplotlib.pyplot as plt\n",
    "\n",
    "%matplotlib inline\n",
    "%config InlineBackend.figure_format='retina'"
   ]
  },
  {
   "cell_type": "code",
   "execution_count": 4,
   "metadata": {},
   "outputs": [],
   "source": [
    "sagemaker_session = sagemaker.Session()\n",
    "role = sagemaker.get_execution_role()\n",
    "bucket = sagemaker_session.default_bucket()\n",
    "region = boto3.Session().region_name\n",
    "\n",
    "sm = boto3.Session().client(service_name='sagemaker', region_name=region)"
   ]
  },
  {
   "cell_type": "markdown",
   "metadata": {},
   "source": [
    "# Download All Data from Public S3 Bucket to Private S3 Bucket"
   ]
  },
  {
   "cell_type": "code",
   "execution_count": 36,
   "metadata": {},
   "outputs": [],
   "source": [
    "# Public bucket\n",
    "s3_source_path_tsv = 's3://amazon-reviews-pds/tsv'"
   ]
  },
  {
   "cell_type": "code",
   "execution_count": 60,
   "metadata": {},
   "outputs": [
    {
     "name": "stdout",
     "output_type": "stream",
     "text": [
      "s3://sagemaker-us-east-1-835319576252/amazon-reviews-pds/tsv-all\n"
     ]
    }
   ],
   "source": [
    "# Private bucket for this AWS account\n",
    "s3_destination_path_tsv_all = 's3://{}/amazon-reviews-pds/tsv-all'.format(bucket)\n",
    "print(s3_destination_path_tsv_all)"
   ]
  },
  {
   "cell_type": "code",
   "execution_count": 53,
   "metadata": {
    "scrolled": true
   },
   "outputs": [
    {
     "name": "stdout",
     "output_type": "stream",
     "text": [
      "copy: s3://amazon-reviews-pds/tsv/amazon_reviews_us_Baby_v1_00.tsv.gz to s3://sagemaker-us-east-1-835319576252/amazon-reviews-pds/tsv-all/amazon_reviews_us_Baby_v1_00.tsv.gz\n",
      "copy: s3://amazon-reviews-pds/tsv/amazon_reviews_us_Automotive_v1_00.tsv.gz to s3://sagemaker-us-east-1-835319576252/amazon-reviews-pds/tsv-all/amazon_reviews_us_Automotive_v1_00.tsv.gz\n",
      "copy: s3://amazon-reviews-pds/tsv/amazon_reviews_us_Apparel_v1_00.tsv.gz to s3://sagemaker-us-east-1-835319576252/amazon-reviews-pds/tsv-all/amazon_reviews_us_Apparel_v1_00.tsv.gz\n",
      "copy: s3://amazon-reviews-pds/tsv/amazon_reviews_us_Beauty_v1_00.tsv.gz to s3://sagemaker-us-east-1-835319576252/amazon-reviews-pds/tsv-all/amazon_reviews_us_Beauty_v1_00.tsv.gz\n",
      "copy: s3://amazon-reviews-pds/tsv/amazon_reviews_us_Camera_v1_00.tsv.gz to s3://sagemaker-us-east-1-835319576252/amazon-reviews-pds/tsv-all/amazon_reviews_us_Camera_v1_00.tsv.gz\n",
      "copy: s3://amazon-reviews-pds/tsv/amazon_reviews_us_Books_v1_02.tsv.gz to s3://sagemaker-us-east-1-835319576252/amazon-reviews-pds/tsv-all/amazon_reviews_us_Books_v1_02.tsv.gz\n",
      "copy: s3://amazon-reviews-pds/tsv/amazon_reviews_us_Digital_Music_Purchase_v1_00.tsv.gz to s3://sagemaker-us-east-1-835319576252/amazon-reviews-pds/tsv-all/amazon_reviews_us_Digital_Music_Purchase_v1_00.tsv.gz\n",
      "copy: s3://amazon-reviews-pds/tsv/amazon_reviews_us_Digital_Software_v1_00.tsv.gz to s3://sagemaker-us-east-1-835319576252/amazon-reviews-pds/tsv-all/amazon_reviews_us_Digital_Software_v1_00.tsv.gz\n",
      "copy: s3://amazon-reviews-pds/tsv/amazon_reviews_us_Digital_Video_Games_v1_00.tsv.gz to s3://sagemaker-us-east-1-835319576252/amazon-reviews-pds/tsv-all/amazon_reviews_us_Digital_Video_Games_v1_00.tsv.gz\n",
      "copy: s3://amazon-reviews-pds/tsv/amazon_reviews_us_Digital_Ebook_Purchase_v1_01.tsv.gz to s3://sagemaker-us-east-1-835319576252/amazon-reviews-pds/tsv-all/amazon_reviews_us_Digital_Ebook_Purchase_v1_01.tsv.gz\n",
      "copy: s3://amazon-reviews-pds/tsv/amazon_reviews_us_Books_v1_00.tsv.gz to s3://sagemaker-us-east-1-835319576252/amazon-reviews-pds/tsv-all/amazon_reviews_us_Books_v1_00.tsv.gz\n",
      "copy: s3://amazon-reviews-pds/tsv/amazon_reviews_us_Digital_Video_Download_v1_00.tsv.gz to s3://sagemaker-us-east-1-835319576252/amazon-reviews-pds/tsv-all/amazon_reviews_us_Digital_Video_Download_v1_00.tsv.gz\n",
      "copy: s3://amazon-reviews-pds/tsv/amazon_reviews_us_Gift_Card_v1_00.tsv.gz to s3://sagemaker-us-east-1-835319576252/amazon-reviews-pds/tsv-all/amazon_reviews_us_Gift_Card_v1_00.tsv.gz\n",
      "copy: s3://amazon-reviews-pds/tsv/amazon_reviews_us_Furniture_v1_00.tsv.gz to s3://sagemaker-us-east-1-835319576252/amazon-reviews-pds/tsv-all/amazon_reviews_us_Furniture_v1_00.tsv.gz\n",
      "copy: s3://amazon-reviews-pds/tsv/amazon_reviews_us_Books_v1_01.tsv.gz to s3://sagemaker-us-east-1-835319576252/amazon-reviews-pds/tsv-all/amazon_reviews_us_Books_v1_01.tsv.gz\n",
      "copy: s3://amazon-reviews-pds/tsv/amazon_reviews_us_Home_Entertainment_v1_00.tsv.gz to s3://sagemaker-us-east-1-835319576252/amazon-reviews-pds/tsv-all/amazon_reviews_us_Home_Entertainment_v1_00.tsv.gz\n",
      "copy: s3://amazon-reviews-pds/tsv/amazon_reviews_us_Grocery_v1_00.tsv.gz to s3://sagemaker-us-east-1-835319576252/amazon-reviews-pds/tsv-all/amazon_reviews_us_Grocery_v1_00.tsv.gz\n",
      "copy: s3://amazon-reviews-pds/tsv/amazon_reviews_us_Jewelry_v1_00.tsv.gz to s3://sagemaker-us-east-1-835319576252/amazon-reviews-pds/tsv-all/amazon_reviews_us_Jewelry_v1_00.tsv.gz\n",
      "copy: s3://amazon-reviews-pds/tsv/amazon_reviews_us_Digital_Ebook_Purchase_v1_00.tsv.gz to s3://sagemaker-us-east-1-835319576252/amazon-reviews-pds/tsv-all/amazon_reviews_us_Digital_Ebook_Purchase_v1_00.tsv.gz\n",
      "copy: s3://amazon-reviews-pds/tsv/amazon_reviews_us_Home_Improvement_v1_00.tsv.gz to s3://sagemaker-us-east-1-835319576252/amazon-reviews-pds/tsv-all/amazon_reviews_us_Home_Improvement_v1_00.tsv.gz\n",
      "copy: s3://amazon-reviews-pds/tsv/amazon_reviews_us_Luggage_v1_00.tsv.gz to s3://sagemaker-us-east-1-835319576252/amazon-reviews-pds/tsv-all/amazon_reviews_us_Luggage_v1_00.tsv.gz\n",
      "copy: s3://amazon-reviews-pds/tsv/amazon_reviews_us_Major_Appliances_v1_00.tsv.gz to s3://sagemaker-us-east-1-835319576252/amazon-reviews-pds/tsv-all/amazon_reviews_us_Major_Appliances_v1_00.tsv.gz\n",
      "copy: s3://amazon-reviews-pds/tsv/amazon_reviews_us_Electronics_v1_00.tsv.gz to s3://sagemaker-us-east-1-835319576252/amazon-reviews-pds/tsv-all/amazon_reviews_us_Electronics_v1_00.tsv.gz\n",
      "copy: s3://amazon-reviews-pds/tsv/amazon_reviews_us_Health_Personal_Care_v1_00.tsv.gz to s3://sagemaker-us-east-1-835319576252/amazon-reviews-pds/tsv-all/amazon_reviews_us_Health_Personal_Care_v1_00.tsv.gz\n",
      "copy: s3://amazon-reviews-pds/tsv/amazon_reviews_us_Mobile_Electronics_v1_00.tsv.gz to s3://sagemaker-us-east-1-835319576252/amazon-reviews-pds/tsv-all/amazon_reviews_us_Mobile_Electronics_v1_00.tsv.gz\n",
      "copy: s3://amazon-reviews-pds/tsv/amazon_reviews_us_Lawn_and_Garden_v1_00.tsv.gz to s3://sagemaker-us-east-1-835319576252/amazon-reviews-pds/tsv-all/amazon_reviews_us_Lawn_and_Garden_v1_00.tsv.gz\n",
      "copy: s3://amazon-reviews-pds/tsv/amazon_reviews_us_Home_v1_00.tsv.gz to s3://sagemaker-us-east-1-835319576252/amazon-reviews-pds/tsv-all/amazon_reviews_us_Home_v1_00.tsv.gz\n",
      "copy: s3://amazon-reviews-pds/tsv/amazon_reviews_us_Musical_Instruments_v1_00.tsv.gz to s3://sagemaker-us-east-1-835319576252/amazon-reviews-pds/tsv-all/amazon_reviews_us_Musical_Instruments_v1_00.tsv.gz\n",
      "copy: s3://amazon-reviews-pds/tsv/amazon_reviews_us_Mobile_Apps_v1_00.tsv.gz to s3://sagemaker-us-east-1-835319576252/amazon-reviews-pds/tsv-all/amazon_reviews_us_Mobile_Apps_v1_00.tsv.gz\n",
      "copy: s3://amazon-reviews-pds/tsv/amazon_reviews_us_Kitchen_v1_00.tsv.gz to s3://sagemaker-us-east-1-835319576252/amazon-reviews-pds/tsv-all/amazon_reviews_us_Kitchen_v1_00.tsv.gz\n",
      "copy: s3://amazon-reviews-pds/tsv/amazon_reviews_us_Personal_Care_Appliances_v1_00.tsv.gz to s3://sagemaker-us-east-1-835319576252/amazon-reviews-pds/tsv-all/amazon_reviews_us_Personal_Care_Appliances_v1_00.tsv.gz\n",
      "copy: s3://amazon-reviews-pds/tsv/amazon_reviews_us_Office_Products_v1_00.tsv.gz to s3://sagemaker-us-east-1-835319576252/amazon-reviews-pds/tsv-all/amazon_reviews_us_Office_Products_v1_00.tsv.gz\n",
      "copy: s3://amazon-reviews-pds/tsv/amazon_reviews_us_Software_v1_00.tsv.gz to s3://sagemaker-us-east-1-835319576252/amazon-reviews-pds/tsv-all/amazon_reviews_us_Software_v1_00.tsv.gz\n",
      "copy: s3://amazon-reviews-pds/tsv/amazon_reviews_us_Pet_Products_v1_00.tsv.gz to s3://sagemaker-us-east-1-835319576252/amazon-reviews-pds/tsv-all/amazon_reviews_us_Pet_Products_v1_00.tsv.gz\n",
      "copy: s3://amazon-reviews-pds/tsv/amazon_reviews_us_Outdoors_v1_00.tsv.gz to s3://sagemaker-us-east-1-835319576252/amazon-reviews-pds/tsv-all/amazon_reviews_us_Outdoors_v1_00.tsv.gz\n",
      "copy: s3://amazon-reviews-pds/tsv/amazon_reviews_us_Tools_v1_00.tsv.gz to s3://sagemaker-us-east-1-835319576252/amazon-reviews-pds/tsv-all/amazon_reviews_us_Tools_v1_00.tsv.gz\n",
      "copy: s3://amazon-reviews-pds/tsv/amazon_reviews_us_Shoes_v1_00.tsv.gz to s3://sagemaker-us-east-1-835319576252/amazon-reviews-pds/tsv-all/amazon_reviews_us_Shoes_v1_00.tsv.gz\n",
      "copy: s3://amazon-reviews-pds/tsv/amazon_reviews_us_Music_v1_00.tsv.gz to s3://sagemaker-us-east-1-835319576252/amazon-reviews-pds/tsv-all/amazon_reviews_us_Music_v1_00.tsv.gz\n",
      "copy: s3://amazon-reviews-pds/tsv/amazon_reviews_us_PC_v1_00.tsv.gz to s3://sagemaker-us-east-1-835319576252/amazon-reviews-pds/tsv-all/amazon_reviews_us_PC_v1_00.tsv.gz\n",
      "copy: s3://amazon-reviews-pds/tsv/amazon_reviews_us_Video_Games_v1_00.tsv.gz to s3://sagemaker-us-east-1-835319576252/amazon-reviews-pds/tsv-all/amazon_reviews_us_Video_Games_v1_00.tsv.gz\n",
      "copy: s3://amazon-reviews-pds/tsv/amazon_reviews_us_Video_v1_00.tsv.gz to s3://sagemaker-us-east-1-835319576252/amazon-reviews-pds/tsv-all/amazon_reviews_us_Video_v1_00.tsv.gz\n",
      "copy: s3://amazon-reviews-pds/tsv/amazon_reviews_us_Sports_v1_00.tsv.gz to s3://sagemaker-us-east-1-835319576252/amazon-reviews-pds/tsv-all/amazon_reviews_us_Sports_v1_00.tsv.gz\n",
      "copy: s3://amazon-reviews-pds/tsv/amazon_reviews_us_Watches_v1_00.tsv.gz to s3://sagemaker-us-east-1-835319576252/amazon-reviews-pds/tsv-all/amazon_reviews_us_Watches_v1_00.tsv.gz\n",
      "copy: s3://amazon-reviews-pds/tsv/amazon_reviews_us_Toys_v1_00.tsv.gz to s3://sagemaker-us-east-1-835319576252/amazon-reviews-pds/tsv-all/amazon_reviews_us_Toys_v1_00.tsv.gz\n"
     ]
    },
    {
     "name": "stdout",
     "output_type": "stream",
     "text": [
      "copy: s3://amazon-reviews-pds/tsv/amazon_reviews_us_Video_DVD_v1_00.tsv.gz to s3://sagemaker-us-east-1-835319576252/amazon-reviews-pds/tsv-all/amazon_reviews_us_Video_DVD_v1_00.tsv.gz\n",
      "copy: s3://amazon-reviews-pds/tsv/amazon_reviews_us_Wireless_v1_00.tsv.gz to s3://sagemaker-us-east-1-835319576252/amazon-reviews-pds/tsv-all/amazon_reviews_us_Wireless_v1_00.tsv.gz\n"
     ]
    }
   ],
   "source": [
    "!aws s3 cp --recursive $s3_source_path_tsv/ $s3_destination_path_tsv_all/ --exclude \"*\" --include \"amazon_reviews_us_*.tsv.gz\""
   ]
  },
  {
   "cell_type": "code",
   "execution_count": 54,
   "metadata": {},
   "outputs": [
    {
     "name": "stdout",
     "output_type": "stream",
     "text": [
      "2020-08-18 20:56:00  648641286 amazon_reviews_us_Apparel_v1_00.tsv.gz\r\n",
      "2020-08-18 20:56:00  582145299 amazon_reviews_us_Automotive_v1_00.tsv.gz\r\n",
      "2020-08-18 20:56:00  357392893 amazon_reviews_us_Baby_v1_00.tsv.gz\r\n",
      "2020-08-18 20:56:00  914070021 amazon_reviews_us_Beauty_v1_00.tsv.gz\r\n",
      "2020-08-18 20:56:00 2740337188 amazon_reviews_us_Books_v1_00.tsv.gz\r\n",
      "2020-08-18 20:56:08 2692708591 amazon_reviews_us_Books_v1_01.tsv.gz\r\n",
      "2020-08-18 20:56:13 1329539135 amazon_reviews_us_Books_v1_02.tsv.gz\r\n",
      "2020-08-18 20:56:14  442653086 amazon_reviews_us_Camera_v1_00.tsv.gz\r\n",
      "2020-08-18 20:56:20 2689739299 amazon_reviews_us_Digital_Ebook_Purchase_v1_00.tsv.gz\r\n",
      "2020-08-18 20:56:24 1294879074 amazon_reviews_us_Digital_Ebook_Purchase_v1_01.tsv.gz\r\n",
      "2020-08-18 20:56:41  253570168 amazon_reviews_us_Digital_Music_Purchase_v1_00.tsv.gz\r\n",
      "2020-08-18 20:56:46   18997559 amazon_reviews_us_Digital_Software_v1_00.tsv.gz\r\n",
      "2020-08-18 20:56:47  506979922 amazon_reviews_us_Digital_Video_Download_v1_00.tsv.gz\r\n",
      "2020-08-18 20:56:51   27442648 amazon_reviews_us_Digital_Video_Games_v1_00.tsv.gz\r\n",
      "2020-08-18 20:56:52  698828243 amazon_reviews_us_Electronics_v1_00.tsv.gz\r\n",
      "2020-08-18 20:56:57  148982796 amazon_reviews_us_Furniture_v1_00.tsv.gz\r\n",
      "2020-08-18 20:56:58   12134676 amazon_reviews_us_Gift_Card_v1_00.tsv.gz\r\n",
      "2020-08-18 20:56:59  401337166 amazon_reviews_us_Grocery_v1_00.tsv.gz\r\n",
      "2020-08-18 20:57:01 1011180212 amazon_reviews_us_Health_Personal_Care_v1_00.tsv.gz\r\n",
      "2020-08-18 20:57:04  193168458 amazon_reviews_us_Home_Entertainment_v1_00.tsv.gz\r\n",
      "2020-08-18 20:57:06  503339178 amazon_reviews_us_Home_Improvement_v1_00.tsv.gz\r\n",
      "2020-08-18 20:57:07 1081002012 amazon_reviews_us_Home_v1_00.tsv.gz\r\n",
      "2020-08-18 20:57:10  247022254 amazon_reviews_us_Jewelry_v1_00.tsv.gz\r\n",
      "2020-08-18 20:57:16  930744854 amazon_reviews_us_Kitchen_v1_00.tsv.gz\r\n",
      "2020-08-18 20:57:17  486772662 amazon_reviews_us_Lawn_and_Garden_v1_00.tsv.gz\r\n",
      "2020-08-18 20:57:20   60320191 amazon_reviews_us_Luggage_v1_00.tsv.gz\r\n",
      "2020-08-18 20:57:22   24359816 amazon_reviews_us_Major_Appliances_v1_00.tsv.gz\r\n",
      "2020-08-18 20:57:23  557959415 amazon_reviews_us_Mobile_Apps_v1_00.tsv.gz\r\n",
      "2020-08-18 20:57:25   22870508 amazon_reviews_us_Mobile_Electronics_v1_00.tsv.gz\r\n",
      "2020-08-18 20:57:25 1521994296 amazon_reviews_us_Music_v1_00.tsv.gz\r\n",
      "2020-08-18 20:57:28  193389086 amazon_reviews_us_Musical_Instruments_v1_00.tsv.gz\r\n",
      "2020-08-18 20:57:31  512323500 amazon_reviews_us_Office_Products_v1_00.tsv.gz\r\n",
      "2020-08-18 20:57:32  448963100 amazon_reviews_us_Outdoors_v1_00.tsv.gz\r\n",
      "2020-08-18 20:57:33 1512903923 amazon_reviews_us_PC_v1_00.tsv.gz\r\n",
      "2020-08-18 20:57:34   17634794 amazon_reviews_us_Personal_Care_Appliances_v1_00.tsv.gz\r\n",
      "2020-08-18 20:57:35  515815253 amazon_reviews_us_Pet_Products_v1_00.tsv.gz\r\n",
      "2020-08-18 20:57:41  642255314 amazon_reviews_us_Shoes_v1_00.tsv.gz\r\n",
      "2020-08-18 20:57:42   94010685 amazon_reviews_us_Software_v1_00.tsv.gz\r\n",
      "2020-08-18 20:57:46  872478735 amazon_reviews_us_Sports_v1_00.tsv.gz\r\n",
      "2020-08-18 20:57:49  333782939 amazon_reviews_us_Tools_v1_00.tsv.gz\r\n",
      "2020-08-18 20:57:57  838451398 amazon_reviews_us_Toys_v1_00.tsv.gz\r\n",
      "2020-08-18 20:57:58 1512355451 amazon_reviews_us_Video_DVD_v1_00.tsv.gz\r\n",
      "2020-08-18 20:57:59  475199894 amazon_reviews_us_Video_Games_v1_00.tsv.gz\r\n",
      "2020-08-18 20:58:07  138929896 amazon_reviews_us_Video_v1_00.tsv.gz\r\n",
      "2020-08-18 20:58:09  162973819 amazon_reviews_us_Watches_v1_00.tsv.gz\r\n",
      "2020-08-18 20:58:10 1704713674 amazon_reviews_us_Wireless_v1_00.tsv.gz\r\n"
     ]
    }
   ],
   "source": [
    "!aws s3 ls $s3_destination_path_tsv_all/"
   ]
  },
  {
   "cell_type": "code",
   "execution_count": 68,
   "metadata": {},
   "outputs": [],
   "source": [
    "# Set S3 staging directory -- this is a temporary directory used for Athena queries\n",
    "s3_staging_dir = 's3://{0}/athena/staging'.format(bucket)\n",
    "\n",
    "# Set Athena database & table \n",
    "database_name = 'dsoaws'\n",
    "table_name_tsv_all = 'amazon_reviews_tsv_all'"
   ]
  },
  {
   "cell_type": "code",
   "execution_count": 69,
   "metadata": {
    "scrolled": true
   },
   "outputs": [
    {
     "name": "stdout",
     "output_type": "stream",
     "text": [
      "CREATE EXTERNAL TABLE IF NOT EXISTS dsoaws.amazon_reviews_tsv_all(\n",
      "         marketplace string,\n",
      "         customer_id string,\n",
      "         review_id string,\n",
      "         product_id string,\n",
      "         product_parent string,\n",
      "         product_title string,\n",
      "         product_category string,\n",
      "         star_rating int,\n",
      "         helpful_votes int,\n",
      "         total_votes int,\n",
      "         vine string,\n",
      "         verified_purchase string,\n",
      "         review_headline string,\n",
      "         review_body string,\n",
      "         review_date string\n",
      ") ROW FORMAT DELIMITED FIELDS TERMINATED BY '\\t' LINES TERMINATED BY '\\n' LOCATION 's3://sagemaker-us-east-1-835319576252/amazon-reviews-pds/tsv-all'\n",
      "TBLPROPERTIES ('compressionType'='gzip', 'skip.header.line.count'='1')\n"
     ]
    }
   ],
   "source": [
    "# SQL statement to execute\n",
    "statement = \"\"\"CREATE EXTERNAL TABLE IF NOT EXISTS {}.{}(\n",
    "         marketplace string,\n",
    "         customer_id string,\n",
    "         review_id string,\n",
    "         product_id string,\n",
    "         product_parent string,\n",
    "         product_title string,\n",
    "         product_category string,\n",
    "         star_rating int,\n",
    "         helpful_votes int,\n",
    "         total_votes int,\n",
    "         vine string,\n",
    "         verified_purchase string,\n",
    "         review_headline string,\n",
    "         review_body string,\n",
    "         review_date string\n",
    ") ROW FORMAT DELIMITED FIELDS TERMINATED BY '\\\\t' LINES TERMINATED BY '\\\\n' LOCATION '{}'\n",
    "TBLPROPERTIES ('compressionType'='gzip', 'skip.header.line.count'='1')\"\"\".format(database_name, table_name_tsv_all, s3_destination_path_tsv_all)\n",
    "\n",
    "print(statement)"
   ]
  },
  {
   "cell_type": "code",
   "execution_count": 71,
   "metadata": {},
   "outputs": [
    {
     "name": "stdout",
     "output_type": "stream",
     "text": [
      "<pyathena.cursor.Cursor object at 0x7f5d25720fd0>\n"
     ]
    }
   ],
   "source": [
    "# Execute statement using connection cursor\n",
    "cursor = connect(region_name=region, s3_staging_dir=s3_staging_dir).cursor()\n",
    "cursor.execute(statement)"
   ]
  },
  {
   "cell_type": "markdown",
   "metadata": {},
   "source": [
    "#### Verify that the table has been created successfully.m"
   ]
  },
  {
   "cell_type": "code",
   "execution_count": 73,
   "metadata": {},
   "outputs": [
    {
     "data": {
      "text/html": [
       "<div>\n",
       "<style scoped>\n",
       "    .dataframe tbody tr th:only-of-type {\n",
       "        vertical-align: middle;\n",
       "    }\n",
       "\n",
       "    .dataframe tbody tr th {\n",
       "        vertical-align: top;\n",
       "    }\n",
       "\n",
       "    .dataframe thead th {\n",
       "        text-align: right;\n",
       "    }\n",
       "</style>\n",
       "<table border=\"1\" class=\"dataframe\">\n",
       "  <thead>\n",
       "    <tr style=\"text-align: right;\">\n",
       "      <th></th>\n",
       "      <th>tab_name</th>\n",
       "    </tr>\n",
       "  </thead>\n",
       "  <tbody>\n",
       "    <tr>\n",
       "      <th>0</th>\n",
       "      <td>amazon_reviews_parquet</td>\n",
       "    </tr>\n",
       "    <tr>\n",
       "      <th>1</th>\n",
       "      <td>amazon_reviews_sampled_star1</td>\n",
       "    </tr>\n",
       "    <tr>\n",
       "      <th>2</th>\n",
       "      <td>amazon_reviews_sampled_star2</td>\n",
       "    </tr>\n",
       "    <tr>\n",
       "      <th>3</th>\n",
       "      <td>amazon_reviews_sampled_star3</td>\n",
       "    </tr>\n",
       "    <tr>\n",
       "      <th>4</th>\n",
       "      <td>amazon_reviews_sampled_star4</td>\n",
       "    </tr>\n",
       "    <tr>\n",
       "      <th>5</th>\n",
       "      <td>amazon_reviews_sampled_star5</td>\n",
       "    </tr>\n",
       "    <tr>\n",
       "      <th>6</th>\n",
       "      <td>amazon_reviews_tsv</td>\n",
       "    </tr>\n",
       "    <tr>\n",
       "      <th>7</th>\n",
       "      <td>amazon_reviews_tsv_all</td>\n",
       "    </tr>\n",
       "    <tr>\n",
       "      <th>8</th>\n",
       "      <td>temp_table_fc2bf2cbd1b845ad9a990755abb0a9fb</td>\n",
       "    </tr>\n",
       "  </tbody>\n",
       "</table>\n",
       "</div>"
      ],
      "text/plain": [
       "                                      tab_name\n",
       "0                       amazon_reviews_parquet\n",
       "1                 amazon_reviews_sampled_star1\n",
       "2                 amazon_reviews_sampled_star2\n",
       "3                 amazon_reviews_sampled_star3\n",
       "4                 amazon_reviews_sampled_star4\n",
       "5                 amazon_reviews_sampled_star5\n",
       "6                           amazon_reviews_tsv\n",
       "7                       amazon_reviews_tsv_all\n",
       "8  temp_table_fc2bf2cbd1b845ad9a990755abb0a9fb"
      ]
     },
     "execution_count": 73,
     "metadata": {},
     "output_type": "execute_result"
    }
   ],
   "source": [
    "statement = 'SHOW TABLES in {}'.format(database_name)\n",
    "cursor.execute(statement)\n",
    "\n",
    "df_show = as_pandas(cursor)\n",
    "df_show.head(10)"
   ]
  },
  {
   "cell_type": "markdown",
   "metadata": {},
   "source": [
    "# Number of Reviews per Product Category and Star Rating? "
   ]
  },
  {
   "cell_type": "code",
   "execution_count": 74,
   "metadata": {
    "scrolled": true
   },
   "outputs": [
    {
     "name": "stdout",
     "output_type": "stream",
     "text": [
      "\n",
      "SELECT product_category,\n",
      "         star_rating,\n",
      "         COUNT(*) AS count_reviews\n",
      "FROM dsoaws.amazon_reviews_tsv_all\n",
      "GROUP BY  product_category, star_rating\n",
      "ORDER BY  product_category ASC, star_rating DESC, count_reviews\n",
      "\n"
     ]
    }
   ],
   "source": [
    "statement = \"\"\"\n",
    "SELECT product_category,\n",
    "         star_rating,\n",
    "         COUNT(*) AS count_reviews\n",
    "FROM {}.{}\n",
    "GROUP BY  product_category, star_rating\n",
    "ORDER BY  product_category ASC, star_rating DESC, count_reviews\n",
    "\"\"\".format(database_name, table_name_tsv_all)\n",
    "\n",
    "print(statement)"
   ]
  },
  {
   "cell_type": "code",
   "execution_count": 75,
   "metadata": {},
   "outputs": [
    {
     "data": {
      "text/plain": [
       "<pyathena.cursor.Cursor at 0x7f5d25456b38>"
      ]
     },
     "execution_count": 75,
     "metadata": {},
     "output_type": "execute_result"
    }
   ],
   "source": [
    "cursor = connect(region_name=region, s3_staging_dir=s3_staging_dir).cursor()\n",
    "cursor.execute(statement)"
   ]
  },
  {
   "cell_type": "code",
   "execution_count": 76,
   "metadata": {},
   "outputs": [
    {
     "data": {
      "text/html": [
       "<div>\n",
       "<style scoped>\n",
       "    .dataframe tbody tr th:only-of-type {\n",
       "        vertical-align: middle;\n",
       "    }\n",
       "\n",
       "    .dataframe tbody tr th {\n",
       "        vertical-align: top;\n",
       "    }\n",
       "\n",
       "    .dataframe thead th {\n",
       "        text-align: right;\n",
       "    }\n",
       "</style>\n",
       "<table border=\"1\" class=\"dataframe\">\n",
       "  <thead>\n",
       "    <tr style=\"text-align: right;\">\n",
       "      <th></th>\n",
       "      <th>product_category</th>\n",
       "      <th>star_rating</th>\n",
       "      <th>count_reviews</th>\n",
       "    </tr>\n",
       "  </thead>\n",
       "  <tbody>\n",
       "    <tr>\n",
       "      <th>0</th>\n",
       "      <td>Apparel</td>\n",
       "      <td>5</td>\n",
       "      <td>3320566</td>\n",
       "    </tr>\n",
       "    <tr>\n",
       "      <th>1</th>\n",
       "      <td>Apparel</td>\n",
       "      <td>4</td>\n",
       "      <td>1147237</td>\n",
       "    </tr>\n",
       "    <tr>\n",
       "      <th>2</th>\n",
       "      <td>Apparel</td>\n",
       "      <td>3</td>\n",
       "      <td>623471</td>\n",
       "    </tr>\n",
       "    <tr>\n",
       "      <th>3</th>\n",
       "      <td>Apparel</td>\n",
       "      <td>2</td>\n",
       "      <td>369601</td>\n",
       "    </tr>\n",
       "    <tr>\n",
       "      <th>4</th>\n",
       "      <td>Apparel</td>\n",
       "      <td>1</td>\n",
       "      <td>445458</td>\n",
       "    </tr>\n",
       "    <tr>\n",
       "      <th>...</th>\n",
       "      <td>...</td>\n",
       "      <td>...</td>\n",
       "      <td>...</td>\n",
       "    </tr>\n",
       "    <tr>\n",
       "      <th>210</th>\n",
       "      <td>Wireless</td>\n",
       "      <td>5</td>\n",
       "      <td>4824783</td>\n",
       "    </tr>\n",
       "    <tr>\n",
       "      <th>211</th>\n",
       "      <td>Wireless</td>\n",
       "      <td>4</td>\n",
       "      <td>1501327</td>\n",
       "    </tr>\n",
       "    <tr>\n",
       "      <th>212</th>\n",
       "      <td>Wireless</td>\n",
       "      <td>3</td>\n",
       "      <td>815205</td>\n",
       "    </tr>\n",
       "    <tr>\n",
       "      <th>213</th>\n",
       "      <td>Wireless</td>\n",
       "      <td>2</td>\n",
       "      <td>598330</td>\n",
       "    </tr>\n",
       "    <tr>\n",
       "      <th>214</th>\n",
       "      <td>Wireless</td>\n",
       "      <td>1</td>\n",
       "      <td>1262376</td>\n",
       "    </tr>\n",
       "  </tbody>\n",
       "</table>\n",
       "<p>215 rows × 3 columns</p>\n",
       "</div>"
      ],
      "text/plain": [
       "    product_category  star_rating  count_reviews\n",
       "0            Apparel            5        3320566\n",
       "1            Apparel            4        1147237\n",
       "2            Apparel            3         623471\n",
       "3            Apparel            2         369601\n",
       "4            Apparel            1         445458\n",
       "..               ...          ...            ...\n",
       "210         Wireless            5        4824783\n",
       "211         Wireless            4        1501327\n",
       "212         Wireless            3         815205\n",
       "213         Wireless            2         598330\n",
       "214         Wireless            1        1262376\n",
       "\n",
       "[215 rows x 3 columns]"
      ]
     },
     "execution_count": 76,
     "metadata": {},
     "output_type": "execute_result"
    }
   ],
   "source": [
    "df = as_pandas(cursor)\n",
    "df"
   ]
  },
  {
   "cell_type": "markdown",
   "metadata": {},
   "source": [
    "# Balance the Dataset"
   ]
  },
  {
   "cell_type": "markdown",
   "metadata": {},
   "source": [
    "## Find min() number of Reviews per Star Rating (grouped by Star Rating)"
   ]
  },
  {
   "cell_type": "code",
   "execution_count": 77,
   "metadata": {},
   "outputs": [
    {
     "name": "stdout",
     "output_type": "stream",
     "text": [
      "             count_reviews\n",
      "star_rating               \n",
      "1                 12099639\n",
      "2                  7304430\n",
      "3                 12133927\n",
      "4                 26223470\n",
      "5                 93200812\n"
     ]
    }
   ],
   "source": [
    "df_sum = df.groupby(['star_rating']).sum()\n",
    "print(df_sum)"
   ]
  },
  {
   "cell_type": "code",
   "execution_count": 78,
   "metadata": {},
   "outputs": [
    {
     "name": "stdout",
     "output_type": "stream",
     "text": [
      "\n",
      " Minimum number of reviews: 7304430\n"
     ]
    }
   ],
   "source": [
    "review_minimum = df_sum['count_reviews'].min()\n",
    "print(\"\\n Minimum number of reviews: \" + str(review_minimum))"
   ]
  },
  {
   "cell_type": "markdown",
   "metadata": {},
   "source": [
    "## Find absolute min() number of Reviews per Star Rating (across Product Categories)"
   ]
  },
  {
   "cell_type": "code",
   "execution_count": 79,
   "metadata": {},
   "outputs": [
    {
     "name": "stdout",
     "output_type": "stream",
     "text": [
      "    product_category  star_rating  count_reviews\n",
      "69         Gift Card            1           4793\n",
      "68         Gift Card            2           1569\n",
      "67         Gift Card            3           3156\n",
      "66         Gift Card            4           9859\n",
      "40  Digital_Software            5          46410\n",
      "\n",
      " Minimum number of reviews: 1569\n"
     ]
    }
   ],
   "source": [
    "df_min = df.loc[df.groupby('star_rating')['count_reviews'].idxmin()]\n",
    "print(df_min)\n",
    "\n",
    "review_minimum_2 = df_min['count_reviews'].min()\n",
    "print(\"\\n Minimum number of reviews: \" + str(review_minimum_2))"
   ]
  },
  {
   "cell_type": "markdown",
   "metadata": {},
   "source": [
    "# Pick number N (min) of Reviews per Star Rating "
   ]
  },
  {
   "cell_type": "markdown",
   "metadata": {},
   "source": [
    "## ---- Using Stratified Reservoir Sampling ----\n",
    "See https://ragrawal.wordpress.com/2017/08/11/data-sampling-in-presto/  \n",
    "Select min() number of reviews (randomized) from each star rating group. "
   ]
  },
  {
   "cell_type": "code",
   "execution_count": 87,
   "metadata": {},
   "outputs": [
    {
     "name": "stdout",
     "output_type": "stream",
     "text": [
      "\n",
      "SELECT star_rating,\n",
      "         review_body,\n",
      "         product_category\n",
      "FROM \n",
      "    (SELECT *,\n",
      "         ROW_NUMBER()\n",
      "        OVER (PARTITION BY star_rating\n",
      "    ORDER BY  rnd) AS rnk\n",
      "    FROM \n",
      "        (SELECT star_rating,\n",
      "         review_body,\n",
      "         product_category,\n",
      "         RANDOM() AS rnd\n",
      "        FROM dsoaws.amazon_reviews_tsv_all ) bucketed ) sampled\n",
      "    WHERE rnk <= 7304430\n",
      "\n"
     ]
    }
   ],
   "source": [
    "statement = \"\"\"\n",
    "SELECT star_rating,\n",
    "         review_body,\n",
    "         product_category\n",
    "FROM \n",
    "    (SELECT *,\n",
    "         ROW_NUMBER()\n",
    "        OVER (PARTITION BY star_rating\n",
    "    ORDER BY  rnd) AS rnk\n",
    "    FROM \n",
    "        (SELECT star_rating,\n",
    "         review_body,\n",
    "         product_category,\n",
    "         RANDOM() AS rnd\n",
    "        FROM {}.{} ) bucketed ) sampled\n",
    "    WHERE rnk <= {}\n",
    "\"\"\".format(database_name, table_name_tsv_all, review_minimum)\n",
    "\n",
    "print(statement)"
   ]
  },
  {
   "cell_type": "code",
   "execution_count": 88,
   "metadata": {},
   "outputs": [
    {
     "ename": "OperationalError",
     "evalue": "Query exhausted resources at this scale factor",
     "output_type": "error",
     "traceback": [
      "\u001b[0;31m---------------------------------------------------------------------------\u001b[0m",
      "\u001b[0;31mOperationalError\u001b[0m                          Traceback (most recent call last)",
      "\u001b[0;32m<timed exec>\u001b[0m in \u001b[0;36m<module>\u001b[0;34m\u001b[0m\n",
      "\u001b[0;32m~/anaconda3/envs/python3/lib/python3.6/site-packages/pyathena/util.py\u001b[0m in \u001b[0;36m_wrapper\u001b[0;34m(*args, **kwargs)\u001b[0m\n\u001b[1;32m    304\u001b[0m     \u001b[0;32mdef\u001b[0m \u001b[0m_wrapper\u001b[0m\u001b[0;34m(\u001b[0m\u001b[0;34m*\u001b[0m\u001b[0margs\u001b[0m\u001b[0;34m,\u001b[0m \u001b[0;34m**\u001b[0m\u001b[0mkwargs\u001b[0m\u001b[0;34m)\u001b[0m\u001b[0;34m:\u001b[0m\u001b[0;34m\u001b[0m\u001b[0;34m\u001b[0m\u001b[0m\n\u001b[1;32m    305\u001b[0m         \u001b[0;32mwith\u001b[0m \u001b[0m_lock\u001b[0m\u001b[0;34m:\u001b[0m\u001b[0;34m\u001b[0m\u001b[0;34m\u001b[0m\u001b[0m\n\u001b[0;32m--> 306\u001b[0;31m             \u001b[0;32mreturn\u001b[0m \u001b[0mwrapped\u001b[0m\u001b[0;34m(\u001b[0m\u001b[0;34m*\u001b[0m\u001b[0margs\u001b[0m\u001b[0;34m,\u001b[0m \u001b[0;34m**\u001b[0m\u001b[0mkwargs\u001b[0m\u001b[0;34m)\u001b[0m\u001b[0;34m\u001b[0m\u001b[0;34m\u001b[0m\u001b[0m\n\u001b[0m\u001b[1;32m    307\u001b[0m \u001b[0;34m\u001b[0m\u001b[0m\n\u001b[1;32m    308\u001b[0m     \u001b[0;32mreturn\u001b[0m \u001b[0m_wrapper\u001b[0m\u001b[0;34m\u001b[0m\u001b[0;34m\u001b[0m\u001b[0m\n",
      "\u001b[0;32m~/anaconda3/envs/python3/lib/python3.6/site-packages/pyathena/cursor.py\u001b[0m in \u001b[0;36mexecute\u001b[0;34m(self, operation, parameters, work_group, s3_staging_dir, cache_size)\u001b[0m\n\u001b[1;32m     77\u001b[0m             )\n\u001b[1;32m     78\u001b[0m         \u001b[0;32melse\u001b[0m\u001b[0;34m:\u001b[0m\u001b[0;34m\u001b[0m\u001b[0;34m\u001b[0m\u001b[0m\n\u001b[0;32m---> 79\u001b[0;31m             \u001b[0;32mraise\u001b[0m \u001b[0mOperationalError\u001b[0m\u001b[0;34m(\u001b[0m\u001b[0mquery_execution\u001b[0m\u001b[0;34m.\u001b[0m\u001b[0mstate_change_reason\u001b[0m\u001b[0;34m)\u001b[0m\u001b[0;34m\u001b[0m\u001b[0;34m\u001b[0m\u001b[0m\n\u001b[0m\u001b[1;32m     80\u001b[0m         \u001b[0;32mreturn\u001b[0m \u001b[0mself\u001b[0m\u001b[0;34m\u001b[0m\u001b[0;34m\u001b[0m\u001b[0m\n\u001b[1;32m     81\u001b[0m \u001b[0;34m\u001b[0m\u001b[0m\n",
      "\u001b[0;31mOperationalError\u001b[0m: Query exhausted resources at this scale factor"
     ]
    }
   ],
   "source": [
    "%%time\n",
    "cursor = connect(region_name=region, s3_staging_dir=s3_staging_dir).cursor()\n",
    "cursor.execute(statement)"
   ]
  },
  {
   "cell_type": "code",
   "execution_count": 82,
   "metadata": {},
   "outputs": [],
   "source": [
    "df_balanced = as_pandas(cursor)"
   ]
  },
  {
   "cell_type": "code",
   "execution_count": 83,
   "metadata": {},
   "outputs": [
    {
     "data": {
      "text/html": [
       "<div>\n",
       "<style scoped>\n",
       "    .dataframe tbody tr th:only-of-type {\n",
       "        vertical-align: middle;\n",
       "    }\n",
       "\n",
       "    .dataframe tbody tr th {\n",
       "        vertical-align: top;\n",
       "    }\n",
       "\n",
       "    .dataframe thead th {\n",
       "        text-align: right;\n",
       "    }\n",
       "</style>\n",
       "<table border=\"1\" class=\"dataframe\">\n",
       "  <thead>\n",
       "    <tr style=\"text-align: right;\">\n",
       "      <th></th>\n",
       "      <th>star_rating</th>\n",
       "      <th>review_body</th>\n",
       "      <th>product_category</th>\n",
       "    </tr>\n",
       "  </thead>\n",
       "  <tbody>\n",
       "    <tr>\n",
       "      <th>0</th>\n",
       "      <td>2</td>\n",
       "      <td>Didn't pack TOTS</td>\n",
       "      <td>Digital_Video_Games</td>\n",
       "    </tr>\n",
       "    <tr>\n",
       "      <th>1</th>\n",
       "      <td>2</td>\n",
       "      <td>It's a \\\\\"total\\\\\" console port game , no vide...</td>\n",
       "      <td>Digital_Video_Games</td>\n",
       "    </tr>\n",
       "    <tr>\n",
       "      <th>2</th>\n",
       "      <td>2</td>\n",
       "      <td>If you are going to draw people in full color ...</td>\n",
       "      <td>Digital_Video_Games</td>\n",
       "    </tr>\n",
       "    <tr>\n",
       "      <th>3</th>\n",
       "      <td>2</td>\n",
       "      <td>Played game years ago and loved it. Wanted it ...</td>\n",
       "      <td>Digital_Video_Games</td>\n",
       "    </tr>\n",
       "    <tr>\n",
       "      <th>4</th>\n",
       "      <td>2</td>\n",
       "      <td>The download did not have all of the disk feat...</td>\n",
       "      <td>Digital_Video_Games</td>\n",
       "    </tr>\n",
       "  </tbody>\n",
       "</table>\n",
       "</div>"
      ],
      "text/plain": [
       "   star_rating                                        review_body  \\\n",
       "0            2                                   Didn't pack TOTS   \n",
       "1            2  It's a \\\\\"total\\\\\" console port game , no vide...   \n",
       "2            2  If you are going to draw people in full color ...   \n",
       "3            2  Played game years ago and loved it. Wanted it ...   \n",
       "4            2  The download did not have all of the disk feat...   \n",
       "\n",
       "      product_category  \n",
       "0  Digital_Video_Games  \n",
       "1  Digital_Video_Games  \n",
       "2  Digital_Video_Games  \n",
       "3  Digital_Video_Games  \n",
       "4  Digital_Video_Games  "
      ]
     },
     "execution_count": 83,
     "metadata": {},
     "output_type": "execute_result"
    }
   ],
   "source": [
    "df_balanced.head()"
   ]
  },
  {
   "cell_type": "markdown",
   "metadata": {},
   "source": [
    "## CHECK: Number of Reviews per Star Rating"
   ]
  },
  {
   "cell_type": "code",
   "execution_count": 84,
   "metadata": {
    "scrolled": true
   },
   "outputs": [
    {
     "data": {
      "text/plain": [
       "Text(0, 0.5, 'Review Count')"
      ]
     },
     "execution_count": 84,
     "metadata": {},
     "output_type": "execute_result"
    },
    {
     "data": {
      "image/png": "[encoded data removed]",
      "text/plain": [
       "<Figure size 432x288 with 1 Axes>"
      ]
     },
     "metadata": {
      "image/png": {
       "height": 274,
       "width": 408
      },
      "needs_background": "light"
     },
     "output_type": "display_data"
    }
   ],
   "source": [
    "df_balanced[['star_rating', 'review_body']].groupby('star_rating').count().plot(kind='bar', title='Breakdown by Star Rating')\n",
    "plt.xlabel('Star Rating')\n",
    "plt.ylabel('Review Count')"
   ]
  },
  {
   "cell_type": "markdown",
   "metadata": {},
   "source": [
    "## ---- Using Athena CTAS Query ----"
   ]
  },
  {
   "cell_type": "code",
   "execution_count": 102,
   "metadata": {},
   "outputs": [],
   "source": [
    "table_name_tsv_balanced = 'amazon_reviews_balanced'"
   ]
  },
  {
   "cell_type": "code",
   "execution_count": 115,
   "metadata": {},
   "outputs": [
    {
     "name": "stdout",
     "output_type": "stream",
     "text": [
      "\n",
      "CREATE TABLE IF NOT EXISTS dsoaws.amazon_reviews_balanced\n",
      "WITH ( format = 'TEXTFILE', external_location = 's3://sagemaker-us-east-1-835319576252/amazon-reviews-pds/balanced/', field_delimiter = '\\t' ) AS\n",
      "SELECT review_body,\n",
      "         product_category,\n",
      "         star_rating\n",
      "FROM dsoaws.amazon_reviews_tsv_all TABLESAMPLE BERNOULLI (10)\n",
      "WHERE star_rating = 1\n",
      "UNION\n",
      "SELECT review_body,\n",
      "         product_category,\n",
      "         star_rating\n",
      "FROM dsoaws.amazon_reviews_tsv_all TABLESAMPLE BERNOULLI (10)\n",
      "WHERE star_rating = 2\n",
      "UNION\n",
      "SELECT review_body,\n",
      "         product_category,\n",
      "         star_rating\n",
      "FROM dsoaws.amazon_reviews_tsv_all TABLESAMPLE BERNOULLI (10)\n",
      "WHERE star_rating = 3\n",
      "UNION\n",
      "SELECT review_body,\n",
      "         product_category,\n",
      "         star_rating\n",
      "FROM dsoaws.amazon_reviews_tsv_all TABLESAMPLE BERNOULLI (10)\n",
      "WHERE star_rating = 4\n",
      "UNION\n",
      "SELECT review_body,\n",
      "         product_category,\n",
      "         star_rating\n",
      "FROM dsoaws.amazon_reviews_tsv_all TABLESAMPLE BERNOULLI (10)\n",
      "WHERE star_rating = 5\n",
      "LIMIT 7304430\n",
      "\n"
     ]
    }
   ],
   "source": [
    "statement = \"\"\"\n",
    "CREATE TABLE IF NOT EXISTS {}.{}\n",
    "WITH ( format = 'TEXTFILE', external_location = 's3://{}/amazon-reviews-pds/balanced/', field_delimiter = '\\\\t' ) AS\n",
    "SELECT review_body,\n",
    "         product_category,\n",
    "         star_rating\n",
    "FROM dsoaws.amazon_reviews_tsv_all TABLESAMPLE BERNOULLI (10)\n",
    "WHERE star_rating = 1\n",
    "UNION\n",
    "SELECT review_body,\n",
    "         product_category,\n",
    "         star_rating\n",
    "FROM dsoaws.amazon_reviews_tsv_all TABLESAMPLE BERNOULLI (10)\n",
    "WHERE star_rating = 2\n",
    "UNION\n",
    "SELECT review_body,\n",
    "         product_category,\n",
    "         star_rating\n",
    "FROM dsoaws.amazon_reviews_tsv_all TABLESAMPLE BERNOULLI (10)\n",
    "WHERE star_rating = 3\n",
    "UNION\n",
    "SELECT review_body,\n",
    "         product_category,\n",
    "         star_rating\n",
    "FROM dsoaws.amazon_reviews_tsv_all TABLESAMPLE BERNOULLI (10)\n",
    "WHERE star_rating = 4\n",
    "UNION\n",
    "SELECT review_body,\n",
    "         product_category,\n",
    "         star_rating\n",
    "FROM dsoaws.amazon_reviews_tsv_all TABLESAMPLE BERNOULLI (10)\n",
    "WHERE star_rating = 5\n",
    "LIMIT {}\n",
    "\"\"\".format(database_name, table_name_tsv_balanced, bucket, review_minimum)\n",
    "#           review_minimum,\n",
    "#           review_minimum,\n",
    "#           review_minimum,\n",
    "#           review_minimum)\n",
    "\n",
    "print(statement)"
   ]
  },
  {
   "cell_type": "code",
   "execution_count": 122,
   "metadata": {
    "scrolled": false
   },
   "outputs": [
    {
     "name": "stdout",
     "output_type": "stream",
     "text": [
      "CPU times: user 89.3 ms, sys: 12.7 ms, total: 102 ms\n",
      "Wall time: 17.6 s\n"
     ]
    },
    {
     "data": {
      "text/plain": [
       "<pyathena.cursor.Cursor at 0x7f5d20939ef0>"
      ]
     },
     "execution_count": 122,
     "metadata": {},
     "output_type": "execute_result"
    }
   ],
   "source": [
    "%%time\n",
    "\n",
    "cursor = connect(region_name=region, s3_staging_dir=s3_staging_dir).cursor()\n",
    "cursor.execute(statement)\n"
   ]
  },
  {
   "cell_type": "code",
   "execution_count": 123,
   "metadata": {
    "scrolled": true
   },
   "outputs": [
    {
     "name": "stdout",
     "output_type": "stream",
     "text": [
      "\n",
      "SELECT product_category,\n",
      "         star_rating,\n",
      "         COUNT(*) AS count_reviews\n",
      "FROM dsoaws.amazon_reviews_balanced\n",
      "GROUP BY  product_category, star_rating\n",
      "ORDER BY  product_category ASC, star_rating DESC, count_reviews\n",
      "\n"
     ]
    }
   ],
   "source": [
    "statement = \"\"\"\n",
    "SELECT product_category,\n",
    "         star_rating,\n",
    "         COUNT(*) AS count_reviews\n",
    "FROM {}.{}\n",
    "GROUP BY  product_category, star_rating\n",
    "ORDER BY  product_category ASC, star_rating DESC, count_reviews\n",
    "\"\"\".format(database_name, table_name_tsv_balanced)\n",
    "\n",
    "print(statement)"
   ]
  },
  {
   "cell_type": "code",
   "execution_count": 124,
   "metadata": {},
   "outputs": [
    {
     "data": {
      "text/plain": [
       "<pyathena.cursor.Cursor at 0x7f5d20ec0b00>"
      ]
     },
     "execution_count": 124,
     "metadata": {},
     "output_type": "execute_result"
    }
   ],
   "source": [
    "cursor = connect(region_name=region, s3_staging_dir=s3_staging_dir).cursor()\n",
    "cursor.execute(statement)"
   ]
  },
  {
   "cell_type": "code",
   "execution_count": 125,
   "metadata": {},
   "outputs": [
    {
     "data": {
      "text/html": [
       "<div>\n",
       "<style scoped>\n",
       "    .dataframe tbody tr th:only-of-type {\n",
       "        vertical-align: middle;\n",
       "    }\n",
       "\n",
       "    .dataframe tbody tr th {\n",
       "        vertical-align: top;\n",
       "    }\n",
       "\n",
       "    .dataframe thead th {\n",
       "        text-align: right;\n",
       "    }\n",
       "</style>\n",
       "<table border=\"1\" class=\"dataframe\">\n",
       "  <thead>\n",
       "    <tr style=\"text-align: right;\">\n",
       "      <th></th>\n",
       "      <th>product_category</th>\n",
       "      <th>star_rating</th>\n",
       "      <th>count_reviews</th>\n",
       "    </tr>\n",
       "  </thead>\n",
       "  <tbody>\n",
       "    <tr>\n",
       "      <th>0</th>\n",
       "      <td>Apparel</td>\n",
       "      <td>5</td>\n",
       "      <td>332418</td>\n",
       "    </tr>\n",
       "    <tr>\n",
       "      <th>1</th>\n",
       "      <td>Apparel</td>\n",
       "      <td>4</td>\n",
       "      <td>114378</td>\n",
       "    </tr>\n",
       "    <tr>\n",
       "      <th>2</th>\n",
       "      <td>Apparel</td>\n",
       "      <td>3</td>\n",
       "      <td>62190</td>\n",
       "    </tr>\n",
       "    <tr>\n",
       "      <th>3</th>\n",
       "      <td>Apparel</td>\n",
       "      <td>2</td>\n",
       "      <td>37148</td>\n",
       "    </tr>\n",
       "    <tr>\n",
       "      <th>4</th>\n",
       "      <td>Apparel</td>\n",
       "      <td>1</td>\n",
       "      <td>44960</td>\n",
       "    </tr>\n",
       "    <tr>\n",
       "      <th>...</th>\n",
       "      <td>...</td>\n",
       "      <td>...</td>\n",
       "      <td>...</td>\n",
       "    </tr>\n",
       "    <tr>\n",
       "      <th>210</th>\n",
       "      <td>Wireless</td>\n",
       "      <td>5</td>\n",
       "      <td>482334</td>\n",
       "    </tr>\n",
       "    <tr>\n",
       "      <th>211</th>\n",
       "      <td>Wireless</td>\n",
       "      <td>4</td>\n",
       "      <td>150543</td>\n",
       "    </tr>\n",
       "    <tr>\n",
       "      <th>212</th>\n",
       "      <td>Wireless</td>\n",
       "      <td>3</td>\n",
       "      <td>81254</td>\n",
       "    </tr>\n",
       "    <tr>\n",
       "      <th>213</th>\n",
       "      <td>Wireless</td>\n",
       "      <td>2</td>\n",
       "      <td>60067</td>\n",
       "    </tr>\n",
       "    <tr>\n",
       "      <th>214</th>\n",
       "      <td>Wireless</td>\n",
       "      <td>1</td>\n",
       "      <td>126395</td>\n",
       "    </tr>\n",
       "  </tbody>\n",
       "</table>\n",
       "<p>215 rows × 3 columns</p>\n",
       "</div>"
      ],
      "text/plain": [
       "    product_category  star_rating  count_reviews\n",
       "0            Apparel            5         332418\n",
       "1            Apparel            4         114378\n",
       "2            Apparel            3          62190\n",
       "3            Apparel            2          37148\n",
       "4            Apparel            1          44960\n",
       "..               ...          ...            ...\n",
       "210         Wireless            5         482334\n",
       "211         Wireless            4         150543\n",
       "212         Wireless            3          81254\n",
       "213         Wireless            2          60067\n",
       "214         Wireless            1         126395\n",
       "\n",
       "[215 rows x 3 columns]"
      ]
     },
     "execution_count": 125,
     "metadata": {},
     "output_type": "execute_result"
    }
   ],
   "source": [
    "df = as_pandas(cursor)\n",
    "df"
   ]
  },
  {
   "cell_type": "code",
   "execution_count": 126,
   "metadata": {},
   "outputs": [
    {
     "name": "stdout",
     "output_type": "stream",
     "text": [
      "             count_reviews\n",
      "star_rating               \n",
      "1                  1211333\n",
      "2                   730172\n",
      "3                  1213001\n",
      "4                  2622554\n",
      "5                  9317910\n"
     ]
    }
   ],
   "source": [
    "df_sum = df.groupby(['star_rating']).sum()\n",
    "print(df_sum)"
   ]
  },
  {
   "cell_type": "code",
   "execution_count": null,
   "metadata": {},
   "outputs": [],
   "source": [
    "%%javascript\n",
    "Jupyter.notebook.save_checkpoint();\n",
    "Jupyter.notebook.session.delete();"
   ]
  },
  {
   "cell_type": "code",
   "execution_count": null,
   "metadata": {},
   "outputs": [],
   "source": []
  }
 ],
 "metadata": {
  "kernelspec": {
   "display_name": "conda_python3",
   "language": "python",
   "name": "conda_python3"
  },
  "language_info": {
   "codemirror_mode": {
    "name": "ipython",
    "version": 3
   },
   "file_extension": ".py",
   "mimetype": "text/x-python",
   "name": "python",
   "nbconvert_exporter": "python",
   "pygments_lexer": "ipython3",
   "version": "3.6.10"
  }
 },
 "nbformat": 4,
 "nbformat_minor": 4
}
