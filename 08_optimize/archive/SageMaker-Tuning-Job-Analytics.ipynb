{
 "cells": [
  {
   "cell_type": "markdown",
   "metadata": {},
   "source": [
    "# Analyzing Amazon SageMaker Tuning results\n",
    "Amazon SageMaker Automatic Model Tuning features a convenient `analytics().dataframe()` method that allows to extract all tuning job iterations with their hyperparameters and performance as a pandas dataframe. This then allows flexible analysis of the result, as shown below.\n",
    "\n",
    "SageMaker Model Tuning is flexible and when used with custom code, allows optimization of arbitrary metrics over arbitrary parameters. Hence be aware that depending on your optimization problem, some or the function below may not apply or would require minor editing to be adapted to your problem\n",
    "\n",
    "This notebook provide code samples demonstrating the flexible analysis capabilities enabled by SageMaker\n",
    "\n",
    "More information can be found in related documentation:\n",
    "* SageMaker Python SDK Analytics functionalities https://sagemaker.readthedocs.io/en/stable/analytics.html\n",
    "* Blog Post https://aws.amazon.com/blogs/machine-learning/easily-monitor-and-visualize-metrics-while-training-models-on-amazon-sagemaker/\n",
    "* Official SageMaker Tuning Analytics demo: https://github.com/awslabs/amazon-sagemaker-examples/blob/master/hyperparameter_tuning/analyze_results/HPO_Analyze_TuningJob_Results.ipynb"
   ]
  },
  {
   "cell_type": "code",
   "execution_count": 1,
   "metadata": {},
   "outputs": [
    {
     "name": "stdout",
     "output_type": "stream",
     "text": [
      "Seaborn version 0.9.0 already 0.9.0 or later\n"
     ]
    }
   ],
   "source": [
    "%%sh\n",
    "# freeze the Seaborn version (seaborn is a python dataviz package https://seaborn.pydata.org/)\n",
    "\n",
    "REQUIRED_SEABORN=0.9.0\n",
    "SEABORN_VERSION=$(pip freeze | grep seaborn | cut -d '=' -f 3)\n",
    "if [[ \"$SEABORN_VERSION\" < \"$REQUIRED_SEABORN\" ]]; then\n",
    "    echo \"Seaborn version $SEABORN_VERSION found, upgrading to $REQUIRED_SEABORN\"\n",
    "    pip install --upgrade seaborn==0.9.0\n",
    "else\n",
    "    echo \"Seaborn version $SEABORN_VERSION already $REQUIRED_SEABORN or later\"\n",
    "fi"
   ]
  },
  {
   "cell_type": "code",
   "execution_count": 2,
   "metadata": {},
   "outputs": [],
   "source": [
    "%matplotlib inline\n",
    "\n",
    "import matplotlib\n",
    "import boto3\n",
    "from matplotlib import pyplot as plt\n",
    "from mpl_toolkits.mplot3d import Axes3D\n",
    "from matplotlib import cm\n",
    "import numpy as np\n",
    "import pandas as pd\n",
    "import sagemaker\n",
    "from sagemaker.analytics import TrainingJobAnalytics\n",
    "import scipy\n",
    "import seaborn as sns\n",
    "\n",
    "\n",
    "# instantiate a boto3 client for Cloudwatch\n",
    "client = boto3.client('logs')"
   ]
  },
  {
   "cell_type": "code",
   "execution_count": 3,
   "metadata": {},
   "outputs": [],
   "source": [
    "plt.rcParams['figure.figsize'] = (12, 7)\n",
    "plt.rcParams['font.size'] = 15"
   ]
  },
  {
   "cell_type": "code",
   "execution_count": 4,
   "metadata": {},
   "outputs": [
    {
     "name": "stdout",
     "output_type": "stream",
     "text": [
      "boto3 1.13.11\n",
      "matplotlib 3.0.3\n",
      "pandas 0.23.0\n",
      "sagemaker 1.56.1\n",
      "scipy 1.4.1\n",
      "sns 0.9.0\n"
     ]
    }
   ],
   "source": [
    "print(f'boto3 {boto3.__version__}')\n",
    "print(f'matplotlib {matplotlib.__version__}')\n",
    "print(f'pandas {pd.__version__}')\n",
    "print(f'sagemaker {sagemaker.__version__}')\n",
    "print(f'scipy {scipy.__version__}')\n",
    "print(f'sns {sns.__version__}')"
   ]
  },
  {
   "cell_type": "markdown",
   "metadata": {},
   "source": [
    "We define a couple functions for data visualization:"
   ]
  },
  {
   "cell_type": "code",
   "execution_count": 5,
   "metadata": {},
   "outputs": [],
   "source": [
    "def scatter(data, x, y, z, title, logx=False, logy=False, label=False,\n",
    "               alpha=0.3, size=150):\n",
    "    \"\"\"\n",
    "       HPO-dedicated scatterplot function\n",
    "       objective is the metric to be optimized. It is encoded both by plot size \n",
    "       and plot color. Label values are manually truncated.\n",
    "    \"\"\"\n",
    "    \n",
    "    temp = data[[x,y,z]].dropna().reset_index()\n",
    "    ax = temp.plot.scatter(x=x, y=y, logx=logx, logy=logy, c=z, colormap='plasma',\n",
    "                          s=size*scipy.stats.rankdata(temp[z]),  # dot size inversely proportional to rank\n",
    "                          alpha=alpha, colorbar=False)\n",
    "    ax.set_xlabel(x)\n",
    "    ax.set_ylabel(y)\n",
    "    ax.set_title(title)\n",
    "    \n",
    "    if label != False:\n",
    "        for i in range(len(temp)):\n",
    "            ax.text(temp[x][i], temp[y][i], '%s' % (int((1000*temp[label][i]))/1000),\n",
    "                    zorder=1, color='k')\n",
    "    return ax\n",
    "\n",
    "            \n",
    "            \n",
    "def surface_plot(x, y, z, xlabel, ylabel):\n",
    "    \"\"\"3D surface of z as a function of x and y.\n",
    "       x, y and z provided as numpy or pandas 1D-arrays\"\"\"\n",
    "    \n",
    "    fig = plt.figure()\n",
    "    ax = fig.gca(projection='3d')\n",
    "    \n",
    "    viz = ax.plot_trisurf(x, y, z, cmap=cm.plasma, linewidth=0.1, antialiased=True)\n",
    "    \n",
    "    ax.set_xlabel(xlabel)\n",
    "    ax.set_ylabel(ylabel)\n",
    "    ax.set_zlim(z.min(), z.max())\n",
    "    \n",
    "    fig.colorbar(viz, shrink=0.5, aspect=5)\n",
    "    \n",
    "    plt.show()"
   ]
  },
  {
   "cell_type": "markdown",
   "metadata": {},
   "source": [
    "### Bring SageMaker Tuning results\n",
    "\n",
    "<font color=\"brown\"> **Edit the cell below to collect information for any running or completed hyperparameter tuning job. You can check the available jobs in the [AWS console](https://eu-west-1.console.aws.amazon.com/sagemaker/home?region=eu-west-1#/hyper-tuning-jobs/)] (set the correct region). You can also browse them with the SDK of your choice.**\n",
    "</font>"
   ]
  },
  {
   "cell_type": "code",
   "execution_count": 6,
   "metadata": {},
   "outputs": [],
   "source": [
    "%store -r tuning_job_name"
   ]
  },
  {
   "cell_type": "code",
   "execution_count": 7,
   "metadata": {},
   "outputs": [
    {
     "name": "stdout",
     "output_type": "stream",
     "text": [
      "Previous Tuning Job Name: tensorflow-training-200612-1046\n"
     ]
    }
   ],
   "source": [
    "print('Previous Tuning Job Name: {}'.format(tuning_job_name))"
   ]
  },
  {
   "cell_type": "code",
   "execution_count": 8,
   "metadata": {},
   "outputs": [],
   "source": [
    "jobname = tuning_job_name"
   ]
  },
  {
   "cell_type": "code",
   "execution_count": 9,
   "metadata": {},
   "outputs": [
    {
     "name": "stdout",
     "output_type": "stream",
     "text": [
      "for this tuner, objective is to Maximize\n"
     ]
    }
   ],
   "source": [
    "tuner = sagemaker.tuner.HyperparameterTuner.attach(jobname)\n",
    "\n",
    "# define a boolean that will be used to sort the data in the right order, depending on the tuning direction:\n",
    "if tuner.objective_type == 'Maximize':\n",
    "    is_ascending = True\n",
    "elif tuner.objective_type == 'Minimize':\n",
    "    is_ascending = False\n",
    "    \n",
    "print('for this tuner, objective is to ' + tuner.objective_type)"
   ]
  },
  {
   "cell_type": "code",
   "execution_count": 10,
   "metadata": {},
   "outputs": [
    {
     "name": "stdout",
     "output_type": "stream",
     "text": [
      "2 iterations\n",
      "best job: tensorflow-training-200612-1046-001-d6feee4c\n",
      "   FinalObjectiveValue  TrainingElapsedTimeSeconds           TrainingEndTime  \\\n",
      "0                 0.25                      2069.0 2020-06-12 11:22:57+00:00   \n",
      "1                 0.25                      2139.0 2020-06-12 12:06:31+00:00   \n",
      "\n",
      "                                TrainingJobName TrainingJobStatus  \\\n",
      "0  tensorflow-training-200612-1046-001-d6feee4c         Completed   \n",
      "1  tensorflow-training-200612-1046-002-cc196201         Completed   \n",
      "\n",
      "          TrainingStartTime       epsilon  learning_rate  cumulative  \n",
      "0 2020-06-12 10:48:28+00:00  1.392559e-08       0.000048        0.25  \n",
      "1 2020-06-12 11:30:52+00:00  5.685460e-08       0.000018        0.25  \n"
     ]
    }
   ],
   "source": [
    "results = tuner.analytics().dataframe()\n",
    "\n",
    "# Only use completed training jobs\n",
    "results = results[results.TrainingJobStatus == \"Completed\"]\n",
    "num_iterations = results.shape[0]\n",
    "\n",
    "if (num_iterations >= 1):\n",
    "    \n",
    "    # sort\n",
    "    results = (results[~results.FinalObjectiveValue.isnull()]\n",
    "               .sort_values(by='TrainingStartTime', ascending=True).reset_index(drop=True))\n",
    "\n",
    "    # best job so far\n",
    "    if is_ascending:\n",
    "        results['cumulative'] = results['FinalObjectiveValue'].cummax()\n",
    "    else:\n",
    "        results['cumulative'] = results['FinalObjectiveValue'].cummin()\n",
    "\n",
    "    best_job = results.sort_values(by='FinalObjectiveValue',\n",
    "                                   ascending=not is_ascending)['TrainingJobName'].values[0]\n",
    "    print('{} iterations'.format(len(results)))\n",
    "    print('best job: {}'.format(best_job))\n",
    "\n",
    "    # show top 5 best iterations\n",
    "    print(results.sort_values(by='FinalObjectiveValue', ascending=not is_ascending).head(5))\n",
    "else:\n",
    "    print(f'Job {jobname} has no tuning results to analyze yet.')"
   ]
  },
  {
   "cell_type": "markdown",
   "metadata": {},
   "source": [
    "### Convergence speed"
   ]
  },
  {
   "cell_type": "code",
   "execution_count": 11,
   "metadata": {},
   "outputs": [
    {
     "data": {
      "image/png": "[encoded data removed]",
      "text/plain": [
       "<Figure size 864x504 with 1 Axes>"
      ]
     },
     "metadata": {},
     "output_type": "display_data"
    }
   ],
   "source": [
    "# target vs iteration\n",
    "\n",
    "ax = (results.sort_values(by='TrainingStartTime', ascending=True)\n",
    " .reset_index()[['FinalObjectiveValue', 'cumulative']].plot())\n",
    "ax.set_xlabel('Training job')\n",
    "ax.set_ylabel('Objective Value');"
   ]
  },
  {
   "cell_type": "markdown",
   "metadata": {},
   "source": [
    "This allows us to display epoch-by-epoch performance of all iterations and highlight the best iteration"
   ]
  },
  {
   "cell_type": "markdown",
   "metadata": {},
   "source": [
    "### Analyze continous hyperparameters\n",
    "\n",
    "<font color=\"brown\"> **Make sure to use variables that were actually tuned in your specific tuning job for `x` and `y` below. Also check if `logx` and `logy` make sense for the parameters you're analyzing. Depending on the number of points, a higher alpha may be a good idea as well.**</font>"
   ]
  },
  {
   "cell_type": "code",
   "execution_count": 12,
   "metadata": {},
   "outputs": [
    {
     "data": {
      "image/png": "[encoded data removed]",
      "text/plain": [
       "<Figure size 864x504 with 1 Axes>"
      ]
     },
     "metadata": {},
     "output_type": "display_data"
    }
   ],
   "source": [
    "x = 'learning_rate'\n",
    "y = 'epsilon'\n",
    "z = 'FinalObjectiveValue'\n",
    "\n",
    "scatter(data=results, x=x, y=y, z=z, title=x+' vs '+y, logx=True, logy=True, label=z, alpha=0.4, size=40);"
   ]
  },
  {
   "cell_type": "code",
   "execution_count": 13,
   "metadata": {},
   "outputs": [
    {
     "name": "stdout",
     "output_type": "stream",
     "text": [
      "Not enough iterations to generate plot (need at least three).\n"
     ]
    }
   ],
   "source": [
    "if (np.min([results[x].size, results[y].size]) >= 3):\n",
    "\n",
    "    surface_plot(x=results[x], y=results[y], z=results[z], xlabel=x, ylabel=y)\n",
    "else:\n",
    "    print('Not enough iterations to generate plot (need at least three).')"
   ]
  },
  {
   "cell_type": "markdown",
   "metadata": {},
   "source": [
    "### Analyze categorical hyperparameters"
   ]
  },
  {
   "cell_type": "code",
   "execution_count": 14,
   "metadata": {},
   "outputs": [
    {
     "ename": "ValueError",
     "evalue": "Could not interpret input 'optimizer'",
     "output_type": "error",
     "traceback": [
      "\u001b[0;31m---------------------------------------------------------------------------\u001b[0m",
      "\u001b[0;31mValueError\u001b[0m                                Traceback (most recent call last)",
      "\u001b[0;32m<ipython-input-14-e872eb434029>\u001b[0m in \u001b[0;36m<module>\u001b[0;34m()\u001b[0m\n\u001b[0;32m----> 1\u001b[0;31m \u001b[0msns\u001b[0m\u001b[0;34m.\u001b[0m\u001b[0mboxplot\u001b[0m\u001b[0;34m(\u001b[0m\u001b[0mx\u001b[0m\u001b[0;34m=\u001b[0m\u001b[0;34m'FinalObjectiveValue'\u001b[0m\u001b[0;34m,\u001b[0m \u001b[0my\u001b[0m\u001b[0;34m=\u001b[0m\u001b[0;34m'optimizer'\u001b[0m\u001b[0;34m,\u001b[0m \u001b[0mdata\u001b[0m\u001b[0;34m=\u001b[0m\u001b[0mresults\u001b[0m\u001b[0;34m)\u001b[0m\u001b[0;34m;\u001b[0m\u001b[0;34m\u001b[0m\u001b[0m\n\u001b[0m",
      "\u001b[0;32m~/anaconda3/envs/python3/lib/python3.6/site-packages/seaborn/categorical.py\u001b[0m in \u001b[0;36mboxplot\u001b[0;34m(x, y, hue, data, order, hue_order, orient, color, palette, saturation, width, dodge, fliersize, linewidth, whis, notch, ax, **kwargs)\u001b[0m\n\u001b[1;32m   2229\u001b[0m     plotter = _BoxPlotter(x, y, hue, data, order, hue_order,\n\u001b[1;32m   2230\u001b[0m                           \u001b[0morient\u001b[0m\u001b[0;34m,\u001b[0m \u001b[0mcolor\u001b[0m\u001b[0;34m,\u001b[0m \u001b[0mpalette\u001b[0m\u001b[0;34m,\u001b[0m \u001b[0msaturation\u001b[0m\u001b[0;34m,\u001b[0m\u001b[0;34m\u001b[0m\u001b[0m\n\u001b[0;32m-> 2231\u001b[0;31m                           width, dodge, fliersize, linewidth)\n\u001b[0m\u001b[1;32m   2232\u001b[0m \u001b[0;34m\u001b[0m\u001b[0m\n\u001b[1;32m   2233\u001b[0m     \u001b[0;32mif\u001b[0m \u001b[0max\u001b[0m \u001b[0;32mis\u001b[0m \u001b[0;32mNone\u001b[0m\u001b[0;34m:\u001b[0m\u001b[0;34m\u001b[0m\u001b[0m\n",
      "\u001b[0;32m~/anaconda3/envs/python3/lib/python3.6/site-packages/seaborn/categorical.py\u001b[0m in \u001b[0;36m__init__\u001b[0;34m(self, x, y, hue, data, order, hue_order, orient, color, palette, saturation, width, dodge, fliersize, linewidth)\u001b[0m\n\u001b[1;32m    444\u001b[0m                  width, dodge, fliersize, linewidth):\n\u001b[1;32m    445\u001b[0m \u001b[0;34m\u001b[0m\u001b[0m\n\u001b[0;32m--> 446\u001b[0;31m         \u001b[0mself\u001b[0m\u001b[0;34m.\u001b[0m\u001b[0mestablish_variables\u001b[0m\u001b[0;34m(\u001b[0m\u001b[0mx\u001b[0m\u001b[0;34m,\u001b[0m \u001b[0my\u001b[0m\u001b[0;34m,\u001b[0m \u001b[0mhue\u001b[0m\u001b[0;34m,\u001b[0m \u001b[0mdata\u001b[0m\u001b[0;34m,\u001b[0m \u001b[0morient\u001b[0m\u001b[0;34m,\u001b[0m \u001b[0morder\u001b[0m\u001b[0;34m,\u001b[0m \u001b[0mhue_order\u001b[0m\u001b[0;34m)\u001b[0m\u001b[0;34m\u001b[0m\u001b[0m\n\u001b[0m\u001b[1;32m    447\u001b[0m         \u001b[0mself\u001b[0m\u001b[0;34m.\u001b[0m\u001b[0mestablish_colors\u001b[0m\u001b[0;34m(\u001b[0m\u001b[0mcolor\u001b[0m\u001b[0;34m,\u001b[0m \u001b[0mpalette\u001b[0m\u001b[0;34m,\u001b[0m \u001b[0msaturation\u001b[0m\u001b[0;34m)\u001b[0m\u001b[0;34m\u001b[0m\u001b[0m\n\u001b[1;32m    448\u001b[0m \u001b[0;34m\u001b[0m\u001b[0m\n",
      "\u001b[0;32m~/anaconda3/envs/python3/lib/python3.6/site-packages/seaborn/categorical.py\u001b[0m in \u001b[0;36mestablish_variables\u001b[0;34m(self, x, y, hue, data, orient, order, hue_order, units)\u001b[0m\n\u001b[1;32m    153\u001b[0m                 \u001b[0;32mif\u001b[0m \u001b[0misinstance\u001b[0m\u001b[0;34m(\u001b[0m\u001b[0minput\u001b[0m\u001b[0;34m,\u001b[0m \u001b[0mstring_types\u001b[0m\u001b[0;34m)\u001b[0m\u001b[0;34m:\u001b[0m\u001b[0;34m\u001b[0m\u001b[0m\n\u001b[1;32m    154\u001b[0m                     \u001b[0merr\u001b[0m \u001b[0;34m=\u001b[0m \u001b[0;34m\"Could not interpret input '{}'\"\u001b[0m\u001b[0;34m.\u001b[0m\u001b[0mformat\u001b[0m\u001b[0;34m(\u001b[0m\u001b[0minput\u001b[0m\u001b[0;34m)\u001b[0m\u001b[0;34m\u001b[0m\u001b[0m\n\u001b[0;32m--> 155\u001b[0;31m                     \u001b[0;32mraise\u001b[0m \u001b[0mValueError\u001b[0m\u001b[0;34m(\u001b[0m\u001b[0merr\u001b[0m\u001b[0;34m)\u001b[0m\u001b[0;34m\u001b[0m\u001b[0m\n\u001b[0m\u001b[1;32m    156\u001b[0m \u001b[0;34m\u001b[0m\u001b[0m\n\u001b[1;32m    157\u001b[0m             \u001b[0;31m# Figure out the plotting orientation\u001b[0m\u001b[0;34m\u001b[0m\u001b[0;34m\u001b[0m\u001b[0m\n",
      "\u001b[0;31mValueError\u001b[0m: Could not interpret input 'optimizer'"
     ]
    }
   ],
   "source": [
    "sns.boxplot(x='FinalObjectiveValue', y='optimizer', data=results);"
   ]
  },
  {
   "cell_type": "markdown",
   "metadata": {},
   "source": [
    "### Get per-training job metric data\n",
    "We use the very convenient `TrainingJobAnalytics` from the SageMaker Python SDK to gather metrics collected by individual training jobs.\n",
    "\n",
    "<font color=\"brown\"> **SageMaker Cloudwatch metrics are stored for 2 weeks. This part of the analytics can only be run less than 2 weeks after the hyperparameter tuning job ran**\n",
    "</font>\n",
    "\n"
   ]
  },
  {
   "cell_type": "code",
   "execution_count": 15,
   "metadata": {},
   "outputs": [],
   "source": [
    "def job_metric(jobname, metric_name):\n",
    "    jobdf = TrainingJobAnalytics(\n",
    "        training_job_name=jobname,\n",
    "        metric_names=[metric_name]).dataframe()\n",
    "    \n",
    "    jobdf['TrainingJobName'] = [jobname]*len(jobdf)\n",
    "    \n",
    "    return jobdf"
   ]
  },
  {
   "cell_type": "code",
   "execution_count": 16,
   "metadata": {},
   "outputs": [
    {
     "name": "stdout",
     "output_type": "stream",
     "text": [
      "Pick one of the following metrics for the next cell:\n",
      "   - train:loss\n",
      "   - train:accuracy\n",
      "   - validation:loss\n",
      "   - validation:accuracy\n"
     ]
    }
   ],
   "source": [
    "print('Pick one of the following metrics for the next cell:')\n",
    "\n",
    "samplejob = TrainingJobAnalytics(training_job_name=results['TrainingJobName'][0])\n",
    "metrics = samplejob.dataframe()['metric_name'].unique()\n",
    "print('\\n'.join([f'   - {metric}' for metric in metrics if metric != 'ObjectiveMetric']))"
   ]
  },
  {
   "cell_type": "code",
   "execution_count": 18,
   "metadata": {},
   "outputs": [],
   "source": [
    "allmetrics = pd.concat([job_metric(job, 'validation:accuracy') for job in results['TrainingJobName']])"
   ]
  },
  {
   "cell_type": "code",
   "execution_count": 19,
   "metadata": {},
   "outputs": [
    {
     "data": {
      "text/html": [
       "<div>\n",
       "<style scoped>\n",
       "    .dataframe tbody tr th:only-of-type {\n",
       "        vertical-align: middle;\n",
       "    }\n",
       "\n",
       "    .dataframe tbody tr th {\n",
       "        vertical-align: top;\n",
       "    }\n",
       "\n",
       "    .dataframe thead th {\n",
       "        text-align: right;\n",
       "    }\n",
       "</style>\n",
       "<table border=\"1\" class=\"dataframe\">\n",
       "  <thead>\n",
       "    <tr style=\"text-align: right;\">\n",
       "      <th></th>\n",
       "      <th>timestamp</th>\n",
       "      <th>metric_name</th>\n",
       "      <th>value</th>\n",
       "      <th>TrainingJobName</th>\n",
       "    </tr>\n",
       "  </thead>\n",
       "  <tbody>\n",
       "    <tr>\n",
       "      <th>0</th>\n",
       "      <td>0.0</td>\n",
       "      <td>validation:accuracy</td>\n",
       "      <td>0.25</td>\n",
       "      <td>tensorflow-training-200612-1046-001-d6feee4c</td>\n",
       "    </tr>\n",
       "    <tr>\n",
       "      <th>1</th>\n",
       "      <td>240.0</td>\n",
       "      <td>validation:accuracy</td>\n",
       "      <td>0.25</td>\n",
       "      <td>tensorflow-training-200612-1046-001-d6feee4c</td>\n",
       "    </tr>\n",
       "    <tr>\n",
       "      <th>0</th>\n",
       "      <td>0.0</td>\n",
       "      <td>validation:accuracy</td>\n",
       "      <td>0.25</td>\n",
       "      <td>tensorflow-training-200612-1046-002-cc196201</td>\n",
       "    </tr>\n",
       "    <tr>\n",
       "      <th>1</th>\n",
       "      <td>240.0</td>\n",
       "      <td>validation:accuracy</td>\n",
       "      <td>0.25</td>\n",
       "      <td>tensorflow-training-200612-1046-002-cc196201</td>\n",
       "    </tr>\n",
       "  </tbody>\n",
       "</table>\n",
       "</div>"
      ],
      "text/plain": [
       "   timestamp          metric_name  value  \\\n",
       "0        0.0  validation:accuracy   0.25   \n",
       "1      240.0  validation:accuracy   0.25   \n",
       "0        0.0  validation:accuracy   0.25   \n",
       "1      240.0  validation:accuracy   0.25   \n",
       "\n",
       "                                TrainingJobName  \n",
       "0  tensorflow-training-200612-1046-001-d6feee4c  \n",
       "1  tensorflow-training-200612-1046-001-d6feee4c  \n",
       "0  tensorflow-training-200612-1046-002-cc196201  \n",
       "1  tensorflow-training-200612-1046-002-cc196201  "
      ]
     },
     "execution_count": 19,
     "metadata": {},
     "output_type": "execute_result"
    }
   ],
   "source": [
    "allmetrics.sort_values(by='value', ascending=not is_ascending).head()"
   ]
  },
  {
   "cell_type": "code",
   "execution_count": 20,
   "metadata": {},
   "outputs": [],
   "source": [
    "# add an \"Is_best\" marker\n",
    "allmetrics = pd.merge(allmetrics, results[['TrainingJobName', 'FinalObjectiveValue']], on='TrainingJobName')\n",
    "allmetrics['is_best'] = [1 if j == best_job else 0 for j in allmetrics['TrainingJobName']]"
   ]
  },
  {
   "cell_type": "code",
   "execution_count": 21,
   "metadata": {},
   "outputs": [
    {
     "data": {
      "image/png": "[encoded data removed]",
      "text/plain": [
       "<Figure size 864x504 with 1 Axes>"
      ]
     },
     "metadata": {},
     "output_type": "display_data"
    }
   ],
   "source": [
    "sns.lineplot(x='timestamp',\n",
    "             y='value',\n",
    "             data=allmetrics,\n",
    "             units='TrainingJobName',\n",
    "             estimator=None,\n",
    "             size='is_best',\n",
    "             sizes=(3, 0.5),\n",
    "             palette=['gray', 'blue'],\n",
    "             hue='is_best',).figure.suptitle('Metric evolution over each training job');"
   ]
  },
  {
   "cell_type": "markdown",
   "metadata": {},
   "source": [
    "The graph above shows how the tuned hyperparameters yield superior performance, as evidenced by the slope of the best training job."
   ]
  }
 ],
 "metadata": {
  "kernel_info": {
   "name": "python3"
  },
  "kernelspec": {
   "display_name": "conda_python3",
   "language": "python",
   "name": "conda_python3"
  },
  "language_info": {
   "codemirror_mode": {
    "name": "ipython",
    "version": 3
   },
   "file_extension": ".py",
   "mimetype": "text/x-python",
   "name": "python",
   "nbconvert_exporter": "python",
   "pygments_lexer": "ipython3",
   "version": "3.6.5"
  },
  "nteract": {
   "version": "0.15.0"
  }
 },
 "nbformat": 4,
 "nbformat_minor": 4
}
