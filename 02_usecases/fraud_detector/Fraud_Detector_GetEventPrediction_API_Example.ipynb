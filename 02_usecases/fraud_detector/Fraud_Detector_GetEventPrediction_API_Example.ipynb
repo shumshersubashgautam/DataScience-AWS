{
 "cells": [
  {
   "cell_type": "markdown",
   "metadata": {},
   "source": [
    "# Fraud Detector - Minimal Prediction API Example \n",
    "#### Supervised fraud detection  \n",
    "-------\n",
    "\n",
    "## Setup\n",
    "------\n",
    "First setup your AWS credentials so that Fraud Detector can store and access training data and supporting detector artifacts.\n",
    "\n",
    "https://docs.aws.amazon.com/frauddetector/latest/ug/set-up.html\n",
    "\n",
    "To use Amazon Fraud Detector, you have to set up permissions that allow access to the Amazon Fraud Detector console and API operations. You also have to allow Amazon Fraud Detector to perform tasks on your behalf and to access resources that you own.\n",
    "\n",
    "We recommend creating an AWS Identify and Access Management (IAM) user with access restricted to Amazon Fraud Detector operations and required permissions. You can add other permissions as needed.\n",
    "\n",
    "## Plan\n",
    "------\n",
    "\n",
    "You'll need the following pieces of information to make predictions on your dataset. \n",
    "\n",
    "- ENTITY_TYPE  \n",
    "- EVENT_TYPE    \n",
    "- DETECTOR_NAME & VERSION\n",
    "\n",
    "\n",
    "You'll also need to identify how many records you'd like to predict on.  \n"
   ]
  },
  {
   "cell_type": "code",
   "execution_count": 1,
   "metadata": {},
   "outputs": [
    {
     "data": {
      "text/html": [
       "<style>.container { width:90% }</style>"
      ],
      "text/plain": [
       "<IPython.core.display.HTML object>"
      ]
     },
     "metadata": {},
     "output_type": "display_data"
    }
   ],
   "source": [
    "from IPython.core.display import display, HTML\n",
    "from IPython.display import clear_output\n",
    "display(HTML(\"<style>.container { width:90% }</style>\"))\n",
    "# ------------------------------------------------------------------\n",
    "\n",
    "import matplotlib.pyplot as plt\n",
    "import seaborn as sns\n",
    "\n",
    "import numpy as np\n",
    "np.seterr(divide='ignore', invalid='ignore')\n",
    "\n",
    "\n",
    "import pandas as pd\n",
    "import uuid \n",
    "from datetime import datetime\n",
    "\n",
    "pd.set_option('display.max_rows', 500)\n",
    "pd.set_option('display.max_columns', 500)\n",
    "pd.set_option('display.width', 1000)\n",
    "\n",
    "# -- dask for parallelism -- \n",
    "import dask \n",
    "\n",
    "# -- standard stuff -- \n",
    "import time\n",
    "from datetime import datetime\n",
    "\n",
    "# -- AWS stuff -- \n",
    "import boto3\n",
    "\n",
    "%matplotlib inline"
   ]
  },
  {
   "cell_type": "markdown",
   "metadata": {},
   "source": [
    "## Initialize AWS Fraud Detector Client \n",
    "------\n",
    "\n",
    "https://boto3.amazonaws.com/v1/documentation/api/latest/reference/services/frauddetector.html \n"
   ]
  },
  {
   "cell_type": "code",
   "execution_count": 2,
   "metadata": {},
   "outputs": [],
   "source": [
    "# -- fraud detector client --\n",
    "client = boto3.client('frauddetector',)\n",
    "\n",
    "# -- use this to append to files \n",
    "sufx   = datetime.now().strftime(\"%Y%m%d\")"
   ]
  },
  {
   "cell_type": "markdown",
   "metadata": {},
   "source": [
    "### Entity, Detector, Model, and File Information  \n",
    "-----\n",
    "<div class=\"alert alert-info\"> 💡 <strong> Entity, Detector, and Files. </strong>\n",
    "\n",
    "- DETECTOR_NAME & VERSION corresponds to the name and version of your deployed Fraud Detector  \n",
    "- MODEL_NAME & VERSION corresponds to the name and version of the model deployed with your Fraud Detector   \n",
    "- S3_BUCKET & S3_FILE this is the information on the S3 file you wish to apply your detector to.   \n",
    "\n",
    "</div>"
   ]
  },
  {
   "cell_type": "code",
   "execution_count": 3,
   "metadata": {},
   "outputs": [],
   "source": [
    "ENTITY_TYPE    = \"your_entity_type\"\n",
    "EVENT_TYPE     = \"your_event_type\" \n",
    "\n",
    "DETECTOR_NAME = \"your_detector_name\"\n",
    "DETECTOR_VER  = \"your_detector_version\"\n",
    "\n",
    "# -- name and version of model, used to get the model column names -- \n",
    "MODEL_NAME    = \"your_model_name\"\n",
    "MODEL_VER     = \"your_model_version\"\n",
    "\n",
    "# s3://afd-training-data/schwab_sample_prep.csv\n",
    "\n",
    "# -- input file of data to be scored -- \n",
    "ARN_ROLE      = \"your_iam_arn_role\" \n",
    "S3_BUCKET     = \"your_bucket_name\"\n",
    "S3_FILE       = \"your_prediction_file.csv\"\n",
    "S3_FILE_LOC   = \"s3://{0}/{1}\".format(S3_BUCKET,S3_FILE)\n",
    "\n",
    "# -- run 100 records, you can change this here or below to run the whole file.\n",
    "record_count = 100"
   ]
  },
  {
   "cell_type": "markdown",
   "metadata": {},
   "source": [
    "#### Load Data to be Scored \n",
    "-----\n",
    "<div class=\"alert alert-info\"> 💡 <strong> Check the first 5 Records. </strong>\n",
    "\n",
    "Does your data look correct? Do you need to rename any columns? You want the column names to match the field names used by the Model. \n",
    "\n",
    "</div>"
   ]
  },
  {
   "cell_type": "code",
   "execution_count": 4,
   "metadata": {},
   "outputs": [
    {
     "data": {
      "text/html": [
       "<div>\n",
       "<style scoped>\n",
       "    .dataframe tbody tr th:only-of-type {\n",
       "        vertical-align: middle;\n",
       "    }\n",
       "\n",
       "    .dataframe tbody tr th {\n",
       "        vertical-align: top;\n",
       "    }\n",
       "\n",
       "    .dataframe thead th {\n",
       "        text-align: right;\n",
       "    }\n",
       "</style>\n",
       "<table border=\"1\" class=\"dataframe\">\n",
       "  <thead>\n",
       "    <tr style=\"text-align: right;\">\n",
       "      <th></th>\n",
       "      <th>ip_address</th>\n",
       "      <th>email_address</th>\n",
       "      <th>user_agent</th>\n",
       "      <th>customer_city</th>\n",
       "      <th>customer_state</th>\n",
       "      <th>customer_postal</th>\n",
       "      <th>EVENT_TIMESTAMP</th>\n",
       "      <th>customer_name</th>\n",
       "      <th>customer_address</th>\n",
       "      <th>phone_number</th>\n",
       "      <th>EVENT_LABEL</th>\n",
       "    </tr>\n",
       "  </thead>\n",
       "  <tbody>\n",
       "    <tr>\n",
       "      <th>0</th>\n",
       "      <td>84.138.6.238</td>\n",
       "      <td>synth_tmorton@yahoo.com</td>\n",
       "      <td>Mozilla/5.0 (X11; Linux i686) AppleWebKit/535....</td>\n",
       "      <td>Meganstad</td>\n",
       "      <td>LA</td>\n",
       "      <td>32733.0</td>\n",
       "      <td>2020-04-11 17:27:38</td>\n",
       "      <td>Brandon Moran</td>\n",
       "      <td>824 Price Bypass</td>\n",
       "      <td>(555)784 - 5238</td>\n",
       "      <td>0</td>\n",
       "    </tr>\n",
       "    <tr>\n",
       "      <th>1</th>\n",
       "      <td>194.147.250.63</td>\n",
       "      <td>synth_oscott@yahoo.com</td>\n",
       "      <td>Mozilla/5.0 (Macintosh; PPC Mac OS X 10_6_4 rv...</td>\n",
       "      <td>Christinaport</td>\n",
       "      <td>MN</td>\n",
       "      <td>34319.0</td>\n",
       "      <td>2020-04-11 17:31:12</td>\n",
       "      <td>Dominic Murray</td>\n",
       "      <td>13515 Ashley Haven Apt. 472</td>\n",
       "      <td>(555)114 - 6133</td>\n",
       "      <td>0</td>\n",
       "    </tr>\n",
       "    <tr>\n",
       "      <th>2</th>\n",
       "      <td>192.54.60.50</td>\n",
       "      <td>synth_aoliver@gmail.com</td>\n",
       "      <td>Mozilla/5.0 (iPad; CPU iPad OS 3_1_3 like Mac ...</td>\n",
       "      <td>Donaldfurt</td>\n",
       "      <td>WA</td>\n",
       "      <td>32436.0</td>\n",
       "      <td>2020-04-11 17:46:34</td>\n",
       "      <td>Anthony Abbott</td>\n",
       "      <td>039 Amy Glens</td>\n",
       "      <td>(555)780 - 7652</td>\n",
       "      <td>0</td>\n",
       "    </tr>\n",
       "    <tr>\n",
       "      <th>3</th>\n",
       "      <td>169.120.193.154</td>\n",
       "      <td>synth_clewis@gmail.com</td>\n",
       "      <td>Mozilla/5.0 (Macintosh; PPC Mac OS X 10_10_9; ...</td>\n",
       "      <td>Williamburgh</td>\n",
       "      <td>AL</td>\n",
       "      <td>34399.0</td>\n",
       "      <td>2020-04-11 17:48:52</td>\n",
       "      <td>Kimberly Webb</td>\n",
       "      <td>81397 Tom Forge</td>\n",
       "      <td>(555)588 - 4426</td>\n",
       "      <td>0</td>\n",
       "    </tr>\n",
       "    <tr>\n",
       "      <th>4</th>\n",
       "      <td>192.175.55.43</td>\n",
       "      <td>synth_katherinedavis@hotmail.com</td>\n",
       "      <td>Mozilla/5.0 (Macintosh; Intel Mac OS X 10_6_0 ...</td>\n",
       "      <td>East Markland</td>\n",
       "      <td>IL</td>\n",
       "      <td>33690.0</td>\n",
       "      <td>2020-04-11 17:49:23</td>\n",
       "      <td>Renee James</td>\n",
       "      <td>6815 Dawson Estate</td>\n",
       "      <td>(555)785 - 8274</td>\n",
       "      <td>0</td>\n",
       "    </tr>\n",
       "  </tbody>\n",
       "</table>\n",
       "</div>"
      ],
      "text/plain": [
       "        ip_address                     email_address                                         user_agent  customer_city customer_state  customer_postal      EVENT_TIMESTAMP   customer_name             customer_address     phone_number  EVENT_LABEL\n",
       "0     84.138.6.238           synth_tmorton@yahoo.com  Mozilla/5.0 (X11; Linux i686) AppleWebKit/535....      Meganstad             LA          32733.0  2020-04-11 17:27:38   Brandon Moran             824 Price Bypass  (555)784 - 5238            0\n",
       "1   194.147.250.63            synth_oscott@yahoo.com  Mozilla/5.0 (Macintosh; PPC Mac OS X 10_6_4 rv...  Christinaport             MN          34319.0  2020-04-11 17:31:12  Dominic Murray  13515 Ashley Haven Apt. 472  (555)114 - 6133            0\n",
       "2     192.54.60.50           synth_aoliver@gmail.com  Mozilla/5.0 (iPad; CPU iPad OS 3_1_3 like Mac ...     Donaldfurt             WA          32436.0  2020-04-11 17:46:34  Anthony Abbott                039 Amy Glens  (555)780 - 7652            0\n",
       "3  169.120.193.154            synth_clewis@gmail.com  Mozilla/5.0 (Macintosh; PPC Mac OS X 10_10_9; ...   Williamburgh             AL          34399.0  2020-04-11 17:48:52   Kimberly Webb              81397 Tom Forge  (555)588 - 4426            0\n",
       "4    192.175.55.43  synth_katherinedavis@hotmail.com  Mozilla/5.0 (Macintosh; Intel Mac OS X 10_6_0 ...  East Markland             IL          33690.0  2020-04-11 17:49:23     Renee James           6815 Dawson Estate  (555)785 - 8274            0"
      ]
     },
     "execution_count": 4,
     "metadata": {},
     "output_type": "execute_result"
    }
   ],
   "source": [
    "# -- connect to S3, snag file, and convert to a panda's dataframe --\n",
    "s3   = boto3.resource('s3')\n",
    "obj  = s3.Object(S3_BUCKET, S3_FILE)\n",
    "body = obj.get()['Body']\n",
    "df   = pd.read_csv(body)\n",
    "df.head()"
   ]
  },
  {
   "cell_type": "markdown",
   "metadata": {},
   "source": [
    "## Run Predictions  \n",
    "-----\n",
    "The following applies the get_event_prediction endpoint to your recrods in your data frame.    \n",
    "\n",
    "<i> Note: this uses the Dask backend to parallelize the prediction calls. </i>\n",
    "\n",
    "<div class=\"alert alert-info\"> 💡 <strong> get_event_prediction </strong>\n",
    "\n",
    "To specify the number of records to score you change the record_count to a specific number (e.g., if you want to just predict on say 100 records). By default it assumes you want to apply predictions to the whole dataset. Once completed convert json to a pandas dataframe, and appends any existing labels, and analyze based on score threshold for a particular false positive rate (FPR).\n",
    "\n",
    "</div>\n",
    "\n",
    "this is all you need to run predictions: \n",
    "\n",
    "```python\n",
    "\n",
    "client.get_event_prediction(detectorId=DETECTOR_NAME, \n",
    "                            detectorVersionId=DETECTOR_VERSION,\n",
    "                            eventId = '222222',\n",
    "                            eventTypeName = EVENT_TYPE,\n",
    "                            eventTimestamp = '2020-07-27 12:01:01', \n",
    "                            entities = [{'entityType': ENTITY_TYPE, 'entityId':'11111'}],\n",
    "                            eventVariables=  record)\n",
    "```\n",
    "\n",
    "\n",
    "Example of what a record would look like: \n",
    "\n",
    "```python\n",
    "record = [{'order_amt': '8036.0',\n",
    "  'ip_address': '192.18.59.93',\n",
    "  'email_address': 'synth_george_hayduke@example.com',\n",
    "  'cc_bin': '42785',\n",
    "  'billing_postal': '17740-2745',\n",
    "  'shipping_postal': '20950-6945',\n",
    "  'customer_name': 'Geroge Hayduke'}]\n",
    "```"
   ]
  },
  {
   "cell_type": "code",
   "execution_count": 5,
   "metadata": {},
   "outputs": [
    {
     "name": "stdout",
     "output_type": "stream",
     "text": [
      "\n",
      " -- event variables -- \n",
      "['ip_address', 'email_address', 'user_agent', 'customer_city', 'customer_state', 'customer_postal', 'customer_name', 'customer_address', 'phone_number']\n"
     ]
    }
   ],
   "source": [
    "def get_event_variables(EVENT_TYPE):\n",
    "    \"\"\" return list of variables used by a model \n",
    "    \n",
    "    \"\"\"\n",
    "    response = client.get_event_types(name=EVENT_TYPE)\n",
    "    event_variables = []\n",
    "\n",
    "    for v in response['eventTypes'][0]['eventVariables']:\n",
    "        event_variables.append(v)\n",
    "    return event_variables\n",
    "\n",
    "event_variables = get_event_variables(EVENT_TYPE)\n",
    "print(\"\\n -- event variables -- \")\n",
    "print(event_variables)"
   ]
  },
  {
   "cell_type": "code",
   "execution_count": 6,
   "metadata": {},
   "outputs": [
    {
     "name": "stdout",
     "output_type": "stream",
     "text": [
      "current progress:  100.0 %\n",
      "Process took 120.60 seconds\n",
      "Scored 5000 records\n"
     ]
    }
   ],
   "source": [
    "# record_count = df.shape[0] # -- uncomment this to run all of the records -- \n",
    "dateTimeObj = datetime.now()\n",
    "timestampStr = dateTimeObj.strftime(\"%Y-%m-%dT%H:%M:%SZ\")\n",
    "\n",
    "\n",
    "start = time.time()\n",
    "\n",
    "@dask.delayed\n",
    "def _predict(record):\n",
    "    eventId = uuid.uuid1()\n",
    "    try:\n",
    "        pred = client.get_event_prediction(detectorId=DETECTOR_NAME, \n",
    "                                       detectorVersionId=DETECTOR_VER,\n",
    "                                       eventId = str(eventId),\n",
    "                                       eventTypeName = EVENT_TYPE,\n",
    "                                       eventTimestamp = timestampStr, \n",
    "                                       entities = [{'entityType': ENTITY_TYPE, 'entityId':str(eventId.int)}],\n",
    "                                       eventVariables=  record) \n",
    "        \n",
    "        record[\"score\"]   = pred['modelScores'][0]['scores'][\"{0}_insightscore\".format(MODEL_NAME)]\n",
    "        record[\"outcomes\"]= pred['ruleResults'][0]['outcomes']\n",
    "        return record\n",
    "    \n",
    "    except:\n",
    "        record[\"score\"]   = [\"-999\"]\n",
    "        record[\"outcomes\"]= [\"error\"]\n",
    "        return record\n",
    "\n",
    "    \n",
    "predict_data  = df[event_variables].head(record_count).astype(str).to_dict(orient='records')\n",
    "predict_score = []\n",
    "\n",
    "i=0\n",
    "for record in predict_data:\n",
    "    clear_output(wait=True)\n",
    "    rec = dask.delayed(_predict)(record)\n",
    "    predict_score.append(rec)\n",
    "    i += 1\n",
    "    print(\"current progress: \", round((i/record_count)*100,2), \"%\" )\n",
    "    \n",
    "\n",
    "predict_recs = dask.compute(*predict_score)\n",
    "\n",
    "# Calculate time taken and print results\n",
    "time_taken = time.time() - start\n",
    "tps = len(predict_recs) / time_taken\n",
    "\n",
    "print ('Process took %0.2f seconds' %time_taken)\n",
    "print ('Scored %d records' %len(predict_recs))"
   ]
  },
  {
   "cell_type": "markdown",
   "metadata": {},
   "source": [
    "### Take a look at your predictions\n",
    "-----\n",
    "Each record will have a score and the outcome of any rule conditions met. "
   ]
  },
  {
   "cell_type": "code",
   "execution_count": 7,
   "metadata": {},
   "outputs": [
    {
     "data": {
      "text/html": [
       "<div>\n",
       "<style scoped>\n",
       "    .dataframe tbody tr th:only-of-type {\n",
       "        vertical-align: middle;\n",
       "    }\n",
       "\n",
       "    .dataframe tbody tr th {\n",
       "        vertical-align: top;\n",
       "    }\n",
       "\n",
       "    .dataframe thead th {\n",
       "        text-align: right;\n",
       "    }\n",
       "</style>\n",
       "<table border=\"1\" class=\"dataframe\">\n",
       "  <thead>\n",
       "    <tr style=\"text-align: right;\">\n",
       "      <th></th>\n",
       "      <th>ip_address</th>\n",
       "      <th>email_address</th>\n",
       "      <th>user_agent</th>\n",
       "      <th>customer_city</th>\n",
       "      <th>customer_state</th>\n",
       "      <th>customer_postal</th>\n",
       "      <th>customer_name</th>\n",
       "      <th>customer_address</th>\n",
       "      <th>phone_number</th>\n",
       "      <th>score</th>\n",
       "      <th>outcomes</th>\n",
       "    </tr>\n",
       "  </thead>\n",
       "  <tbody>\n",
       "    <tr>\n",
       "      <th>0</th>\n",
       "      <td>84.138.6.238</td>\n",
       "      <td>synth_tmorton@yahoo.com</td>\n",
       "      <td>Mozilla/5.0 (X11; Linux i686) AppleWebKit/535....</td>\n",
       "      <td>Meganstad</td>\n",
       "      <td>LA</td>\n",
       "      <td>32733.0</td>\n",
       "      <td>Brandon Moran</td>\n",
       "      <td>824 Price Bypass</td>\n",
       "      <td>(555)784 - 5238</td>\n",
       "      <td>5.0</td>\n",
       "      <td>[approve]</td>\n",
       "    </tr>\n",
       "    <tr>\n",
       "      <th>1</th>\n",
       "      <td>194.147.250.63</td>\n",
       "      <td>synth_oscott@yahoo.com</td>\n",
       "      <td>Mozilla/5.0 (Macintosh; PPC Mac OS X 10_6_4 rv...</td>\n",
       "      <td>Christinaport</td>\n",
       "      <td>MN</td>\n",
       "      <td>34319.0</td>\n",
       "      <td>Dominic Murray</td>\n",
       "      <td>13515 Ashley Haven Apt. 472</td>\n",
       "      <td>(555)114 - 6133</td>\n",
       "      <td>4.0</td>\n",
       "      <td>[approve]</td>\n",
       "    </tr>\n",
       "    <tr>\n",
       "      <th>2</th>\n",
       "      <td>192.54.60.50</td>\n",
       "      <td>synth_aoliver@gmail.com</td>\n",
       "      <td>Mozilla/5.0 (iPad; CPU iPad OS 3_1_3 like Mac ...</td>\n",
       "      <td>Donaldfurt</td>\n",
       "      <td>WA</td>\n",
       "      <td>32436.0</td>\n",
       "      <td>Anthony Abbott</td>\n",
       "      <td>039 Amy Glens</td>\n",
       "      <td>(555)780 - 7652</td>\n",
       "      <td>5.0</td>\n",
       "      <td>[approve]</td>\n",
       "    </tr>\n",
       "    <tr>\n",
       "      <th>3</th>\n",
       "      <td>169.120.193.154</td>\n",
       "      <td>synth_clewis@gmail.com</td>\n",
       "      <td>Mozilla/5.0 (Macintosh; PPC Mac OS X 10_10_9; ...</td>\n",
       "      <td>Williamburgh</td>\n",
       "      <td>AL</td>\n",
       "      <td>34399.0</td>\n",
       "      <td>Kimberly Webb</td>\n",
       "      <td>81397 Tom Forge</td>\n",
       "      <td>(555)588 - 4426</td>\n",
       "      <td>938.0</td>\n",
       "      <td>[review]</td>\n",
       "    </tr>\n",
       "    <tr>\n",
       "      <th>4</th>\n",
       "      <td>192.175.55.43</td>\n",
       "      <td>synth_katherinedavis@hotmail.com</td>\n",
       "      <td>Mozilla/5.0 (Macintosh; Intel Mac OS X 10_6_0 ...</td>\n",
       "      <td>East Markland</td>\n",
       "      <td>IL</td>\n",
       "      <td>33690.0</td>\n",
       "      <td>Renee James</td>\n",
       "      <td>6815 Dawson Estate</td>\n",
       "      <td>(555)785 - 8274</td>\n",
       "      <td>16.0</td>\n",
       "      <td>[approve]</td>\n",
       "    </tr>\n",
       "  </tbody>\n",
       "</table>\n",
       "</div>"
      ],
      "text/plain": [
       "        ip_address                     email_address                                         user_agent  customer_city customer_state customer_postal   customer_name             customer_address     phone_number  score   outcomes\n",
       "0     84.138.6.238           synth_tmorton@yahoo.com  Mozilla/5.0 (X11; Linux i686) AppleWebKit/535....      Meganstad             LA         32733.0   Brandon Moran             824 Price Bypass  (555)784 - 5238    5.0  [approve]\n",
       "1   194.147.250.63            synth_oscott@yahoo.com  Mozilla/5.0 (Macintosh; PPC Mac OS X 10_6_4 rv...  Christinaport             MN         34319.0  Dominic Murray  13515 Ashley Haven Apt. 472  (555)114 - 6133    4.0  [approve]\n",
       "2     192.54.60.50           synth_aoliver@gmail.com  Mozilla/5.0 (iPad; CPU iPad OS 3_1_3 like Mac ...     Donaldfurt             WA         32436.0  Anthony Abbott                039 Amy Glens  (555)780 - 7652    5.0  [approve]\n",
       "3  169.120.193.154            synth_clewis@gmail.com  Mozilla/5.0 (Macintosh; PPC Mac OS X 10_10_9; ...   Williamburgh             AL         34399.0   Kimberly Webb              81397 Tom Forge  (555)588 - 4426  938.0   [review]\n",
       "4    192.175.55.43  synth_katherinedavis@hotmail.com  Mozilla/5.0 (Macintosh; Intel Mac OS X 10_6_0 ...  East Markland             IL         33690.0     Renee James           6815 Dawson Estate  (555)785 - 8274   16.0  [approve]"
      ]
     },
     "execution_count": 7,
     "metadata": {},
     "output_type": "execute_result"
    }
   ],
   "source": [
    "predictions = pd.DataFrame.from_dict(predict_recs, orient='columns')\n",
    "predictions.head()"
   ]
  },
  {
   "cell_type": "markdown",
   "metadata": {},
   "source": [
    "### Make a Histogram of Scores \n",
    "-----\n",
    "check out the distrirbution of scores. "
   ]
  },
  {
   "cell_type": "code",
   "execution_count": 13,
   "metadata": {},
   "outputs": [
    {
     "data": {
      "image/png": "[encoded data removed]",
      "text/plain": [
       "<Figure size 1440x720 with 1 Axes>"
      ]
     },
     "metadata": {
      "needs_background": "light"
     },
     "output_type": "display_data"
    }
   ],
   "source": [
    "import matplotlib.pyplot as plt\n",
    "import seaborn as sns\n",
    "\n",
    "predictions['score_bin'] = pd.cut(predictions['score'],100 ,labels= list(range(0,1000,10)))\n",
    "predictions.loc[predictions['score'] >= 985, 'score_outcome'] = 'predicted fraud'\n",
    "predictions.loc[predictions['score'] < 985, 'score_outcome'] = 'predicted legit'\n",
    "ctab = pd.crosstab(predictions['score_bin'], predictions['score_outcome']).reset_index()\n",
    "\n",
    "plt.figure(figsize=(20,10))\n",
    "plt.bar(ctab['score_bin'], ctab['predicted fraud'], width=7)\n",
    "plt.bar(ctab['score_bin'], ctab['predicted legit'], width=7)\n",
    "plt.axvline(x=985, ls='--', C='red')\n",
    "plt.title(\"Sample Data, Score Distribution\")\n",
    "plt.text( 955, 700, 'score >= 985')\n",
    "plt.xlabel('Score')\n",
    "plt.ylabel('Frequency')\n",
    "plt.show()"
   ]
  },
  {
   "cell_type": "markdown",
   "metadata": {},
   "source": [
    "### Take a look at your prediction outcomes\n",
    "-----\n",
    "see the potential impact from actions"
   ]
  },
  {
   "cell_type": "code",
   "execution_count": 9,
   "metadata": {},
   "outputs": [
    {
     "data": {
      "text/html": [
       "<div>\n",
       "<style scoped>\n",
       "    .dataframe tbody tr th:only-of-type {\n",
       "        vertical-align: middle;\n",
       "    }\n",
       "\n",
       "    .dataframe tbody tr th {\n",
       "        vertical-align: top;\n",
       "    }\n",
       "\n",
       "    .dataframe thead th {\n",
       "        text-align: right;\n",
       "    }\n",
       "</style>\n",
       "<table border=\"1\" class=\"dataframe\">\n",
       "  <thead>\n",
       "    <tr style=\"text-align: right;\">\n",
       "      <th></th>\n",
       "      <th>outcomes</th>\n",
       "      <th>mean</th>\n",
       "      <th>count</th>\n",
       "      <th>pct_total</th>\n",
       "    </tr>\n",
       "  </thead>\n",
       "  <tbody>\n",
       "    <tr>\n",
       "      <th>0</th>\n",
       "      <td>['approve']</td>\n",
       "      <td>145.617136</td>\n",
       "      <td>4260</td>\n",
       "      <td>0.8520</td>\n",
       "    </tr>\n",
       "    <tr>\n",
       "      <th>1</th>\n",
       "      <td>['block']</td>\n",
       "      <td>995.695402</td>\n",
       "      <td>174</td>\n",
       "      <td>0.0348</td>\n",
       "    </tr>\n",
       "    <tr>\n",
       "      <th>2</th>\n",
       "      <td>['friction']</td>\n",
       "      <td>715.832402</td>\n",
       "      <td>358</td>\n",
       "      <td>0.0716</td>\n",
       "    </tr>\n",
       "    <tr>\n",
       "      <th>3</th>\n",
       "      <td>['review']</td>\n",
       "      <td>930.423077</td>\n",
       "      <td>208</td>\n",
       "      <td>0.0416</td>\n",
       "    </tr>\n",
       "  </tbody>\n",
       "</table>\n",
       "</div>"
      ],
      "text/plain": [
       "       outcomes        mean  count  pct_total\n",
       "0   ['approve']  145.617136   4260     0.8520\n",
       "1     ['block']  995.695402    174     0.0348\n",
       "2  ['friction']  715.832402    358     0.0716\n",
       "3    ['review']  930.423077    208     0.0416"
      ]
     },
     "execution_count": 9,
     "metadata": {},
     "output_type": "execute_result"
    }
   ],
   "source": [
    "predictions['outcomes'] = predictions['outcomes'].astype(str)\n",
    "pred_summary = predictions.groupby(['outcomes'])['score'].agg(['mean', 'count']).reset_index()\n",
    "pred_summary['pct_total'] = pred_summary['count']/predictions.shape[0]\n",
    "pred_summary"
   ]
  },
  {
   "cell_type": "code",
   "execution_count": 16,
   "metadata": {},
   "outputs": [
    {
     "name": "stdout",
     "output_type": "stream",
     "text": [
      "Confusion Matrix by Outcome\n"
     ]
    },
    {
     "data": {
      "image/png": "[encoded data removed]",
      "text/plain": [
       "<Figure size 1440x360 with 4 Axes>"
      ]
     },
     "metadata": {
      "needs_background": "light"
     },
     "output_type": "display_data"
    }
   ],
   "source": [
    "\n",
    "\n",
    "def model_confusion_matrix(predictions):\n",
    "     \n",
    "    fig, (ax1, ax2) = plt.subplots(nrows=1, ncols=2, figsize=(20, 5))\n",
    "    \n",
    "    print(\"Confusion Matrix by Outcome\")\n",
    "    confusion_matrix = pd.crosstab(df['EVENT_LABEL'], predictions['outcomes'].astype(str), margins=True, rownames=['Actual'], colnames=['Predicted'])\n",
    "    confusion_matrix_pct = pd.crosstab(df['EVENT_LABEL'], predictions['outcomes'].astype(str), normalize=\"all\", margins=True,rownames=['Actual'], colnames=['Predicted']).round(3)\n",
    "    sns.heatmap(confusion_matrix, annot=True, fmt='g',cmap=\"YlGnBu\", ax=ax1)\n",
    "    sns.heatmap(confusion_matrix_pct, annot=True, fmt='g',cmap=\"YlGnBu\", ax=ax2)\n",
    " \n",
    "    ax1.title.set_text('Counts')\n",
    "    ax2.title.set_text('Pct')\n",
    "\n",
    "    \n",
    "    plt.show()\n",
    "    \n",
    "    \n",
    "model_confusion_matrix(predictions)"
   ]
  },
  {
   "cell_type": "markdown",
   "metadata": {},
   "source": [
    "###  Write Predictions to File\n",
    "\n",
    "-----\n",
    "writing out predictions to a file allows you to analyze with other tools like QuickSight \n",
    "\n",
    "```python\n",
    "\n",
    "# -- optionally write predictions to a CSV file -- \n",
    "predictions.to_csv(FILE + \".csv\", index=False)\n",
    "# -- or to a XLS file \n",
    "predictions.to_excel(FILE + \".xlsx\", index=False)\n",
    "\n",
    "```"
   ]
  },
  {
   "cell_type": "code",
   "execution_count": 11,
   "metadata": {},
   "outputs": [],
   "source": [
    "predictions.to_csv(\"project_1_5k_predictions.csv\", index=False)"
   ]
  },
  {
   "cell_type": "code",
   "execution_count": null,
   "metadata": {},
   "outputs": [],
   "source": []
  }
 ],
 "metadata": {
  "kernelspec": {
   "display_name": "conda_amazonei_mxnet_p36",
   "language": "python",
   "name": "conda_amazonei_mxnet_p36"
  },
  "language_info": {
   "codemirror_mode": {
    "name": "ipython",
    "version": 3
   },
   "file_extension": ".py",
   "mimetype": "text/x-python",
   "name": "python",
   "nbconvert_exporter": "python",
   "pygments_lexer": "ipython3",
   "version": "3.6.10"
  }
 },
 "nbformat": 4,
 "nbformat_minor": 4
}
