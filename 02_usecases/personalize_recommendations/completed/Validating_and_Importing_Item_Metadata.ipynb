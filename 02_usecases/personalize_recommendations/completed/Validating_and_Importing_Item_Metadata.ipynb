{
 "cells": [
  {
   "cell_type": "code",
   "execution_count": null,
   "metadata": {},
   "outputs": [],
   "source": []
  },
  {
   "cell_type": "markdown",
   "metadata": {},
   "source": [
    "# Validating and Importing Item Metadata\n",
    "\n",
    "This notebook takes off where the previous notebook finished, if you have not imported your user-item-interaction data yet, please stop here and go complete that first. We leverage the store feature of Jupyter notebooks so without a few of the variables, certain cells may not work.\n",
    "\n",
    "We have chosen the Last.FM dataset for our POC, for more info click below:[here](https://grouplens.org/datasets/hetrec-2011/).\n",
    "\n",
    "\n",
    "## Preparing the Item Metadata\n",
    "\n",
    "This entire notebook focuses on just the item level metadata, you could clone it and repurpose it for user level metadata if you have that. \n",
    "\n",
    "To recap some of the discussion from the previous notebook, we are going to treat the action of a user tagging an artist as a form of positive interaction, and now we are going to look at the data on the artists to see what metadata may be available.\n",
    "\n",
    "```\n",
    "-----------\n",
    "Data format\n",
    "-----------\n",
    "\n",
    "   The data is formatted one entry per line as follows (tab separated, \"\\t\"):\n",
    "\n",
    "   * artists.dat\n",
    "   \n",
    "        id \\t name \\t url \\t pictureURL\n",
    "\n",
    "        Example:\n",
    "        707     Metallica       http://www.last.fm/music/Metallica      http://userserve-ak.last.fm/serve/252/7560709.jpg\n",
    "\n",
    "   * tags.dat\n",
    " \n",
    "        tagID \\t tagValue\n",
    "        1       metal\n",
    " \n",
    "   * user_artists.dat\n",
    "   \n",
    "        userID \\t artistID \\t weight\n",
    "        2       51      13883\n",
    "   \n",
    "   * user_taggedartists.dat\n",
    "  \n",
    "        userID \\t artistID \\t tagID \\t day \\t month \\t year\n",
    "        2       52      13      1       4       2009  \n",
    "  \n",
    "   * user_taggedartists-timestamps.dat\n",
    "\n",
    "        userID \\t artistID \\t tagID \\t timestamp\n",
    "        2       52      13      1238536800000\n",
    "\n",
    "   * user_friends.dat\n",
    "\n",
    "        userID \\t friendID\n",
    "        2       275\n",
    "\n",
    "```\n",
    "\n",
    "As in the interactions dataset things are not exactly clean for us here, what we start out with is an ID for the artist, which was used in the earlier interactions, and then a name (not helpful except to render), but we can see that the tags have a value that looks like it could be genre.\n",
    "\n",
    "What might be helpful for adding metrics to our model d"
   ]
  },
  {
   "cell_type": "code",
   "execution_count": null,
   "metadata": {},
   "outputs": [],
   "source": []
  }
 ],
 "metadata": {
  "kernelspec": {
   "display_name": "conda_python3",
   "language": "python",
   "name": "conda_python3"
  },
  "language_info": {
   "codemirror_mode": {
    "name": "ipython",
    "version": 3
   },
   "file_extension": ".py",
   "mimetype": "text/x-python",
   "name": "python",
   "nbconvert_exporter": "python",
   "pygments_lexer": "ipython3",
   "version": "3.6.5"
  }
 },
 "nbformat": 4,
 "nbformat_minor": 4
}
