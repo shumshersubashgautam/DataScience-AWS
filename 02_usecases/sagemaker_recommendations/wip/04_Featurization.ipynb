{
 "cells": [
  {
   "cell_type": "markdown",
   "metadata": {
    "colab_type": "text",
    "id": "kCeYA79m1DEX"
   },
   "source": [
    "# Using side features: Feature preprocessing"
   ]
  },
  {
   "cell_type": "markdown",
   "metadata": {
    "colab_type": "text",
    "id": "TFJUp0Vdu-TG"
   },
   "source": [
    "One of the great advantages of using a deep learning framework to build recommender models is the freedom to build rich, flexible feature representations.\n",
    "\n",
    "The first step in doing so is preparing the features, as raw features will usually not be immediately usable in a model.\n",
    "\n",
    "For example:\n",
    "\n",
    "- User and item ids may be strings (titles, usernames) or large, noncontiguous integers (database IDs).\n",
    "- Item descriptions could be raw text.\n",
    "- Interaction timestamps could be raw Unix timestamps.\n",
    "\n",
    "These need to be appropriately transformed in order to be useful in building models:\n",
    "\n",
    "- User and item ids have to be translated into embedding vectors: high-dimensional numerical representations that are adjusted during training to help the model predict its objective better.\n",
    "- Raw text needs to be tokenized (split into smaller parts such as individual words) and translated into embeddings.\n",
    "- Numerical features need to be normalized so that their values lie in a small interval around 0.\n",
    "\n",
    "Fortunately, by using TensorFlow we can make such preprocessing part of our model rather than a separate preprocessing step. This is not only convenient, but also ensures that our pre-processing is exactly the same during training and during serving. This makes it safe and easy to deploy models that include even very sophisticated pre-processing.\n",
    "\n",
    "In this tutorial, we are going to focus on recommenders and the preprocessing we need to do on the [MovieLens dataset](https://grouplens.org/datasets/movielens/). If you're interested in a larger tutorial without a recommender system focus, have a look at the full [Keras preprocessing guide](https://keras.io/guides/preprocessing_layers/). "
   ]
  },
  {
   "cell_type": "markdown",
   "metadata": {
    "colab_type": "text",
    "id": "dh8vCHpi52gD"
   },
   "source": [
    "## The MovieLens dataset\n",
    "\n",
    "Let's first have a look at what features we can use from the MovieLens dataset:"
   ]
  },
  {
   "cell_type": "code",
   "execution_count": 1,
   "metadata": {
    "colab": {},
    "colab_type": "code",
    "id": "BxQ_hy7xPH3N"
   },
   "outputs": [
    {
     "name": "stdout",
     "output_type": "stream",
     "text": [
      "{'bucketized_user_age': 45.0,\n",
      " 'movie_genres': array([7]),\n",
      " 'movie_id': b'357',\n",
      " 'movie_title': b\"One Flew Over the Cuckoo's Nest (1975)\",\n",
      " 'raw_user_age': 46.0,\n",
      " 'timestamp': 879024327,\n",
      " 'user_gender': True,\n",
      " 'user_id': b'138',\n",
      " 'user_occupation_label': 4,\n",
      " 'user_occupation_text': b'doctor',\n",
      " 'user_rating': 4.0,\n",
      " 'user_zip_code': b'53211'}\n"
     ]
    }
   ],
   "source": [
    "import pprint\n",
    "\n",
    "import tensorflow_datasets as tfds\n",
    "\n",
    "ratings = tfds.load(\"movie_lens/100k-ratings\", split=\"train\")\n",
    "\n",
    "for x in ratings.take(1).as_numpy_iterator():\n",
    "  pprint.pprint(x)"
   ]
  },
  {
   "cell_type": "markdown",
   "metadata": {
    "colab_type": "text",
    "id": "_6ypp_nVub8J"
   },
   "source": [
    "There are a couple of key features here:\n",
    "\n",
    "- Movie title is useful as a movie identifier.\n",
    "- User id is useful as a user identifier.\n",
    "- Timestamps will allow us to model the effect of time.\n",
    "\n",
    "The first two are categorical features; timestamps are a continuous feature."
   ]
  },
  {
   "cell_type": "markdown",
   "metadata": {
    "colab_type": "text",
    "id": "cp2rd--gvW9w"
   },
   "source": [
    "## Turning categorical features into embeddings\n",
    "\n",
    "A [categorical feature](https://en.wikipedia.org/wiki/Categorical_variable) is a feature that does not express a continuous quantity, but rather takes on one of a set of fixed values.\n",
    "\n",
    "Most deep learning models express these feature by turning them into high-dimensional vectors. During model training, the value of that vector is adjusted to help the model predict its objective better.\n",
    "\n",
    "For example, suppose that our goal is to predict which user is going to watch which movie. To do that, we represent each user and each movie by an embedding vector. Initially, these embeddings will take on random values - but during training, we will adjust them so that embeddings of users and the movies they watch end up closer together.\n",
    "\n",
    "Taking raw categorical features and turning them into embeddings is normally a two-step process:\n",
    "\n",
    "1. Firstly, we need to translate the raw values into a range of contiguous integers, normally by building a mapping (called a \"vocabulary\") that maps raw values (\"Star Wars\") to integers (say, 15).\n",
    "2. Secondly, we need to take these integers and turn them into embeddings."
   ]
  },
  {
   "cell_type": "markdown",
   "metadata": {
    "colab_type": "text",
    "id": "aa-7so1D_9B2"
   },
   "source": [
    "### Defining the vocabulary\n",
    "\n",
    "The first step is to define a vocabulary. We can do this easily using Keras preprocessing layers."
   ]
  },
  {
   "cell_type": "code",
   "execution_count": 2,
   "metadata": {
    "colab": {},
    "colab_type": "code",
    "id": "IkA1HOXKyaEo"
   },
   "outputs": [],
   "source": [
    "import numpy as np\n",
    "import tensorflow as tf\n",
    "\n",
    "movie_title_lookup = tf.keras.layers.experimental.preprocessing.StringLookup()"
   ]
  },
  {
   "cell_type": "markdown",
   "metadata": {
    "colab_type": "text",
    "id": "7We60Iduy2SP"
   },
   "source": [
    "The layer itself does not have a vocabulary yet, but we can build it using our data."
   ]
  },
  {
   "cell_type": "code",
   "execution_count": 3,
   "metadata": {
    "colab": {},
    "colab_type": "code",
    "id": "GKluOy3ly7Pg"
   },
   "outputs": [
    {
     "name": "stdout",
     "output_type": "stream",
     "text": [
      "Vocabulary: ['', '[UNK]', 'Star Wars (1977)']\n"
     ]
    }
   ],
   "source": [
    "movie_title_lookup.adapt(ratings.map(lambda x: x[\"movie_title\"]))\n",
    "\n",
    "print(f\"Vocabulary: {movie_title_lookup.get_vocabulary()[:3]}\")"
   ]
  },
  {
   "cell_type": "markdown",
   "metadata": {
    "colab_type": "text",
    "id": "1cH2Je_KBQZy"
   },
   "source": [
    "Once we have this we can use the layer to translate raw tokens to embedding ids:"
   ]
  },
  {
   "cell_type": "code",
   "execution_count": 4,
   "metadata": {
    "colab": {},
    "colab_type": "code",
    "id": "zXYpfmWDBVOq"
   },
   "outputs": [
    {
     "data": {
      "text/plain": [
       "<tf.Tensor: shape=(2,), dtype=int64, numpy=array([ 2, 59])>"
      ]
     },
     "execution_count": 4,
     "metadata": {},
     "output_type": "execute_result"
    }
   ],
   "source": [
    "movie_title_lookup([\"Star Wars (1977)\", \"One Flew Over the Cuckoo's Nest (1975)\"])"
   ]
  },
  {
   "cell_type": "markdown",
   "metadata": {
    "colab_type": "text",
    "id": "PYXiq04dzTaq"
   },
   "source": [
    "Note that the layer's vocabulary includes one (or more!) unknown (or \"out of vocabulary\", OOV) tokens. This is really handy: it means that the layer can handle categorical values that are not in the vocabulary. In practical terms, this means that the model can continue to learn about and make recommendations even using features that have not been seen during vocabulary construction."
   ]
  },
  {
   "cell_type": "markdown",
   "metadata": {
    "colab_type": "text",
    "id": "qseZxzmBBJvv"
   },
   "source": [
    "### Using feature hashing\n",
    "\n",
    "In fact, the `StringLookup` layer allows us to configure multiple OOV indices. If we do that, any raw value that is not in the vocabulary will be deterministically hashed to one of the OOV indices. The more such indices we have, the less likley it is that two different raw feature values will hash to the same OOV index. Consequently, if we have enough such indices the model should be able to train about as well as a model with an explicit vocabulary without the disdvantage of having to maintain the token list."
   ]
  },
  {
   "cell_type": "markdown",
   "metadata": {
    "colab_type": "text",
    "id": "t0gOaMjJAC17"
   },
   "source": [
    "We can take this to its logical extreme and rely entirely on feature hashing, with no vocabulary at all. This is implemented in the `tf.keras.layers.experimental.preprocessing.Hashing` layer."
   ]
  },
  {
   "cell_type": "code",
   "execution_count": 5,
   "metadata": {
    "colab": {},
    "colab_type": "code",
    "id": "1Os5gwGxzSaG"
   },
   "outputs": [],
   "source": [
    "# We set up a large number of bins to reduce the chance of hash collisions.\n",
    "num_hashing_bins = 200_000\n",
    "\n",
    "movie_title_hashing = tf.keras.layers.experimental.preprocessing.Hashing(\n",
    "    num_bins=num_hashing_bins\n",
    ")"
   ]
  },
  {
   "cell_type": "markdown",
   "metadata": {
    "colab_type": "text",
    "id": "rvcVNCzNB8GE"
   },
   "source": [
    "We can do the lookup as before without the need to build vocabularies:"
   ]
  },
  {
   "cell_type": "code",
   "execution_count": 6,
   "metadata": {
    "colab": {},
    "colab_type": "code",
    "id": "OkEWdeflCAY6"
   },
   "outputs": [
    {
     "data": {
      "text/plain": [
       "<tf.Tensor: shape=(2,), dtype=int64, numpy=array([101016,  96565])>"
      ]
     },
     "execution_count": 6,
     "metadata": {},
     "output_type": "execute_result"
    }
   ],
   "source": [
    "movie_title_hashing([\"Star Wars (1977)\", \"One Flew Over the Cuckoo's Nest (1975)\"])"
   ]
  },
  {
   "cell_type": "markdown",
   "metadata": {
    "colab_type": "text",
    "id": "-QFinPDA0LxM"
   },
   "source": [
    "### Defining the embeddings\n",
    "\n",
    "Now that we integer ids, we can use the [`Embedding`](https://www.tensorflow.org/api_docs/python/tf/keras/layers/Embedding) layer to turn those into embeddings.\n",
    "\n",
    "An embedding layer has two dimensions: the first dimension tells us how many distinct categories we can embed; the second tells us how large the vector representing each of them can be.\n",
    "\n",
    "When creating the embedding layer for movie titles, we are going to set the first value to the size of our title vocabulary (or the number of hashing bins). The second is up to us: the larger it is, the higher the capacity of the model, but the slower it is to fit and serve."
   ]
  },
  {
   "cell_type": "code",
   "execution_count": 7,
   "metadata": {
    "colab": {},
    "colab_type": "code",
    "id": "RUftFomv0nGO"
   },
   "outputs": [],
   "source": [
    "movie_title_embedding = tf.keras.layers.Embedding(\n",
    "    # Let's use the hashing approach.\n",
    "    input_dim=movie_title_lookup.vocab_size(),\n",
    "    output_dim=32\n",
    ")"
   ]
  },
  {
   "cell_type": "markdown",
   "metadata": {
    "colab_type": "text",
    "id": "8JNyTTQq1RIw"
   },
   "source": [
    "We can put the two together into a single layer which takes raw text in and yields embeddings."
   ]
  },
  {
   "cell_type": "code",
   "execution_count": 8,
   "metadata": {
    "colab": {},
    "colab_type": "code",
    "id": "RSbQd_mn1YYe"
   },
   "outputs": [],
   "source": [
    "movie_title_model = tf.keras.Sequential([movie_title_lookup, movie_title_embedding])"
   ]
  },
  {
   "cell_type": "markdown",
   "metadata": {
    "colab_type": "text",
    "id": "4QoA9YHw1gQc"
   },
   "source": [
    "Just like that, we can directly get the embeddings for our movie titles:"
   ]
  },
  {
   "cell_type": "code",
   "execution_count": 9,
   "metadata": {
    "colab": {},
    "colab_type": "code",
    "id": "T-s6uPqM1fZz"
   },
   "outputs": [
    {
     "name": "stdout",
     "output_type": "stream",
     "text": [
      "WARNING:tensorflow:Layers in a Sequential model should only have a single input tensor, but we receive a <class 'list'> input: ['Star Wars (1977)']\n",
      "Consider rewriting this model with the Functional API.\n"
     ]
    },
    {
     "name": "stderr",
     "output_type": "stream",
     "text": [
      "WARNING:tensorflow:Layers in a Sequential model should only have a single input tensor, but we receive a <class 'list'> input: ['Star Wars (1977)']\n",
      "Consider rewriting this model with the Functional API.\n"
     ]
    },
    {
     "data": {
      "text/plain": [
       "<tf.Tensor: shape=(1, 32), dtype=float32, numpy=\n",
       "array([[ 0.02085764, -0.0294531 ,  0.01274749, -0.01732115, -0.0406088 ,\n",
       "        -0.02380923,  0.01357384,  0.02556037, -0.03902637,  0.00863824,\n",
       "         0.0466138 , -0.00842956,  0.03834057,  0.00324158,  0.02452681,\n",
       "        -0.04630945, -0.01746296, -0.00628101, -0.04297893,  0.00993565,\n",
       "         0.01640723,  0.00854002,  0.01565104, -0.0066787 ,  0.04207244,\n",
       "         0.03941843,  0.00129917,  0.03573805, -0.02936193, -0.02581177,\n",
       "        -0.04489652,  0.02680584]], dtype=float32)>"
      ]
     },
     "execution_count": 9,
     "metadata": {},
     "output_type": "execute_result"
    }
   ],
   "source": [
    "movie_title_model([\"Star Wars (1977)\"])"
   ]
  },
  {
   "cell_type": "markdown",
   "metadata": {
    "colab_type": "text",
    "id": "2chJv4jTSg04"
   },
   "source": [
    "We can do the same with user embeddings:"
   ]
  },
  {
   "cell_type": "code",
   "execution_count": 10,
   "metadata": {
    "colab": {},
    "colab_type": "code",
    "id": "3ot3bfX8SgWT"
   },
   "outputs": [],
   "source": [
    "user_id_lookup = tf.keras.layers.experimental.preprocessing.StringLookup()\n",
    "user_id_embedding = tf.keras.layers.Embedding(num_hashing_bins, 32)\n",
    "\n",
    "user_id_lookup.adapt(ratings.map(lambda x: x[\"user_id\"]))\n",
    "\n",
    "user_id_model = tf.keras.Sequential([user_id_lookup, user_id_embedding])"
   ]
  },
  {
   "cell_type": "code",
   "execution_count": 22,
   "metadata": {},
   "outputs": [
    {
     "name": "stdout",
     "output_type": "stream",
     "text": [
      "WARNING:tensorflow:Layers in a Sequential model should only have a single input tensor, but we receive a <class 'list'> input: ['42']\n",
      "Consider rewriting this model with the Functional API.\n"
     ]
    },
    {
     "name": "stderr",
     "output_type": "stream",
     "text": [
      "WARNING:tensorflow:Layers in a Sequential model should only have a single input tensor, but we receive a <class 'list'> input: ['42']\n",
      "Consider rewriting this model with the Functional API.\n"
     ]
    },
    {
     "data": {
      "text/plain": [
       "<tf.Tensor: shape=(1, 32), dtype=float32, numpy=\n",
       "array([[-0.01244099,  0.01526174, -0.00736216,  0.0083094 ,  0.03530972,\n",
       "         0.04368663, -0.00643715, -0.04147034,  0.02701508, -0.01114326,\n",
       "        -0.01668625, -0.00258436,  0.04713   ,  0.03648016,  0.03603603,\n",
       "         0.04696785, -0.0338732 ,  0.04297806,  0.0038888 ,  0.02407162,\n",
       "        -0.00369116, -0.0417181 , -0.03273018,  0.04166155, -0.03826224,\n",
       "        -0.02456763,  0.04578365, -0.03615521,  0.04702557,  0.03928855,\n",
       "        -0.02685968, -0.00430451]], dtype=float32)>"
      ]
     },
     "execution_count": 22,
     "metadata": {},
     "output_type": "execute_result"
    }
   ],
   "source": [
    "user_id_model([\"42\"])"
   ]
  },
  {
   "cell_type": "markdown",
   "metadata": {
    "colab_type": "text",
    "id": "abZNsN3oDf1F"
   },
   "source": [
    "## Normalizing continuous features\n",
    "\n",
    "Continuous features also need normalization. For example, the `timestamp` feature is far too large to be used directly in a deep model:"
   ]
  },
  {
   "cell_type": "code",
   "execution_count": 11,
   "metadata": {
    "colab": {},
    "colab_type": "code",
    "id": "GGcKKOyLDsEY"
   },
   "outputs": [
    {
     "name": "stdout",
     "output_type": "stream",
     "text": [
      "Timestamp: 879024327.\n",
      "Timestamp: 875654590.\n",
      "Timestamp: 882075110.\n"
     ]
    }
   ],
   "source": [
    "for x in ratings.take(3).as_numpy_iterator():\n",
    "  print(f\"Timestamp: {x['timestamp']}.\")"
   ]
  },
  {
   "cell_type": "markdown",
   "metadata": {
    "colab_type": "text",
    "id": "4aL_GMuaEBy0"
   },
   "source": [
    "We need to process it before we can use it. While there are many ways in which we can do this, discretization and standardization are two common ones."
   ]
  },
  {
   "cell_type": "markdown",
   "metadata": {
    "colab_type": "text",
    "id": "iCe-ch7eENNR"
   },
   "source": [
    "### Standardization\n",
    "\n",
    "[Standardization](https://en.wikipedia.org/wiki/Feature_scaling#Standardization_(Z-score_Normalization)) rescales features to normalize their range by subtracting the feature's mean and dividing by its standard deviation. It is a common preprocessing transformation.\n",
    "\n",
    "This can be easily accomplished using the [`tf.keras.layers.experimental.preprocessing.Normalization`](https://www.tensorflow.org/api_docs/python/tf/keras/layers/experimental/preprocessing/Normalization) layer:"
   ]
  },
  {
   "cell_type": "code",
   "execution_count": 12,
   "metadata": {
    "colab": {},
    "colab_type": "code",
    "id": "WxPsx6iSLGrp"
   },
   "outputs": [
    {
     "name": "stdout",
     "output_type": "stream",
     "text": [
      "Normalized timestamp: [[-0.84293705]].\n",
      "Normalized timestamp: [[-1.47352]].\n",
      "Normalized timestamp: [[-0.27203262]].\n"
     ]
    }
   ],
   "source": [
    "timestamp_normalization = tf.keras.layers.experimental.preprocessing.Normalization()\n",
    "timestamp_normalization.adapt(ratings.map(lambda x: x[\"timestamp\"]).batch(1024))\n",
    "\n",
    "for x in ratings.take(3).as_numpy_iterator():\n",
    "  print(f\"Normalized timestamp: {timestamp_normalization(x['timestamp'])}.\")"
   ]
  },
  {
   "cell_type": "markdown",
   "metadata": {
    "colab_type": "text",
    "id": "zW1B974ZPn71"
   },
   "source": [
    "### Discretization\n",
    "\n",
    "Another common transformation is to turn a continuous feature into a number of categorical features. This makes good sense if we have reasons to suspect that a feature's effect is non-continuous.\n",
    "\n",
    "To do this, we first need to establish the boundaries of the buckets we will use for discretization. The easiest way is to identify the minimum and maximum value of the feature, and divide the resulting interval equally:"
   ]
  },
  {
   "cell_type": "code",
   "execution_count": 13,
   "metadata": {
    "colab": {},
    "colab_type": "code",
    "id": "YlJK0rYyQGEf"
   },
   "outputs": [
    {
     "name": "stdout",
     "output_type": "stream",
     "text": [
      "Buckets: [8.74724710e+08 8.74743291e+08 8.74761871e+08]\n"
     ]
    }
   ],
   "source": [
    "max_timestamp = ratings.map(lambda x: x[\"timestamp\"]).reduce(\n",
    "    tf.cast(0, tf.int64), tf.maximum).numpy().max()\n",
    "min_timestamp = ratings.map(lambda x: x[\"timestamp\"]).reduce(\n",
    "    np.int64(1e9), tf.minimum).numpy().min()\n",
    "\n",
    "timestamp_buckets = np.linspace(\n",
    "    min_timestamp, max_timestamp, num=1000)\n",
    "\n",
    "print(f\"Buckets: {timestamp_buckets[:3]}\")"
   ]
  },
  {
   "cell_type": "markdown",
   "metadata": {
    "colab_type": "text",
    "id": "iPS3fh5JQhkO"
   },
   "source": [
    "Given the bucket boundaries we can transform timestamps into embeddings:"
   ]
  },
  {
   "cell_type": "code",
   "execution_count": 14,
   "metadata": {
    "colab": {},
    "colab_type": "code",
    "id": "VCizNzPkQmwK"
   },
   "outputs": [
    {
     "name": "stdout",
     "output_type": "stream",
     "text": [
      "WARNING:tensorflow:AutoGraph could not transform <function <lambda> at 0x7f82fb2951e0> and will run it as-is.\n",
      "Cause: could not parse the source code:\n",
      "\n",
      "for timestamp in ratings.take(1).map(lambda x: x[\"timestamp\"]).batch(1).as_numpy_iterator():\n",
      "\n",
      "This error may be avoided by creating the lambda in a standalone statement.\n",
      "\n",
      "To silence this warning, decorate the function with @tf.autograph.experimental.do_not_convert\n"
     ]
    },
    {
     "name": "stderr",
     "output_type": "stream",
     "text": [
      "WARNING:tensorflow:AutoGraph could not transform <function <lambda> at 0x7f82fb2951e0> and will run it as-is.\n",
      "Cause: could not parse the source code:\n",
      "\n",
      "for timestamp in ratings.take(1).map(lambda x: x[\"timestamp\"]).batch(1).as_numpy_iterator():\n",
      "\n",
      "This error may be avoided by creating the lambda in a standalone statement.\n",
      "\n",
      "To silence this warning, decorate the function with @tf.autograph.experimental.do_not_convert\n"
     ]
    },
    {
     "name": "stdout",
     "output_type": "stream",
     "text": [
      "WARNING: AutoGraph could not transform <function <lambda> at 0x7f82fb2951e0> and will run it as-is.\n",
      "Cause: could not parse the source code:\n",
      "\n",
      "for timestamp in ratings.take(1).map(lambda x: x[\"timestamp\"]).batch(1).as_numpy_iterator():\n",
      "\n",
      "This error may be avoided by creating the lambda in a standalone statement.\n",
      "\n",
      "To silence this warning, decorate the function with @tf.autograph.experimental.do_not_convert\n",
      "Timestamp embedding: [[-0.01034687 -0.01522347  0.03837308  0.01408993 -0.00423201 -0.02812945\n",
      "   0.00732422 -0.01409234  0.01491792  0.0317068   0.04024607 -0.02403854\n",
      "  -0.00012155 -0.04506191  0.02363173 -0.01994796 -0.02622868  0.03239116\n",
      "   0.0223324   0.03242436  0.02621367 -0.02363398 -0.02842282 -0.04397879\n",
      "   0.00196163 -0.04783976 -0.03445512  0.03380859 -0.04448175  0.04441868\n",
      "   0.04969225  0.0308443 ]].\n"
     ]
    }
   ],
   "source": [
    "timestamp_embedding_model = tf.keras.Sequential([\n",
    "  tf.keras.layers.experimental.preprocessing.Discretization(timestamp_buckets.tolist()),\n",
    "  tf.keras.layers.Embedding(len(timestamp_buckets) + 1, 32)\n",
    "])\n",
    "\n",
    "for timestamp in ratings.take(1).map(lambda x: x[\"timestamp\"]).batch(1).as_numpy_iterator():\n",
    "  print(f\"Timestamp embedding: {timestamp_embedding_model(timestamp)}.\")                                       "
   ]
  },
  {
   "cell_type": "markdown",
   "metadata": {
    "colab_type": "text",
    "id": "BWOg0NlGEeWh"
   },
   "source": [
    "## Processing text features\n",
    "\n",
    "We may also want to add text features to our model. Usually, things like product descriptions are free form text, and we can hope that our model can learn to use the information to contain to make better recommendations, especially in a cold-start or long tail scenario.\n",
    "\n",
    "While the MovieLens dataset does not give us rich textual features, we can still use movie titles. This may help us capture the fact that movies with very similar titles are likely to belong to the same series.\n",
    "\n",
    "The first transformation we need to apply to text is tokenization (splitting into constituent words or word-pieces), followed by vocabulary learning, followed by an embedding.\n",
    "\n",
    "The Keras [`tf.keras.layers.experimental.preprocessing.TextVectorization`](https://www.tensorflow.org/api_docs/python/tf/keras/layers/experimental/preprocessing/TextVectorization) layer can do the first two steps for us:"
   ]
  },
  {
   "cell_type": "code",
   "execution_count": 15,
   "metadata": {
    "colab": {},
    "colab_type": "code",
    "id": "TdRa-_BXF7IJ"
   },
   "outputs": [],
   "source": [
    "title_text = tf.keras.layers.experimental.preprocessing.TextVectorization()\n",
    "title_text.adapt(ratings.map(lambda x: x[\"movie_title\"]))"
   ]
  },
  {
   "cell_type": "markdown",
   "metadata": {
    "colab_type": "text",
    "id": "rJkYkgMQGxHL"
   },
   "source": [
    "Let's try it out:"
   ]
  },
  {
   "cell_type": "code",
   "execution_count": 16,
   "metadata": {
    "colab": {},
    "colab_type": "code",
    "id": "YAIj7TGOHAXs"
   },
   "outputs": [
    {
     "name": "stdout",
     "output_type": "stream",
     "text": [
      "WARNING:tensorflow:AutoGraph could not transform <function <lambda> at 0x7f82f4299840> and will run it as-is.\n",
      "Cause: could not parse the source code:\n",
      "\n",
      "for row in ratings.batch(1).map(lambda x: x[\"movie_title\"]).take(1):\n",
      "\n",
      "This error may be avoided by creating the lambda in a standalone statement.\n",
      "\n",
      "To silence this warning, decorate the function with @tf.autograph.experimental.do_not_convert\n"
     ]
    },
    {
     "name": "stderr",
     "output_type": "stream",
     "text": [
      "WARNING:tensorflow:AutoGraph could not transform <function <lambda> at 0x7f82f4299840> and will run it as-is.\n",
      "Cause: could not parse the source code:\n",
      "\n",
      "for row in ratings.batch(1).map(lambda x: x[\"movie_title\"]).take(1):\n",
      "\n",
      "This error may be avoided by creating the lambda in a standalone statement.\n",
      "\n",
      "To silence this warning, decorate the function with @tf.autograph.experimental.do_not_convert\n"
     ]
    },
    {
     "name": "stdout",
     "output_type": "stream",
     "text": [
      "WARNING: AutoGraph could not transform <function <lambda> at 0x7f82f4299840> and will run it as-is.\n",
      "Cause: could not parse the source code:\n",
      "\n",
      "for row in ratings.batch(1).map(lambda x: x[\"movie_title\"]).take(1):\n",
      "\n",
      "This error may be avoided by creating the lambda in a standalone statement.\n",
      "\n",
      "To silence this warning, decorate the function with @tf.autograph.experimental.do_not_convert\n",
      "tf.Tensor([[ 32 266 162   2 267 265  53]], shape=(1, 7), dtype=int64)\n"
     ]
    }
   ],
   "source": [
    "for row in ratings.batch(1).map(lambda x: x[\"movie_title\"]).take(1):\n",
    "  print(title_text(row))"
   ]
  },
  {
   "cell_type": "markdown",
   "metadata": {
    "colab_type": "text",
    "id": "CsQi_QGSH0it"
   },
   "source": [
    "Each title is translated into a sequence of tokens, one for each piece we've tokenized.\n",
    "\n",
    "We can check the learned vocabulary to verify that the layer is using the correct tokenization:"
   ]
  },
  {
   "cell_type": "code",
   "execution_count": 17,
   "metadata": {
    "colab": {},
    "colab_type": "code",
    "id": "0gkJtiNyHzKq"
   },
   "outputs": [
    {
     "data": {
      "text/plain": [
       "['first', '1998', '1977', '1971', 'monty']"
      ]
     },
     "execution_count": 17,
     "metadata": {},
     "output_type": "execute_result"
    }
   ],
   "source": [
    "title_text.get_vocabulary()[40:45]"
   ]
  },
  {
   "cell_type": "markdown",
   "metadata": {
    "colab_type": "text",
    "id": "V_v-HFg0ICQS"
   },
   "source": [
    "This looks correct: the layer is tokenizing titles into individual words.\n",
    "\n",
    "To finish the processing, we now need to embed the text. Because each title contains multiple words, we will get multiple embeddings for each title. For use in a donwstream model these are usually compressed into a single embedding. Models like RNNs or Transformers are useful here, but averaging all the words' embeddings together is a good starting point."
   ]
  },
  {
   "cell_type": "markdown",
   "metadata": {
    "colab_type": "text",
    "id": "RomTZJ6N-z3Y"
   },
   "source": [
    "## Putting it all together\n",
    "\n",
    "With these components in place, we can build a model that does all the preprocessing together."
   ]
  },
  {
   "cell_type": "markdown",
   "metadata": {
    "colab_type": "text",
    "id": "HMukupD2ggQh"
   },
   "source": [
    "### User model\n",
    "\n",
    "The full user model may look like the following:"
   ]
  },
  {
   "cell_type": "code",
   "execution_count": 18,
   "metadata": {
    "colab": {},
    "colab_type": "code",
    "id": "TL_eYNyD-80t"
   },
   "outputs": [],
   "source": [
    "class UserModel(tf.keras.Model):\n",
    "  \n",
    "  def __init__(self):\n",
    "    super().__init__()\n",
    "\n",
    "    num_hashing_bins = 20_000\n",
    "\n",
    "    self.user_embedding = tf.keras.Sequential([\n",
    "        user_id_lookup,\n",
    "        tf.keras.layers.Embedding(user_id_lookup.vocab_size(), 32),\n",
    "    ])\n",
    "    self.timestamp_embedding = tf.keras.Sequential([\n",
    "      tf.keras.layers.experimental.preprocessing.Discretization(timestamp_buckets.tolist()),\n",
    "      tf.keras.layers.Embedding(len(timestamp_buckets) + 2, 32)\n",
    "    ])\n",
    "    self.normalized_timestamp = tf.keras.layers.experimental.preprocessing.Normalization()\n",
    "\n",
    "  def call(self, inputs):\n",
    "\n",
    "    # Take the input dictionary, pass it through each input layer,\n",
    "    # and concatenate the result.\n",
    "    return tf.concat([\n",
    "        self.user_embedding(inputs[\"user_id\"]),\n",
    "        self.timestamp_embedding(inputs[\"timestamp\"]),\n",
    "        self.normalized_timestamp(inputs[\"timestamp\"])\n",
    "    ], axis=1)"
   ]
  },
  {
   "cell_type": "markdown",
   "metadata": {
    "colab_type": "text",
    "id": "6brsz6mnDZV2"
   },
   "source": [
    "Let's try it out:"
   ]
  },
  {
   "cell_type": "code",
   "execution_count": 19,
   "metadata": {
    "colab": {},
    "colab_type": "code",
    "id": "LJlCFMgTDdC4"
   },
   "outputs": [
    {
     "name": "stdout",
     "output_type": "stream",
     "text": [
      "Computed representations: [-0.01945972 -0.04913516 -0.04139034]\n"
     ]
    }
   ],
   "source": [
    "user_model = UserModel()\n",
    "\n",
    "user_model.normalized_timestamp.adapt(\n",
    "    ratings.map(lambda x: x[\"timestamp\"]).batch(128))\n",
    "\n",
    "for row in ratings.batch(1).take(1):\n",
    "  print(f\"Computed representations: {user_model(row)[0, :3]}\")"
   ]
  },
  {
   "cell_type": "markdown",
   "metadata": {
    "colab_type": "text",
    "id": "F_-_kmurEN4E"
   },
   "source": [
    "### Movie model\n",
    "We can do the same for the movie model:"
   ]
  },
  {
   "cell_type": "code",
   "execution_count": 20,
   "metadata": {
    "colab": {},
    "colab_type": "code",
    "id": "n5k7fGmcETPl"
   },
   "outputs": [],
   "source": [
    "class MovieModel(tf.keras.Model):\n",
    "  \n",
    "  def __init__(self):\n",
    "    super().__init__()\n",
    "\n",
    "    max_tokens = 10_000\n",
    "\n",
    "    self.title_embedding = tf.keras.Sequential([\n",
    "      movie_title_lookup,\n",
    "      tf.keras.layers.Embedding(movie_title_lookup.vocab_size(), 32)\n",
    "    ])\n",
    "    self.title_text_embedding = tf.keras.Sequential([\n",
    "      tf.keras.layers.experimental.preprocessing.TextVectorization(max_tokens=max_tokens),\n",
    "      tf.keras.layers.Embedding(max_tokens, 32, mask_zero=True),\n",
    "      # We average the embedding of individual words to get one embedding vector\n",
    "      # per title.\n",
    "      tf.keras.layers.GlobalAveragePooling1D(),\n",
    "    ])\n",
    "\n",
    "  def call(self, inputs):\n",
    "    return tf.concat([\n",
    "        self.title_embedding(inputs[\"movie_title\"]),\n",
    "        self.title_text_embedding(inputs[\"movie_title\"]),\n",
    "    ], axis=1)"
   ]
  },
  {
   "cell_type": "markdown",
   "metadata": {
    "colab_type": "text",
    "id": "QzXelC5kJbsQ"
   },
   "source": [
    "Let's try it out:"
   ]
  },
  {
   "cell_type": "code",
   "execution_count": 24,
   "metadata": {
    "colab": {},
    "colab_type": "code",
    "id": "Tq3BWpzhJapY"
   },
   "outputs": [
    {
     "name": "stdout",
     "output_type": "stream",
     "text": [
      "Computed representations: [0.02863885 0.04373214 0.04244058]\n",
      "Computed representations: [ 0.00800616 -0.02284854 -0.0282163 ]\n"
     ]
    }
   ],
   "source": [
    "movie_model = MovieModel()\n",
    "\n",
    "movie_model.title_text_embedding.layers[0].adapt(\n",
    "    ratings.map(lambda x: x[\"movie_title\"]))\n",
    "\n",
    "for row in ratings.batch(1).take(2):\n",
    "  print(f\"Computed representations: {movie_model(row)[0, :3]}\")"
   ]
  },
  {
   "cell_type": "markdown",
   "metadata": {
    "colab_type": "text",
    "id": "-2dK71mPKoTw"
   },
   "source": [
    "## Next steps\n",
    "\n",
    "With the two models above we've taken the first steps to representing rich features in a recommender model: to take this further and explore how these can be used to build an effective deep recomender model, take a look at our Deep Recommenders tutorial."
   ]
  }
 ],
 "metadata": {
  "colab": {
   "collapsed_sections": [],
   "name": "featurization.ipynb",
   "private_outputs": true,
   "provenance": [],
   "toc_visible": true
  },
  "kernelspec": {
   "display_name": "conda_python3",
   "language": "python",
   "name": "conda_python3"
  },
  "language_info": {
   "codemirror_mode": {
    "name": "ipython",
    "version": 3
   },
   "file_extension": ".py",
   "mimetype": "text/x-python",
   "name": "python",
   "nbconvert_exporter": "python",
   "pygments_lexer": "ipython3",
   "version": "3.6.10"
  }
 },
 "nbformat": 4,
 "nbformat_minor": 4
}
